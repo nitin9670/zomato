{
 "cells": [
  {
   "cell_type": "code",
   "execution_count": 1,
   "id": "ddb07164-a53a-4e52-95bc-144eb1bea1ec",
   "metadata": {},
   "outputs": [],
   "source": [
    "import pandas as pd"
   ]
  },
  {
   "cell_type": "code",
   "execution_count": 2,
   "id": "48ce0d0c-f42f-4cbd-a44c-5bd95e78014a",
   "metadata": {},
   "outputs": [],
   "source": [
    "import numpy as np\n",
    "import seaborn as sns \n",
    "import matplotlib.pyplot as plt\n"
   ]
  },
  {
   "cell_type": "code",
   "execution_count": 3,
   "id": "bb2c3262-1e3a-4ae0-b1d2-a0dfe8a4ac9a",
   "metadata": {},
   "outputs": [],
   "source": [
    "df = pd.read_csv(r\"C:\\Users\\hp1\\Downloads\\zomato.csv\")"
   ]
  },
  {
   "cell_type": "code",
   "execution_count": 4,
   "id": "474213b0-42b4-4089-91f3-0745cbdff715",
   "metadata": {},
   "outputs": [
    {
     "data": {
      "text/html": [
       "<div>\n",
       "<style scoped>\n",
       "    .dataframe tbody tr th:only-of-type {\n",
       "        vertical-align: middle;\n",
       "    }\n",
       "\n",
       "    .dataframe tbody tr th {\n",
       "        vertical-align: top;\n",
       "    }\n",
       "\n",
       "    .dataframe thead th {\n",
       "        text-align: right;\n",
       "    }\n",
       "</style>\n",
       "<table border=\"1\" class=\"dataframe\">\n",
       "  <thead>\n",
       "    <tr style=\"text-align: right;\">\n",
       "      <th></th>\n",
       "      <th>url</th>\n",
       "      <th>address</th>\n",
       "      <th>name</th>\n",
       "      <th>online_order</th>\n",
       "      <th>book_table</th>\n",
       "      <th>rate</th>\n",
       "      <th>votes</th>\n",
       "      <th>phone</th>\n",
       "      <th>location</th>\n",
       "      <th>rest_type</th>\n",
       "      <th>dish_liked</th>\n",
       "      <th>cuisines</th>\n",
       "      <th>approx_cost(for two people)</th>\n",
       "      <th>reviews_list</th>\n",
       "      <th>menu_item</th>\n",
       "      <th>listed_in(type)</th>\n",
       "      <th>listed_in(city)</th>\n",
       "    </tr>\n",
       "  </thead>\n",
       "  <tbody>\n",
       "    <tr>\n",
       "      <th>0</th>\n",
       "      <td>https://www.zomato.com/bangalore/jalsa-banasha...</td>\n",
       "      <td>942, 21st Main Road, 2nd Stage, Banashankari, ...</td>\n",
       "      <td>Jalsa</td>\n",
       "      <td>Yes</td>\n",
       "      <td>Yes</td>\n",
       "      <td>4.1/5</td>\n",
       "      <td>775</td>\n",
       "      <td>080 42297555\\n+91 9743772233</td>\n",
       "      <td>Banashankari</td>\n",
       "      <td>Casual Dining</td>\n",
       "      <td>Pasta, Lunch Buffet, Masala Papad, Paneer Laja...</td>\n",
       "      <td>North Indian, Mughlai, Chinese</td>\n",
       "      <td>800.0</td>\n",
       "      <td>[('Rated 4.0', 'RATED\\n  A beautiful place to ...</td>\n",
       "      <td>[]</td>\n",
       "      <td>Buffet</td>\n",
       "      <td>Banashankari</td>\n",
       "    </tr>\n",
       "    <tr>\n",
       "      <th>1</th>\n",
       "      <td>https://www.zomato.com/bangalore/spice-elephan...</td>\n",
       "      <td>2nd Floor, 80 Feet Road, Near Big Bazaar, 6th ...</td>\n",
       "      <td>Spice Elephant</td>\n",
       "      <td>Yes</td>\n",
       "      <td>No</td>\n",
       "      <td>4.1/5</td>\n",
       "      <td>787</td>\n",
       "      <td>080 41714161</td>\n",
       "      <td>Banashankari</td>\n",
       "      <td>Casual Dining</td>\n",
       "      <td>Momos, Lunch Buffet, Chocolate Nirvana, Thai G...</td>\n",
       "      <td>Chinese, North Indian, Thai</td>\n",
       "      <td>800.0</td>\n",
       "      <td>[('Rated 4.0', 'RATED\\n  Had been here for din...</td>\n",
       "      <td>[]</td>\n",
       "      <td>Buffet</td>\n",
       "      <td>Banashankari</td>\n",
       "    </tr>\n",
       "    <tr>\n",
       "      <th>2</th>\n",
       "      <td>https://www.zomato.com/SanchurroBangalore?cont...</td>\n",
       "      <td>1112, Next to KIMS Medical College, 17th Cross...</td>\n",
       "      <td>San Churro Cafe</td>\n",
       "      <td>Yes</td>\n",
       "      <td>No</td>\n",
       "      <td>3.8/5</td>\n",
       "      <td>918</td>\n",
       "      <td>+91 9663487993</td>\n",
       "      <td>Banashankari</td>\n",
       "      <td>Cafe, Casual Dining</td>\n",
       "      <td>Churros, Cannelloni, Minestrone Soup, Hot Choc...</td>\n",
       "      <td>Cafe, Mexican, Italian</td>\n",
       "      <td>800.0</td>\n",
       "      <td>[('Rated 3.0', \"RATED\\n  Ambience is not that ...</td>\n",
       "      <td>[]</td>\n",
       "      <td>Buffet</td>\n",
       "      <td>Banashankari</td>\n",
       "    </tr>\n",
       "    <tr>\n",
       "      <th>3</th>\n",
       "      <td>https://www.zomato.com/bangalore/addhuri-udupi...</td>\n",
       "      <td>1st Floor, Annakuteera, 3rd Stage, Banashankar...</td>\n",
       "      <td>Addhuri Udupi Bhojana</td>\n",
       "      <td>No</td>\n",
       "      <td>No</td>\n",
       "      <td>3.7/5</td>\n",
       "      <td>88</td>\n",
       "      <td>+91 9620009302</td>\n",
       "      <td>Banashankari</td>\n",
       "      <td>Quick Bites</td>\n",
       "      <td>Masala Dosa</td>\n",
       "      <td>South Indian, North Indian</td>\n",
       "      <td>300.0</td>\n",
       "      <td>[('Rated 4.0', \"RATED\\n  Great food and proper...</td>\n",
       "      <td>[]</td>\n",
       "      <td>Buffet</td>\n",
       "      <td>Banashankari</td>\n",
       "    </tr>\n",
       "    <tr>\n",
       "      <th>4</th>\n",
       "      <td>https://www.zomato.com/bangalore/grand-village...</td>\n",
       "      <td>10, 3rd Floor, Lakshmi Associates, Gandhi Baza...</td>\n",
       "      <td>Grand Village</td>\n",
       "      <td>No</td>\n",
       "      <td>No</td>\n",
       "      <td>3.8/5</td>\n",
       "      <td>166</td>\n",
       "      <td>+91 8026612447\\n+91 9901210005</td>\n",
       "      <td>Basavanagudi</td>\n",
       "      <td>Casual Dining</td>\n",
       "      <td>Panipuri, Gol Gappe</td>\n",
       "      <td>North Indian, Rajasthani</td>\n",
       "      <td>600.0</td>\n",
       "      <td>[('Rated 4.0', 'RATED\\n  Very good restaurant ...</td>\n",
       "      <td>[]</td>\n",
       "      <td>Buffet</td>\n",
       "      <td>Banashankari</td>\n",
       "    </tr>\n",
       "    <tr>\n",
       "      <th>...</th>\n",
       "      <td>...</td>\n",
       "      <td>...</td>\n",
       "      <td>...</td>\n",
       "      <td>...</td>\n",
       "      <td>...</td>\n",
       "      <td>...</td>\n",
       "      <td>...</td>\n",
       "      <td>...</td>\n",
       "      <td>...</td>\n",
       "      <td>...</td>\n",
       "      <td>...</td>\n",
       "      <td>...</td>\n",
       "      <td>...</td>\n",
       "      <td>...</td>\n",
       "      <td>...</td>\n",
       "      <td>...</td>\n",
       "      <td>...</td>\n",
       "    </tr>\n",
       "    <tr>\n",
       "      <th>51712</th>\n",
       "      <td>https://www.zomato.com/bangalore/best-brews-fo...</td>\n",
       "      <td>Four Points by Sheraton Bengaluru, 43/3, White...</td>\n",
       "      <td>Best Brews - Four Points by Sheraton Bengaluru...</td>\n",
       "      <td>No</td>\n",
       "      <td>No</td>\n",
       "      <td>3.6 /5</td>\n",
       "      <td>27</td>\n",
       "      <td>080 40301477</td>\n",
       "      <td>Whitefield</td>\n",
       "      <td>Bar</td>\n",
       "      <td>NaN</td>\n",
       "      <td>Continental</td>\n",
       "      <td>1500.0</td>\n",
       "      <td>[('Rated 5.0', \"RATED\\n  Food and service are ...</td>\n",
       "      <td>[]</td>\n",
       "      <td>Pubs and bars</td>\n",
       "      <td>Whitefield</td>\n",
       "    </tr>\n",
       "    <tr>\n",
       "      <th>51713</th>\n",
       "      <td>https://www.zomato.com/bangalore/vinod-bar-and...</td>\n",
       "      <td>Number 10, Garudachar Palya, Mahadevapura, Whi...</td>\n",
       "      <td>Vinod Bar And Restaurant</td>\n",
       "      <td>No</td>\n",
       "      <td>No</td>\n",
       "      <td>NaN</td>\n",
       "      <td>0</td>\n",
       "      <td>+91 8197675843</td>\n",
       "      <td>Whitefield</td>\n",
       "      <td>Bar</td>\n",
       "      <td>NaN</td>\n",
       "      <td>Finger Food</td>\n",
       "      <td>600.0</td>\n",
       "      <td>[]</td>\n",
       "      <td>[]</td>\n",
       "      <td>Pubs and bars</td>\n",
       "      <td>Whitefield</td>\n",
       "    </tr>\n",
       "    <tr>\n",
       "      <th>51714</th>\n",
       "      <td>https://www.zomato.com/bangalore/plunge-sherat...</td>\n",
       "      <td>Sheraton Grand Bengaluru Whitefield Hotel &amp; Co...</td>\n",
       "      <td>Plunge - Sheraton Grand Bengaluru Whitefield H...</td>\n",
       "      <td>No</td>\n",
       "      <td>No</td>\n",
       "      <td>NaN</td>\n",
       "      <td>0</td>\n",
       "      <td>NaN</td>\n",
       "      <td>Whitefield</td>\n",
       "      <td>Bar</td>\n",
       "      <td>NaN</td>\n",
       "      <td>Finger Food</td>\n",
       "      <td>2000.0</td>\n",
       "      <td>[]</td>\n",
       "      <td>[]</td>\n",
       "      <td>Pubs and bars</td>\n",
       "      <td>Whitefield</td>\n",
       "    </tr>\n",
       "    <tr>\n",
       "      <th>51715</th>\n",
       "      <td>https://www.zomato.com/bangalore/chime-sherato...</td>\n",
       "      <td>Sheraton Grand Bengaluru Whitefield Hotel &amp; Co...</td>\n",
       "      <td>Chime - Sheraton Grand Bengaluru Whitefield Ho...</td>\n",
       "      <td>No</td>\n",
       "      <td>Yes</td>\n",
       "      <td>4.3 /5</td>\n",
       "      <td>236</td>\n",
       "      <td>080 49652769</td>\n",
       "      <td>ITPL Main Road, Whitefield</td>\n",
       "      <td>Bar</td>\n",
       "      <td>Cocktails, Pizza, Buttermilk</td>\n",
       "      <td>Finger Food</td>\n",
       "      <td>2500.0</td>\n",
       "      <td>[('Rated 4.0', 'RATED\\n  Nice and friendly pla...</td>\n",
       "      <td>[]</td>\n",
       "      <td>Pubs and bars</td>\n",
       "      <td>Whitefield</td>\n",
       "    </tr>\n",
       "    <tr>\n",
       "      <th>51716</th>\n",
       "      <td>https://www.zomato.com/bangalore/the-nest-the-...</td>\n",
       "      <td>ITPL Main Road, KIADB Export Promotion Industr...</td>\n",
       "      <td>The Nest - The Den Bengaluru</td>\n",
       "      <td>No</td>\n",
       "      <td>No</td>\n",
       "      <td>3.4 /5</td>\n",
       "      <td>13</td>\n",
       "      <td>+91 8071117272</td>\n",
       "      <td>ITPL Main Road, Whitefield</td>\n",
       "      <td>Bar, Casual Dining</td>\n",
       "      <td>NaN</td>\n",
       "      <td>Finger Food, North Indian, Continental</td>\n",
       "      <td>1500.0</td>\n",
       "      <td>[('Rated 5.0', 'RATED\\n  Great ambience , look...</td>\n",
       "      <td>[]</td>\n",
       "      <td>Pubs and bars</td>\n",
       "      <td>Whitefield</td>\n",
       "    </tr>\n",
       "  </tbody>\n",
       "</table>\n",
       "<p>51717 rows × 17 columns</p>\n",
       "</div>"
      ],
      "text/plain": [
       "                                                     url  \\\n",
       "0      https://www.zomato.com/bangalore/jalsa-banasha...   \n",
       "1      https://www.zomato.com/bangalore/spice-elephan...   \n",
       "2      https://www.zomato.com/SanchurroBangalore?cont...   \n",
       "3      https://www.zomato.com/bangalore/addhuri-udupi...   \n",
       "4      https://www.zomato.com/bangalore/grand-village...   \n",
       "...                                                  ...   \n",
       "51712  https://www.zomato.com/bangalore/best-brews-fo...   \n",
       "51713  https://www.zomato.com/bangalore/vinod-bar-and...   \n",
       "51714  https://www.zomato.com/bangalore/plunge-sherat...   \n",
       "51715  https://www.zomato.com/bangalore/chime-sherato...   \n",
       "51716  https://www.zomato.com/bangalore/the-nest-the-...   \n",
       "\n",
       "                                                 address  \\\n",
       "0      942, 21st Main Road, 2nd Stage, Banashankari, ...   \n",
       "1      2nd Floor, 80 Feet Road, Near Big Bazaar, 6th ...   \n",
       "2      1112, Next to KIMS Medical College, 17th Cross...   \n",
       "3      1st Floor, Annakuteera, 3rd Stage, Banashankar...   \n",
       "4      10, 3rd Floor, Lakshmi Associates, Gandhi Baza...   \n",
       "...                                                  ...   \n",
       "51712  Four Points by Sheraton Bengaluru, 43/3, White...   \n",
       "51713  Number 10, Garudachar Palya, Mahadevapura, Whi...   \n",
       "51714  Sheraton Grand Bengaluru Whitefield Hotel & Co...   \n",
       "51715  Sheraton Grand Bengaluru Whitefield Hotel & Co...   \n",
       "51716  ITPL Main Road, KIADB Export Promotion Industr...   \n",
       "\n",
       "                                                    name online_order  \\\n",
       "0                                                  Jalsa          Yes   \n",
       "1                                         Spice Elephant          Yes   \n",
       "2                                        San Churro Cafe          Yes   \n",
       "3                                  Addhuri Udupi Bhojana           No   \n",
       "4                                          Grand Village           No   \n",
       "...                                                  ...          ...   \n",
       "51712  Best Brews - Four Points by Sheraton Bengaluru...           No   \n",
       "51713                           Vinod Bar And Restaurant           No   \n",
       "51714  Plunge - Sheraton Grand Bengaluru Whitefield H...           No   \n",
       "51715  Chime - Sheraton Grand Bengaluru Whitefield Ho...           No   \n",
       "51716                       The Nest - The Den Bengaluru           No   \n",
       "\n",
       "      book_table    rate  votes                           phone  \\\n",
       "0            Yes   4.1/5    775    080 42297555\\n+91 9743772233   \n",
       "1             No   4.1/5    787                    080 41714161   \n",
       "2             No   3.8/5    918                  +91 9663487993   \n",
       "3             No   3.7/5     88                  +91 9620009302   \n",
       "4             No   3.8/5    166  +91 8026612447\\n+91 9901210005   \n",
       "...          ...     ...    ...                             ...   \n",
       "51712         No  3.6 /5     27                    080 40301477   \n",
       "51713         No     NaN      0                  +91 8197675843   \n",
       "51714         No     NaN      0                             NaN   \n",
       "51715        Yes  4.3 /5    236                    080 49652769   \n",
       "51716         No  3.4 /5     13                  +91 8071117272   \n",
       "\n",
       "                         location            rest_type  \\\n",
       "0                    Banashankari        Casual Dining   \n",
       "1                    Banashankari        Casual Dining   \n",
       "2                    Banashankari  Cafe, Casual Dining   \n",
       "3                    Banashankari          Quick Bites   \n",
       "4                    Basavanagudi        Casual Dining   \n",
       "...                           ...                  ...   \n",
       "51712                  Whitefield                  Bar   \n",
       "51713                  Whitefield                  Bar   \n",
       "51714                  Whitefield                  Bar   \n",
       "51715  ITPL Main Road, Whitefield                  Bar   \n",
       "51716  ITPL Main Road, Whitefield   Bar, Casual Dining   \n",
       "\n",
       "                                              dish_liked  \\\n",
       "0      Pasta, Lunch Buffet, Masala Papad, Paneer Laja...   \n",
       "1      Momos, Lunch Buffet, Chocolate Nirvana, Thai G...   \n",
       "2      Churros, Cannelloni, Minestrone Soup, Hot Choc...   \n",
       "3                                            Masala Dosa   \n",
       "4                                    Panipuri, Gol Gappe   \n",
       "...                                                  ...   \n",
       "51712                                                NaN   \n",
       "51713                                                NaN   \n",
       "51714                                                NaN   \n",
       "51715                       Cocktails, Pizza, Buttermilk   \n",
       "51716                                                NaN   \n",
       "\n",
       "                                     cuisines  approx_cost(for two people)  \\\n",
       "0              North Indian, Mughlai, Chinese                        800.0   \n",
       "1                 Chinese, North Indian, Thai                        800.0   \n",
       "2                      Cafe, Mexican, Italian                        800.0   \n",
       "3                  South Indian, North Indian                        300.0   \n",
       "4                    North Indian, Rajasthani                        600.0   \n",
       "...                                       ...                          ...   \n",
       "51712                             Continental                       1500.0   \n",
       "51713                             Finger Food                        600.0   \n",
       "51714                             Finger Food                       2000.0   \n",
       "51715                             Finger Food                       2500.0   \n",
       "51716  Finger Food, North Indian, Continental                       1500.0   \n",
       "\n",
       "                                            reviews_list menu_item  \\\n",
       "0      [('Rated 4.0', 'RATED\\n  A beautiful place to ...        []   \n",
       "1      [('Rated 4.0', 'RATED\\n  Had been here for din...        []   \n",
       "2      [('Rated 3.0', \"RATED\\n  Ambience is not that ...        []   \n",
       "3      [('Rated 4.0', \"RATED\\n  Great food and proper...        []   \n",
       "4      [('Rated 4.0', 'RATED\\n  Very good restaurant ...        []   \n",
       "...                                                  ...       ...   \n",
       "51712  [('Rated 5.0', \"RATED\\n  Food and service are ...        []   \n",
       "51713                                                 []        []   \n",
       "51714                                                 []        []   \n",
       "51715  [('Rated 4.0', 'RATED\\n  Nice and friendly pla...        []   \n",
       "51716  [('Rated 5.0', 'RATED\\n  Great ambience , look...        []   \n",
       "\n",
       "      listed_in(type) listed_in(city)  \n",
       "0              Buffet    Banashankari  \n",
       "1              Buffet    Banashankari  \n",
       "2              Buffet    Banashankari  \n",
       "3              Buffet    Banashankari  \n",
       "4              Buffet    Banashankari  \n",
       "...               ...             ...  \n",
       "51712   Pubs and bars      Whitefield  \n",
       "51713   Pubs and bars      Whitefield  \n",
       "51714   Pubs and bars      Whitefield  \n",
       "51715   Pubs and bars      Whitefield  \n",
       "51716   Pubs and bars      Whitefield  \n",
       "\n",
       "[51717 rows x 17 columns]"
      ]
     },
     "execution_count": 4,
     "metadata": {},
     "output_type": "execute_result"
    }
   ],
   "source": [
    "df"
   ]
  },
  {
   "cell_type": "code",
   "execution_count": 5,
   "id": "15c5cec7-3088-4b28-96d3-7cc297bd37e7",
   "metadata": {},
   "outputs": [
    {
     "data": {
      "text/html": [
       "<div>\n",
       "<style scoped>\n",
       "    .dataframe tbody tr th:only-of-type {\n",
       "        vertical-align: middle;\n",
       "    }\n",
       "\n",
       "    .dataframe tbody tr th {\n",
       "        vertical-align: top;\n",
       "    }\n",
       "\n",
       "    .dataframe thead th {\n",
       "        text-align: right;\n",
       "    }\n",
       "</style>\n",
       "<table border=\"1\" class=\"dataframe\">\n",
       "  <thead>\n",
       "    <tr style=\"text-align: right;\">\n",
       "      <th></th>\n",
       "      <th>url</th>\n",
       "      <th>address</th>\n",
       "      <th>name</th>\n",
       "      <th>online_order</th>\n",
       "      <th>book_table</th>\n",
       "      <th>rate</th>\n",
       "      <th>votes</th>\n",
       "      <th>phone</th>\n",
       "      <th>location</th>\n",
       "      <th>rest_type</th>\n",
       "      <th>dish_liked</th>\n",
       "      <th>cuisines</th>\n",
       "      <th>approx_cost(for two people)</th>\n",
       "      <th>reviews_list</th>\n",
       "      <th>menu_item</th>\n",
       "      <th>listed_in(type)</th>\n",
       "      <th>listed_in(city)</th>\n",
       "    </tr>\n",
       "  </thead>\n",
       "  <tbody>\n",
       "    <tr>\n",
       "      <th>0</th>\n",
       "      <td>https://www.zomato.com/bangalore/jalsa-banasha...</td>\n",
       "      <td>942, 21st Main Road, 2nd Stage, Banashankari, ...</td>\n",
       "      <td>Jalsa</td>\n",
       "      <td>Yes</td>\n",
       "      <td>Yes</td>\n",
       "      <td>4.1/5</td>\n",
       "      <td>775</td>\n",
       "      <td>080 42297555\\n+91 9743772233</td>\n",
       "      <td>Banashankari</td>\n",
       "      <td>Casual Dining</td>\n",
       "      <td>Pasta, Lunch Buffet, Masala Papad, Paneer Laja...</td>\n",
       "      <td>North Indian, Mughlai, Chinese</td>\n",
       "      <td>800.0</td>\n",
       "      <td>[('Rated 4.0', 'RATED\\n  A beautiful place to ...</td>\n",
       "      <td>[]</td>\n",
       "      <td>Buffet</td>\n",
       "      <td>Banashankari</td>\n",
       "    </tr>\n",
       "    <tr>\n",
       "      <th>1</th>\n",
       "      <td>https://www.zomato.com/bangalore/spice-elephan...</td>\n",
       "      <td>2nd Floor, 80 Feet Road, Near Big Bazaar, 6th ...</td>\n",
       "      <td>Spice Elephant</td>\n",
       "      <td>Yes</td>\n",
       "      <td>No</td>\n",
       "      <td>4.1/5</td>\n",
       "      <td>787</td>\n",
       "      <td>080 41714161</td>\n",
       "      <td>Banashankari</td>\n",
       "      <td>Casual Dining</td>\n",
       "      <td>Momos, Lunch Buffet, Chocolate Nirvana, Thai G...</td>\n",
       "      <td>Chinese, North Indian, Thai</td>\n",
       "      <td>800.0</td>\n",
       "      <td>[('Rated 4.0', 'RATED\\n  Had been here for din...</td>\n",
       "      <td>[]</td>\n",
       "      <td>Buffet</td>\n",
       "      <td>Banashankari</td>\n",
       "    </tr>\n",
       "    <tr>\n",
       "      <th>2</th>\n",
       "      <td>https://www.zomato.com/SanchurroBangalore?cont...</td>\n",
       "      <td>1112, Next to KIMS Medical College, 17th Cross...</td>\n",
       "      <td>San Churro Cafe</td>\n",
       "      <td>Yes</td>\n",
       "      <td>No</td>\n",
       "      <td>3.8/5</td>\n",
       "      <td>918</td>\n",
       "      <td>+91 9663487993</td>\n",
       "      <td>Banashankari</td>\n",
       "      <td>Cafe, Casual Dining</td>\n",
       "      <td>Churros, Cannelloni, Minestrone Soup, Hot Choc...</td>\n",
       "      <td>Cafe, Mexican, Italian</td>\n",
       "      <td>800.0</td>\n",
       "      <td>[('Rated 3.0', \"RATED\\n  Ambience is not that ...</td>\n",
       "      <td>[]</td>\n",
       "      <td>Buffet</td>\n",
       "      <td>Banashankari</td>\n",
       "    </tr>\n",
       "    <tr>\n",
       "      <th>3</th>\n",
       "      <td>https://www.zomato.com/bangalore/addhuri-udupi...</td>\n",
       "      <td>1st Floor, Annakuteera, 3rd Stage, Banashankar...</td>\n",
       "      <td>Addhuri Udupi Bhojana</td>\n",
       "      <td>No</td>\n",
       "      <td>No</td>\n",
       "      <td>3.7/5</td>\n",
       "      <td>88</td>\n",
       "      <td>+91 9620009302</td>\n",
       "      <td>Banashankari</td>\n",
       "      <td>Quick Bites</td>\n",
       "      <td>Masala Dosa</td>\n",
       "      <td>South Indian, North Indian</td>\n",
       "      <td>300.0</td>\n",
       "      <td>[('Rated 4.0', \"RATED\\n  Great food and proper...</td>\n",
       "      <td>[]</td>\n",
       "      <td>Buffet</td>\n",
       "      <td>Banashankari</td>\n",
       "    </tr>\n",
       "    <tr>\n",
       "      <th>4</th>\n",
       "      <td>https://www.zomato.com/bangalore/grand-village...</td>\n",
       "      <td>10, 3rd Floor, Lakshmi Associates, Gandhi Baza...</td>\n",
       "      <td>Grand Village</td>\n",
       "      <td>No</td>\n",
       "      <td>No</td>\n",
       "      <td>3.8/5</td>\n",
       "      <td>166</td>\n",
       "      <td>+91 8026612447\\n+91 9901210005</td>\n",
       "      <td>Basavanagudi</td>\n",
       "      <td>Casual Dining</td>\n",
       "      <td>Panipuri, Gol Gappe</td>\n",
       "      <td>North Indian, Rajasthani</td>\n",
       "      <td>600.0</td>\n",
       "      <td>[('Rated 4.0', 'RATED\\n  Very good restaurant ...</td>\n",
       "      <td>[]</td>\n",
       "      <td>Buffet</td>\n",
       "      <td>Banashankari</td>\n",
       "    </tr>\n",
       "  </tbody>\n",
       "</table>\n",
       "</div>"
      ],
      "text/plain": [
       "                                                 url  \\\n",
       "0  https://www.zomato.com/bangalore/jalsa-banasha...   \n",
       "1  https://www.zomato.com/bangalore/spice-elephan...   \n",
       "2  https://www.zomato.com/SanchurroBangalore?cont...   \n",
       "3  https://www.zomato.com/bangalore/addhuri-udupi...   \n",
       "4  https://www.zomato.com/bangalore/grand-village...   \n",
       "\n",
       "                                             address                   name  \\\n",
       "0  942, 21st Main Road, 2nd Stage, Banashankari, ...                  Jalsa   \n",
       "1  2nd Floor, 80 Feet Road, Near Big Bazaar, 6th ...         Spice Elephant   \n",
       "2  1112, Next to KIMS Medical College, 17th Cross...        San Churro Cafe   \n",
       "3  1st Floor, Annakuteera, 3rd Stage, Banashankar...  Addhuri Udupi Bhojana   \n",
       "4  10, 3rd Floor, Lakshmi Associates, Gandhi Baza...          Grand Village   \n",
       "\n",
       "  online_order book_table   rate  votes                           phone  \\\n",
       "0          Yes        Yes  4.1/5    775    080 42297555\\n+91 9743772233   \n",
       "1          Yes         No  4.1/5    787                    080 41714161   \n",
       "2          Yes         No  3.8/5    918                  +91 9663487993   \n",
       "3           No         No  3.7/5     88                  +91 9620009302   \n",
       "4           No         No  3.8/5    166  +91 8026612447\\n+91 9901210005   \n",
       "\n",
       "       location            rest_type  \\\n",
       "0  Banashankari        Casual Dining   \n",
       "1  Banashankari        Casual Dining   \n",
       "2  Banashankari  Cafe, Casual Dining   \n",
       "3  Banashankari          Quick Bites   \n",
       "4  Basavanagudi        Casual Dining   \n",
       "\n",
       "                                          dish_liked  \\\n",
       "0  Pasta, Lunch Buffet, Masala Papad, Paneer Laja...   \n",
       "1  Momos, Lunch Buffet, Chocolate Nirvana, Thai G...   \n",
       "2  Churros, Cannelloni, Minestrone Soup, Hot Choc...   \n",
       "3                                        Masala Dosa   \n",
       "4                                Panipuri, Gol Gappe   \n",
       "\n",
       "                         cuisines  approx_cost(for two people)  \\\n",
       "0  North Indian, Mughlai, Chinese                        800.0   \n",
       "1     Chinese, North Indian, Thai                        800.0   \n",
       "2          Cafe, Mexican, Italian                        800.0   \n",
       "3      South Indian, North Indian                        300.0   \n",
       "4        North Indian, Rajasthani                        600.0   \n",
       "\n",
       "                                        reviews_list menu_item  \\\n",
       "0  [('Rated 4.0', 'RATED\\n  A beautiful place to ...        []   \n",
       "1  [('Rated 4.0', 'RATED\\n  Had been here for din...        []   \n",
       "2  [('Rated 3.0', \"RATED\\n  Ambience is not that ...        []   \n",
       "3  [('Rated 4.0', \"RATED\\n  Great food and proper...        []   \n",
       "4  [('Rated 4.0', 'RATED\\n  Very good restaurant ...        []   \n",
       "\n",
       "  listed_in(type) listed_in(city)  \n",
       "0          Buffet    Banashankari  \n",
       "1          Buffet    Banashankari  \n",
       "2          Buffet    Banashankari  \n",
       "3          Buffet    Banashankari  \n",
       "4          Buffet    Banashankari  "
      ]
     },
     "execution_count": 5,
     "metadata": {},
     "output_type": "execute_result"
    }
   ],
   "source": [
    "df.head()"
   ]
  },
  {
   "cell_type": "code",
   "execution_count": 6,
   "id": "394e774f-9996-465b-a61b-7d1ab6afcdbc",
   "metadata": {},
   "outputs": [
    {
     "data": {
      "text/plain": [
       "Index(['url', 'address', 'name', 'online_order', 'book_table', 'rate', 'votes',\n",
       "       'phone', 'location', 'rest_type', 'dish_liked', 'cuisines',\n",
       "       'approx_cost(for two people)', 'reviews_list', 'menu_item',\n",
       "       'listed_in(type)', 'listed_in(city)'],\n",
       "      dtype='object')"
      ]
     },
     "execution_count": 6,
     "metadata": {},
     "output_type": "execute_result"
    }
   ],
   "source": [
    "df.columns"
   ]
  },
  {
   "cell_type": "code",
   "execution_count": 7,
   "id": "c3613d11-3f4b-4f73-8acc-39a16fee2250",
   "metadata": {},
   "outputs": [
    {
     "data": {
      "text/plain": [
       "url                                0\n",
       "address                            0\n",
       "name                               0\n",
       "online_order                       0\n",
       "book_table                         0\n",
       "rate                            7775\n",
       "votes                              0\n",
       "phone                           1208\n",
       "location                          21\n",
       "rest_type                        227\n",
       "dish_liked                     28078\n",
       "cuisines                          45\n",
       "approx_cost(for two people)      346\n",
       "reviews_list                      12\n",
       "menu_item                          0\n",
       "listed_in(type)                    0\n",
       "listed_in(city)                    0\n",
       "dtype: int64"
      ]
     },
     "execution_count": 7,
     "metadata": {},
     "output_type": "execute_result"
    }
   ],
   "source": [
    "df.isnull().sum()"
   ]
  },
  {
   "cell_type": "code",
   "execution_count": 8,
   "id": "e3af37a4-3d96-4d62-8cfe-df55cbfc4d4b",
   "metadata": {},
   "outputs": [
    {
     "data": {
      "text/plain": [
       "<bound method DataFrame.info of                                                      url  \\\n",
       "0      https://www.zomato.com/bangalore/jalsa-banasha...   \n",
       "1      https://www.zomato.com/bangalore/spice-elephan...   \n",
       "2      https://www.zomato.com/SanchurroBangalore?cont...   \n",
       "3      https://www.zomato.com/bangalore/addhuri-udupi...   \n",
       "4      https://www.zomato.com/bangalore/grand-village...   \n",
       "...                                                  ...   \n",
       "51712  https://www.zomato.com/bangalore/best-brews-fo...   \n",
       "51713  https://www.zomato.com/bangalore/vinod-bar-and...   \n",
       "51714  https://www.zomato.com/bangalore/plunge-sherat...   \n",
       "51715  https://www.zomato.com/bangalore/chime-sherato...   \n",
       "51716  https://www.zomato.com/bangalore/the-nest-the-...   \n",
       "\n",
       "                                                 address  \\\n",
       "0      942, 21st Main Road, 2nd Stage, Banashankari, ...   \n",
       "1      2nd Floor, 80 Feet Road, Near Big Bazaar, 6th ...   \n",
       "2      1112, Next to KIMS Medical College, 17th Cross...   \n",
       "3      1st Floor, Annakuteera, 3rd Stage, Banashankar...   \n",
       "4      10, 3rd Floor, Lakshmi Associates, Gandhi Baza...   \n",
       "...                                                  ...   \n",
       "51712  Four Points by Sheraton Bengaluru, 43/3, White...   \n",
       "51713  Number 10, Garudachar Palya, Mahadevapura, Whi...   \n",
       "51714  Sheraton Grand Bengaluru Whitefield Hotel & Co...   \n",
       "51715  Sheraton Grand Bengaluru Whitefield Hotel & Co...   \n",
       "51716  ITPL Main Road, KIADB Export Promotion Industr...   \n",
       "\n",
       "                                                    name online_order  \\\n",
       "0                                                  Jalsa          Yes   \n",
       "1                                         Spice Elephant          Yes   \n",
       "2                                        San Churro Cafe          Yes   \n",
       "3                                  Addhuri Udupi Bhojana           No   \n",
       "4                                          Grand Village           No   \n",
       "...                                                  ...          ...   \n",
       "51712  Best Brews - Four Points by Sheraton Bengaluru...           No   \n",
       "51713                           Vinod Bar And Restaurant           No   \n",
       "51714  Plunge - Sheraton Grand Bengaluru Whitefield H...           No   \n",
       "51715  Chime - Sheraton Grand Bengaluru Whitefield Ho...           No   \n",
       "51716                       The Nest - The Den Bengaluru           No   \n",
       "\n",
       "      book_table    rate  votes                           phone  \\\n",
       "0            Yes   4.1/5    775    080 42297555\\n+91 9743772233   \n",
       "1             No   4.1/5    787                    080 41714161   \n",
       "2             No   3.8/5    918                  +91 9663487993   \n",
       "3             No   3.7/5     88                  +91 9620009302   \n",
       "4             No   3.8/5    166  +91 8026612447\\n+91 9901210005   \n",
       "...          ...     ...    ...                             ...   \n",
       "51712         No  3.6 /5     27                    080 40301477   \n",
       "51713         No     NaN      0                  +91 8197675843   \n",
       "51714         No     NaN      0                             NaN   \n",
       "51715        Yes  4.3 /5    236                    080 49652769   \n",
       "51716         No  3.4 /5     13                  +91 8071117272   \n",
       "\n",
       "                         location            rest_type  \\\n",
       "0                    Banashankari        Casual Dining   \n",
       "1                    Banashankari        Casual Dining   \n",
       "2                    Banashankari  Cafe, Casual Dining   \n",
       "3                    Banashankari          Quick Bites   \n",
       "4                    Basavanagudi        Casual Dining   \n",
       "...                           ...                  ...   \n",
       "51712                  Whitefield                  Bar   \n",
       "51713                  Whitefield                  Bar   \n",
       "51714                  Whitefield                  Bar   \n",
       "51715  ITPL Main Road, Whitefield                  Bar   \n",
       "51716  ITPL Main Road, Whitefield   Bar, Casual Dining   \n",
       "\n",
       "                                              dish_liked  \\\n",
       "0      Pasta, Lunch Buffet, Masala Papad, Paneer Laja...   \n",
       "1      Momos, Lunch Buffet, Chocolate Nirvana, Thai G...   \n",
       "2      Churros, Cannelloni, Minestrone Soup, Hot Choc...   \n",
       "3                                            Masala Dosa   \n",
       "4                                    Panipuri, Gol Gappe   \n",
       "...                                                  ...   \n",
       "51712                                                NaN   \n",
       "51713                                                NaN   \n",
       "51714                                                NaN   \n",
       "51715                       Cocktails, Pizza, Buttermilk   \n",
       "51716                                                NaN   \n",
       "\n",
       "                                     cuisines  approx_cost(for two people)  \\\n",
       "0              North Indian, Mughlai, Chinese                        800.0   \n",
       "1                 Chinese, North Indian, Thai                        800.0   \n",
       "2                      Cafe, Mexican, Italian                        800.0   \n",
       "3                  South Indian, North Indian                        300.0   \n",
       "4                    North Indian, Rajasthani                        600.0   \n",
       "...                                       ...                          ...   \n",
       "51712                             Continental                       1500.0   \n",
       "51713                             Finger Food                        600.0   \n",
       "51714                             Finger Food                       2000.0   \n",
       "51715                             Finger Food                       2500.0   \n",
       "51716  Finger Food, North Indian, Continental                       1500.0   \n",
       "\n",
       "                                            reviews_list menu_item  \\\n",
       "0      [('Rated 4.0', 'RATED\\n  A beautiful place to ...        []   \n",
       "1      [('Rated 4.0', 'RATED\\n  Had been here for din...        []   \n",
       "2      [('Rated 3.0', \"RATED\\n  Ambience is not that ...        []   \n",
       "3      [('Rated 4.0', \"RATED\\n  Great food and proper...        []   \n",
       "4      [('Rated 4.0', 'RATED\\n  Very good restaurant ...        []   \n",
       "...                                                  ...       ...   \n",
       "51712  [('Rated 5.0', \"RATED\\n  Food and service are ...        []   \n",
       "51713                                                 []        []   \n",
       "51714                                                 []        []   \n",
       "51715  [('Rated 4.0', 'RATED\\n  Nice and friendly pla...        []   \n",
       "51716  [('Rated 5.0', 'RATED\\n  Great ambience , look...        []   \n",
       "\n",
       "      listed_in(type) listed_in(city)  \n",
       "0              Buffet    Banashankari  \n",
       "1              Buffet    Banashankari  \n",
       "2              Buffet    Banashankari  \n",
       "3              Buffet    Banashankari  \n",
       "4              Buffet    Banashankari  \n",
       "...               ...             ...  \n",
       "51712   Pubs and bars      Whitefield  \n",
       "51713   Pubs and bars      Whitefield  \n",
       "51714   Pubs and bars      Whitefield  \n",
       "51715   Pubs and bars      Whitefield  \n",
       "51716   Pubs and bars      Whitefield  \n",
       "\n",
       "[51717 rows x 17 columns]>"
      ]
     },
     "execution_count": 8,
     "metadata": {},
     "output_type": "execute_result"
    }
   ],
   "source": [
    "df.info"
   ]
  },
  {
   "cell_type": "code",
   "execution_count": 9,
   "id": "f02acf9d-434e-46f6-9dd4-dff4440ddb12",
   "metadata": {},
   "outputs": [],
   "source": [
    "new_df = df.drop(['url','address','phone','reviews_list','menu_item','listed_in(city)'],axis=1)"
   ]
  },
  {
   "cell_type": "code",
   "execution_count": 10,
   "id": "fbdab1db-a30a-4d69-8e6d-cef65f8e557b",
   "metadata": {},
   "outputs": [
    {
     "data": {
      "text/html": [
       "<div>\n",
       "<style scoped>\n",
       "    .dataframe tbody tr th:only-of-type {\n",
       "        vertical-align: middle;\n",
       "    }\n",
       "\n",
       "    .dataframe tbody tr th {\n",
       "        vertical-align: top;\n",
       "    }\n",
       "\n",
       "    .dataframe thead th {\n",
       "        text-align: right;\n",
       "    }\n",
       "</style>\n",
       "<table border=\"1\" class=\"dataframe\">\n",
       "  <thead>\n",
       "    <tr style=\"text-align: right;\">\n",
       "      <th></th>\n",
       "      <th>name</th>\n",
       "      <th>online_order</th>\n",
       "      <th>book_table</th>\n",
       "      <th>rate</th>\n",
       "      <th>votes</th>\n",
       "      <th>location</th>\n",
       "      <th>rest_type</th>\n",
       "      <th>dish_liked</th>\n",
       "      <th>cuisines</th>\n",
       "      <th>approx_cost(for two people)</th>\n",
       "      <th>listed_in(type)</th>\n",
       "    </tr>\n",
       "  </thead>\n",
       "  <tbody>\n",
       "    <tr>\n",
       "      <th>0</th>\n",
       "      <td>Jalsa</td>\n",
       "      <td>Yes</td>\n",
       "      <td>Yes</td>\n",
       "      <td>4.1/5</td>\n",
       "      <td>775</td>\n",
       "      <td>Banashankari</td>\n",
       "      <td>Casual Dining</td>\n",
       "      <td>Pasta, Lunch Buffet, Masala Papad, Paneer Laja...</td>\n",
       "      <td>North Indian, Mughlai, Chinese</td>\n",
       "      <td>800.0</td>\n",
       "      <td>Buffet</td>\n",
       "    </tr>\n",
       "    <tr>\n",
       "      <th>1</th>\n",
       "      <td>Spice Elephant</td>\n",
       "      <td>Yes</td>\n",
       "      <td>No</td>\n",
       "      <td>4.1/5</td>\n",
       "      <td>787</td>\n",
       "      <td>Banashankari</td>\n",
       "      <td>Casual Dining</td>\n",
       "      <td>Momos, Lunch Buffet, Chocolate Nirvana, Thai G...</td>\n",
       "      <td>Chinese, North Indian, Thai</td>\n",
       "      <td>800.0</td>\n",
       "      <td>Buffet</td>\n",
       "    </tr>\n",
       "    <tr>\n",
       "      <th>2</th>\n",
       "      <td>San Churro Cafe</td>\n",
       "      <td>Yes</td>\n",
       "      <td>No</td>\n",
       "      <td>3.8/5</td>\n",
       "      <td>918</td>\n",
       "      <td>Banashankari</td>\n",
       "      <td>Cafe, Casual Dining</td>\n",
       "      <td>Churros, Cannelloni, Minestrone Soup, Hot Choc...</td>\n",
       "      <td>Cafe, Mexican, Italian</td>\n",
       "      <td>800.0</td>\n",
       "      <td>Buffet</td>\n",
       "    </tr>\n",
       "    <tr>\n",
       "      <th>3</th>\n",
       "      <td>Addhuri Udupi Bhojana</td>\n",
       "      <td>No</td>\n",
       "      <td>No</td>\n",
       "      <td>3.7/5</td>\n",
       "      <td>88</td>\n",
       "      <td>Banashankari</td>\n",
       "      <td>Quick Bites</td>\n",
       "      <td>Masala Dosa</td>\n",
       "      <td>South Indian, North Indian</td>\n",
       "      <td>300.0</td>\n",
       "      <td>Buffet</td>\n",
       "    </tr>\n",
       "    <tr>\n",
       "      <th>4</th>\n",
       "      <td>Grand Village</td>\n",
       "      <td>No</td>\n",
       "      <td>No</td>\n",
       "      <td>3.8/5</td>\n",
       "      <td>166</td>\n",
       "      <td>Basavanagudi</td>\n",
       "      <td>Casual Dining</td>\n",
       "      <td>Panipuri, Gol Gappe</td>\n",
       "      <td>North Indian, Rajasthani</td>\n",
       "      <td>600.0</td>\n",
       "      <td>Buffet</td>\n",
       "    </tr>\n",
       "    <tr>\n",
       "      <th>...</th>\n",
       "      <td>...</td>\n",
       "      <td>...</td>\n",
       "      <td>...</td>\n",
       "      <td>...</td>\n",
       "      <td>...</td>\n",
       "      <td>...</td>\n",
       "      <td>...</td>\n",
       "      <td>...</td>\n",
       "      <td>...</td>\n",
       "      <td>...</td>\n",
       "      <td>...</td>\n",
       "    </tr>\n",
       "    <tr>\n",
       "      <th>51712</th>\n",
       "      <td>Best Brews - Four Points by Sheraton Bengaluru...</td>\n",
       "      <td>No</td>\n",
       "      <td>No</td>\n",
       "      <td>3.6 /5</td>\n",
       "      <td>27</td>\n",
       "      <td>Whitefield</td>\n",
       "      <td>Bar</td>\n",
       "      <td>NaN</td>\n",
       "      <td>Continental</td>\n",
       "      <td>1500.0</td>\n",
       "      <td>Pubs and bars</td>\n",
       "    </tr>\n",
       "    <tr>\n",
       "      <th>51713</th>\n",
       "      <td>Vinod Bar And Restaurant</td>\n",
       "      <td>No</td>\n",
       "      <td>No</td>\n",
       "      <td>NaN</td>\n",
       "      <td>0</td>\n",
       "      <td>Whitefield</td>\n",
       "      <td>Bar</td>\n",
       "      <td>NaN</td>\n",
       "      <td>Finger Food</td>\n",
       "      <td>600.0</td>\n",
       "      <td>Pubs and bars</td>\n",
       "    </tr>\n",
       "    <tr>\n",
       "      <th>51714</th>\n",
       "      <td>Plunge - Sheraton Grand Bengaluru Whitefield H...</td>\n",
       "      <td>No</td>\n",
       "      <td>No</td>\n",
       "      <td>NaN</td>\n",
       "      <td>0</td>\n",
       "      <td>Whitefield</td>\n",
       "      <td>Bar</td>\n",
       "      <td>NaN</td>\n",
       "      <td>Finger Food</td>\n",
       "      <td>2000.0</td>\n",
       "      <td>Pubs and bars</td>\n",
       "    </tr>\n",
       "    <tr>\n",
       "      <th>51715</th>\n",
       "      <td>Chime - Sheraton Grand Bengaluru Whitefield Ho...</td>\n",
       "      <td>No</td>\n",
       "      <td>Yes</td>\n",
       "      <td>4.3 /5</td>\n",
       "      <td>236</td>\n",
       "      <td>ITPL Main Road, Whitefield</td>\n",
       "      <td>Bar</td>\n",
       "      <td>Cocktails, Pizza, Buttermilk</td>\n",
       "      <td>Finger Food</td>\n",
       "      <td>2500.0</td>\n",
       "      <td>Pubs and bars</td>\n",
       "    </tr>\n",
       "    <tr>\n",
       "      <th>51716</th>\n",
       "      <td>The Nest - The Den Bengaluru</td>\n",
       "      <td>No</td>\n",
       "      <td>No</td>\n",
       "      <td>3.4 /5</td>\n",
       "      <td>13</td>\n",
       "      <td>ITPL Main Road, Whitefield</td>\n",
       "      <td>Bar, Casual Dining</td>\n",
       "      <td>NaN</td>\n",
       "      <td>Finger Food, North Indian, Continental</td>\n",
       "      <td>1500.0</td>\n",
       "      <td>Pubs and bars</td>\n",
       "    </tr>\n",
       "  </tbody>\n",
       "</table>\n",
       "<p>51717 rows × 11 columns</p>\n",
       "</div>"
      ],
      "text/plain": [
       "                                                    name online_order  \\\n",
       "0                                                  Jalsa          Yes   \n",
       "1                                         Spice Elephant          Yes   \n",
       "2                                        San Churro Cafe          Yes   \n",
       "3                                  Addhuri Udupi Bhojana           No   \n",
       "4                                          Grand Village           No   \n",
       "...                                                  ...          ...   \n",
       "51712  Best Brews - Four Points by Sheraton Bengaluru...           No   \n",
       "51713                           Vinod Bar And Restaurant           No   \n",
       "51714  Plunge - Sheraton Grand Bengaluru Whitefield H...           No   \n",
       "51715  Chime - Sheraton Grand Bengaluru Whitefield Ho...           No   \n",
       "51716                       The Nest - The Den Bengaluru           No   \n",
       "\n",
       "      book_table    rate  votes                    location  \\\n",
       "0            Yes   4.1/5    775                Banashankari   \n",
       "1             No   4.1/5    787                Banashankari   \n",
       "2             No   3.8/5    918                Banashankari   \n",
       "3             No   3.7/5     88                Banashankari   \n",
       "4             No   3.8/5    166                Basavanagudi   \n",
       "...          ...     ...    ...                         ...   \n",
       "51712         No  3.6 /5     27                  Whitefield   \n",
       "51713         No     NaN      0                  Whitefield   \n",
       "51714         No     NaN      0                  Whitefield   \n",
       "51715        Yes  4.3 /5    236  ITPL Main Road, Whitefield   \n",
       "51716         No  3.4 /5     13  ITPL Main Road, Whitefield   \n",
       "\n",
       "                 rest_type                                         dish_liked  \\\n",
       "0            Casual Dining  Pasta, Lunch Buffet, Masala Papad, Paneer Laja...   \n",
       "1            Casual Dining  Momos, Lunch Buffet, Chocolate Nirvana, Thai G...   \n",
       "2      Cafe, Casual Dining  Churros, Cannelloni, Minestrone Soup, Hot Choc...   \n",
       "3              Quick Bites                                        Masala Dosa   \n",
       "4            Casual Dining                                Panipuri, Gol Gappe   \n",
       "...                    ...                                                ...   \n",
       "51712                  Bar                                                NaN   \n",
       "51713                  Bar                                                NaN   \n",
       "51714                  Bar                                                NaN   \n",
       "51715                  Bar                       Cocktails, Pizza, Buttermilk   \n",
       "51716   Bar, Casual Dining                                                NaN   \n",
       "\n",
       "                                     cuisines  approx_cost(for two people)  \\\n",
       "0              North Indian, Mughlai, Chinese                        800.0   \n",
       "1                 Chinese, North Indian, Thai                        800.0   \n",
       "2                      Cafe, Mexican, Italian                        800.0   \n",
       "3                  South Indian, North Indian                        300.0   \n",
       "4                    North Indian, Rajasthani                        600.0   \n",
       "...                                       ...                          ...   \n",
       "51712                             Continental                       1500.0   \n",
       "51713                             Finger Food                        600.0   \n",
       "51714                             Finger Food                       2000.0   \n",
       "51715                             Finger Food                       2500.0   \n",
       "51716  Finger Food, North Indian, Continental                       1500.0   \n",
       "\n",
       "      listed_in(type)  \n",
       "0              Buffet  \n",
       "1              Buffet  \n",
       "2              Buffet  \n",
       "3              Buffet  \n",
       "4              Buffet  \n",
       "...               ...  \n",
       "51712   Pubs and bars  \n",
       "51713   Pubs and bars  \n",
       "51714   Pubs and bars  \n",
       "51715   Pubs and bars  \n",
       "51716   Pubs and bars  \n",
       "\n",
       "[51717 rows x 11 columns]"
      ]
     },
     "execution_count": 10,
     "metadata": {},
     "output_type": "execute_result"
    }
   ],
   "source": [
    "new_df"
   ]
  },
  {
   "cell_type": "code",
   "execution_count": 11,
   "id": "35f9675d-5995-4f97-a1fd-a5c7593228ca",
   "metadata": {},
   "outputs": [
    {
     "data": {
      "text/html": [
       "<div>\n",
       "<style scoped>\n",
       "    .dataframe tbody tr th:only-of-type {\n",
       "        vertical-align: middle;\n",
       "    }\n",
       "\n",
       "    .dataframe tbody tr th {\n",
       "        vertical-align: top;\n",
       "    }\n",
       "\n",
       "    .dataframe thead th {\n",
       "        text-align: right;\n",
       "    }\n",
       "</style>\n",
       "<table border=\"1\" class=\"dataframe\">\n",
       "  <thead>\n",
       "    <tr style=\"text-align: right;\">\n",
       "      <th></th>\n",
       "      <th>name</th>\n",
       "      <th>online_order</th>\n",
       "      <th>book_table</th>\n",
       "      <th>rate</th>\n",
       "      <th>votes</th>\n",
       "      <th>location</th>\n",
       "      <th>rest_type</th>\n",
       "      <th>dish_liked</th>\n",
       "      <th>cuisines</th>\n",
       "      <th>approx_cost(for two people)</th>\n",
       "      <th>listed_in(type)</th>\n",
       "    </tr>\n",
       "  </thead>\n",
       "  <tbody>\n",
       "    <tr>\n",
       "      <th>0</th>\n",
       "      <td>Jalsa</td>\n",
       "      <td>Yes</td>\n",
       "      <td>Yes</td>\n",
       "      <td>4.1/5</td>\n",
       "      <td>775</td>\n",
       "      <td>Banashankari</td>\n",
       "      <td>Casual Dining</td>\n",
       "      <td>Pasta, Lunch Buffet, Masala Papad, Paneer Laja...</td>\n",
       "      <td>North Indian, Mughlai, Chinese</td>\n",
       "      <td>800.0</td>\n",
       "      <td>Buffet</td>\n",
       "    </tr>\n",
       "    <tr>\n",
       "      <th>1</th>\n",
       "      <td>Spice Elephant</td>\n",
       "      <td>Yes</td>\n",
       "      <td>No</td>\n",
       "      <td>4.1/5</td>\n",
       "      <td>787</td>\n",
       "      <td>Banashankari</td>\n",
       "      <td>Casual Dining</td>\n",
       "      <td>Momos, Lunch Buffet, Chocolate Nirvana, Thai G...</td>\n",
       "      <td>Chinese, North Indian, Thai</td>\n",
       "      <td>800.0</td>\n",
       "      <td>Buffet</td>\n",
       "    </tr>\n",
       "    <tr>\n",
       "      <th>2</th>\n",
       "      <td>San Churro Cafe</td>\n",
       "      <td>Yes</td>\n",
       "      <td>No</td>\n",
       "      <td>3.8/5</td>\n",
       "      <td>918</td>\n",
       "      <td>Banashankari</td>\n",
       "      <td>Cafe, Casual Dining</td>\n",
       "      <td>Churros, Cannelloni, Minestrone Soup, Hot Choc...</td>\n",
       "      <td>Cafe, Mexican, Italian</td>\n",
       "      <td>800.0</td>\n",
       "      <td>Buffet</td>\n",
       "    </tr>\n",
       "    <tr>\n",
       "      <th>3</th>\n",
       "      <td>Addhuri Udupi Bhojana</td>\n",
       "      <td>No</td>\n",
       "      <td>No</td>\n",
       "      <td>3.7/5</td>\n",
       "      <td>88</td>\n",
       "      <td>Banashankari</td>\n",
       "      <td>Quick Bites</td>\n",
       "      <td>Masala Dosa</td>\n",
       "      <td>South Indian, North Indian</td>\n",
       "      <td>300.0</td>\n",
       "      <td>Buffet</td>\n",
       "    </tr>\n",
       "    <tr>\n",
       "      <th>4</th>\n",
       "      <td>Grand Village</td>\n",
       "      <td>No</td>\n",
       "      <td>No</td>\n",
       "      <td>3.8/5</td>\n",
       "      <td>166</td>\n",
       "      <td>Basavanagudi</td>\n",
       "      <td>Casual Dining</td>\n",
       "      <td>Panipuri, Gol Gappe</td>\n",
       "      <td>North Indian, Rajasthani</td>\n",
       "      <td>600.0</td>\n",
       "      <td>Buffet</td>\n",
       "    </tr>\n",
       "  </tbody>\n",
       "</table>\n",
       "</div>"
      ],
      "text/plain": [
       "                    name online_order book_table   rate  votes      location  \\\n",
       "0                  Jalsa          Yes        Yes  4.1/5    775  Banashankari   \n",
       "1         Spice Elephant          Yes         No  4.1/5    787  Banashankari   \n",
       "2        San Churro Cafe          Yes         No  3.8/5    918  Banashankari   \n",
       "3  Addhuri Udupi Bhojana           No         No  3.7/5     88  Banashankari   \n",
       "4          Grand Village           No         No  3.8/5    166  Basavanagudi   \n",
       "\n",
       "             rest_type                                         dish_liked  \\\n",
       "0        Casual Dining  Pasta, Lunch Buffet, Masala Papad, Paneer Laja...   \n",
       "1        Casual Dining  Momos, Lunch Buffet, Chocolate Nirvana, Thai G...   \n",
       "2  Cafe, Casual Dining  Churros, Cannelloni, Minestrone Soup, Hot Choc...   \n",
       "3          Quick Bites                                        Masala Dosa   \n",
       "4        Casual Dining                                Panipuri, Gol Gappe   \n",
       "\n",
       "                         cuisines  approx_cost(for two people) listed_in(type)  \n",
       "0  North Indian, Mughlai, Chinese                        800.0          Buffet  \n",
       "1     Chinese, North Indian, Thai                        800.0          Buffet  \n",
       "2          Cafe, Mexican, Italian                        800.0          Buffet  \n",
       "3      South Indian, North Indian                        300.0          Buffet  \n",
       "4        North Indian, Rajasthani                        600.0          Buffet  "
      ]
     },
     "execution_count": 11,
     "metadata": {},
     "output_type": "execute_result"
    }
   ],
   "source": [
    "new_df.head()\n"
   ]
  },
  {
   "cell_type": "code",
   "execution_count": 12,
   "id": "1ec06427-fb5e-45f6-898b-5531fddb6b88",
   "metadata": {},
   "outputs": [
    {
     "data": {
      "text/plain": [
       "0                                                 Jalsa\n",
       "1                                        Spice Elephant\n",
       "2                                       San Churro Cafe\n",
       "3                                 Addhuri Udupi Bhojana\n",
       "4                                         Grand Village\n",
       "5                                       Timepass Dinner\n",
       "6       Rosewood International Hotel - Bar & Restaurant\n",
       "7                                                Onesta\n",
       "8                                        Penthouse Cafe\n",
       "9                                             Smacznego\n",
       "10    CafÃÂÃÂÃÂÃÂÃÂÃÂÃÂÃÂ© Down The A...\n",
       "11                                         Cafe Shuffle\n",
       "12                                     The Coffee Shack\n",
       "13                                           Caf-Eleven\n",
       "14                                      San Churro Cafe\n",
       "15                                        Cafe Vivacity\n",
       "16                                         Catch-up-ino\n",
       "17                                     Kirthi's Biryani\n",
       "18                                             T3H Cafe\n",
       "19                        360 Atoms Restaurant And Cafe\n",
       "20                                     The Vintage Cafe\n",
       "21                                         Woodee Pizza\n",
       "22                                      Cafe Coffee Day\n",
       "23                                         My Tea House\n",
       "24                                        Hide Out Cafe\n",
       "25                                            CAFE NOVA\n",
       "26                                         Coffee Tindi\n",
       "27                                       Sea Green Cafe\n",
       "28                                                Cuppa\n",
       "29                                     Srinathji's Cafe\n",
       "30                                            Redberrys\n",
       "31                                           Foodiction\n",
       "32                                          Sweet Truth\n",
       "33                                      Ovenstory Pizza\n",
       "34                                               Faasos\n",
       "35                                      Behrouz Biryani\n",
       "36                                       Fast And Fresh\n",
       "37                                      Szechuan Dragon\n",
       "38                                    Empire Restaurant\n",
       "39                         Maruthi Davangere Benne Dosa\n",
       "40                                            Chaatimes\n",
       "41                                         Havyaka Mess\n",
       "42                                           McDonald's\n",
       "43                                       Domino's Pizza\n",
       "44                                               Onesta\n",
       "45                                             Hotboxit\n",
       "46                                       Kitchen Garden\n",
       "47                                               Recipe\n",
       "48                                        Beijing Bites\n",
       "49                                          Tasty Bytes\n",
       "50                                                Petoo\n",
       "Name: name, dtype: object"
      ]
     },
     "execution_count": 12,
     "metadata": {},
     "output_type": "execute_result"
    }
   ],
   "source": [
    "new_df['name'][:51]"
   ]
  },
  {
   "cell_type": "code",
   "execution_count": 13,
   "id": "22432ca1-ea9a-46b6-ad12-5c2b990e5d39",
   "metadata": {},
   "outputs": [],
   "source": [
    "data = new_df['name'][10]"
   ]
  },
  {
   "cell_type": "code",
   "execution_count": 14,
   "id": "481ecfac-10b2-4bc5-9f09-fc44268e4ea5",
   "metadata": {},
   "outputs": [
    {
     "data": {
      "text/plain": [
       "'CafÃ\\x83Â\\x83Ã\\x82Â\\x83Ã\\x83Â\\x82Ã\\x82Â\\x83Ã\\x83Â\\x83Ã\\x82Â\\x82Ã\\x83Â\\x82Ã\\x82Â© Down The Alley'"
      ]
     },
     "execution_count": 14,
     "metadata": {},
     "output_type": "execute_result"
    }
   ],
   "source": [
    "data"
   ]
  },
  {
   "cell_type": "code",
   "execution_count": 15,
   "id": "8cc418fa-a846-4d2d-a952-bb3935691720",
   "metadata": {},
   "outputs": [
    {
     "data": {
      "text/plain": [
       "'Cafe Down The Alley'"
      ]
     },
     "execution_count": 15,
     "metadata": {},
     "output_type": "execute_result"
    }
   ],
   "source": [
    "data.replace('CafÃ\\x83Â\\x83Ã\\x82Â\\x83Ã\\x83Â\\x82Ã\\x82Â\\x83Ã\\x83Â\\x83Ã\\x82Â\\x82Ã\\x83Â\\x82Ã\\x82Â©','Cafe')"
   ]
  },
  {
   "cell_type": "code",
   "execution_count": 16,
   "id": "4cd27a6f-1c2f-47c6-aa28-55d24ba7219e",
   "metadata": {},
   "outputs": [],
   "source": [
    "import re   "
   ]
  },
  {
   "cell_type": "code",
   "execution_count": 17,
   "id": "88c51687-452f-42a0-87e8-aa7043b4c7fe",
   "metadata": {},
   "outputs": [],
   "source": [
    "def clean_restaurent_name(names):\n",
    "    if isinstance(names,str):    #checking the data type of the name \n",
    "        if re.findall(r\"[a-zA-Z0-9 ]\", names): #checking the relevant pattern\n",
    "            str1 = re.findall(r\"[a-zA-Z0-9 ]\", names) #storing in str1 and returns a list of individual word of resaturent name\n",
    "            cleaned_names = ''.join(str1) #makes the list of words of restaurent name into string\n",
    "            return cleaned_names\n",
    "    else:\n",
    "        return names\n"
   ]
  },
  {
   "cell_type": "code",
   "execution_count": 18,
   "id": "8213050b-cc03-44d0-80bb-3ea8f5f7af3e",
   "metadata": {},
   "outputs": [],
   "source": [
    "new_df['name']=new_df['name'].apply(clean_restaurent_name)"
   ]
  },
  {
   "cell_type": "code",
   "execution_count": 19,
   "id": "7745ca3c-7c86-464e-8193-903f7aac948a",
   "metadata": {},
   "outputs": [
    {
     "data": {
      "text/plain": [
       "0                                             Jalsa\n",
       "1                                    Spice Elephant\n",
       "2                                   San Churro Cafe\n",
       "3                             Addhuri Udupi Bhojana\n",
       "4                                     Grand Village\n",
       "5                                   Timepass Dinner\n",
       "6     Rosewood International Hotel  Bar  Restaurant\n",
       "7                                            Onesta\n",
       "8                                    Penthouse Cafe\n",
       "9                                         Smacznego\n",
       "10                               Caf Down The Alley\n",
       "11                                     Cafe Shuffle\n",
       "12                                 The Coffee Shack\n",
       "13                                        CafEleven\n",
       "14                                  San Churro Cafe\n",
       "15                                    Cafe Vivacity\n",
       "16                                       Catchupino\n",
       "17                                  Kirthis Biryani\n",
       "18                                         T3H Cafe\n",
       "19                    360 Atoms Restaurant And Cafe\n",
       "20                                 The Vintage Cafe\n",
       "21                                     Woodee Pizza\n",
       "22                                  Cafe Coffee Day\n",
       "23                                     My Tea House\n",
       "24                                    Hide Out Cafe\n",
       "25                                        CAFE NOVA\n",
       "26                                     Coffee Tindi\n",
       "27                                   Sea Green Cafe\n",
       "28                                            Cuppa\n",
       "29                                  Srinathjis Cafe\n",
       "30                                        Redberrys\n",
       "31                                       Foodiction\n",
       "32                                      Sweet Truth\n",
       "33                                  Ovenstory Pizza\n",
       "34                                           Faasos\n",
       "35                                  Behrouz Biryani\n",
       "36                                   Fast And Fresh\n",
       "37                                  Szechuan Dragon\n",
       "38                                Empire Restaurant\n",
       "39                     Maruthi Davangere Benne Dosa\n",
       "40                                        Chaatimes\n",
       "41                                     Havyaka Mess\n",
       "42                                        McDonalds\n",
       "43                                    Dominos Pizza\n",
       "44                                           Onesta\n",
       "45                                         Hotboxit\n",
       "46                                   Kitchen Garden\n",
       "47                                           Recipe\n",
       "48                                    Beijing Bites\n",
       "49                                      Tasty Bytes\n",
       "50                                            Petoo\n",
       "Name: name, dtype: object"
      ]
     },
     "execution_count": 19,
     "metadata": {},
     "output_type": "execute_result"
    }
   ],
   "source": [
    "new_df['name'][:51]"
   ]
  },
  {
   "cell_type": "code",
   "execution_count": null,
   "id": "02df6ce1-bf54-41fd-98d0-ecfe5f762898",
   "metadata": {},
   "outputs": [],
   "source": []
  },
  {
   "cell_type": "code",
   "execution_count": 20,
   "id": "6a36d209-3ab9-4f0c-8982-ed35236a9841",
   "metadata": {},
   "outputs": [
    {
     "name": "stdout",
     "output_type": "stream",
     "text": [
      "rate\n",
      "NEW       2208\n",
      "3.9/5     2098\n",
      "3.8/5     2022\n",
      "3.7/5     2011\n",
      "3.9 /5    1874\n",
      "          ... \n",
      "2.2 /5       7\n",
      "2.0 /5       7\n",
      "2.0/5        4\n",
      "1.8 /5       3\n",
      "1.8/5        2\n",
      "Name: count, Length: 64, dtype: int64\n"
     ]
    }
   ],
   "source": [
    "print(new_df['rate'].value_counts())"
   ]
  },
  {
   "cell_type": "code",
   "execution_count": 21,
   "id": "f0c6c3ba-a4ab-4f0b-9dff-eb57fda61d59",
   "metadata": {},
   "outputs": [
    {
     "data": {
      "text/plain": [
       "0    4.1/5\n",
       "1    4.1/5\n",
       "2    3.8/5\n",
       "3    3.7/5\n",
       "4    3.8/5\n",
       "Name: rate, dtype: object"
      ]
     },
     "execution_count": 21,
     "metadata": {},
     "output_type": "execute_result"
    }
   ],
   "source": [
    "new_df['rate'].head()"
   ]
  },
  {
   "cell_type": "code",
   "execution_count": 22,
   "id": "d5b6de2b-da43-4dae-b8f5-03de75588939",
   "metadata": {},
   "outputs": [],
   "source": [
    "a ='3.5/5'"
   ]
  },
  {
   "cell_type": "code",
   "execution_count": 23,
   "id": "d77535a6-a52c-4bfa-a36b-3071cfbdfe36",
   "metadata": {},
   "outputs": [
    {
     "data": {
      "text/plain": [
       "'3.5'"
      ]
     },
     "execution_count": 23,
     "metadata": {},
     "output_type": "execute_result"
    }
   ],
   "source": [
    "a[:3]"
   ]
  },
  {
   "cell_type": "code",
   "execution_count": 24,
   "id": "bb49aff3-43d7-44d1-a4f5-a9ed36457c26",
   "metadata": {},
   "outputs": [
    {
     "data": {
      "text/plain": [
       "3.5"
      ]
     },
     "execution_count": 24,
     "metadata": {},
     "output_type": "execute_result"
    }
   ],
   "source": [
    "float(a.split(\"/\")[0])"
   ]
  },
  {
   "cell_type": "code",
   "execution_count": 25,
   "id": "c02c2f0c-c24a-4ce3-94d0-31c1d48175fa",
   "metadata": {},
   "outputs": [],
   "source": [
    "def rate_conversion(rates):\n",
    "    if rates == \"NEW\" or rates == \"-\":\n",
    "        return np.nan   \n",
    "    elif isinstance(rates,str):\n",
    "        rates_converted = float(str(rates.split(\"/\")[0]))   #can also be done through slicing\n",
    "        return rates_converted\n",
    "    "
   ]
  },
  {
   "cell_type": "code",
   "execution_count": 26,
   "id": "34034c85-0581-4c6b-9948-6ddb35c4626e",
   "metadata": {},
   "outputs": [],
   "source": [
    "new_df['rate']=new_df['rate'].apply(rate_conversion)"
   ]
  },
  {
   "cell_type": "code",
   "execution_count": null,
   "id": "f383fd9c-9b4f-4ecc-899d-32d95e238fda",
   "metadata": {},
   "outputs": [],
   "source": []
  },
  {
   "cell_type": "code",
   "execution_count": 27,
   "id": "7b47f6ee-571e-4ea6-89d0-2439a94f61e8",
   "metadata": {},
   "outputs": [
    {
     "data": {
      "text/plain": [
       "Index(['name', 'online_order', 'book_table', 'rate', 'votes', 'location',\n",
       "       'rest_type', 'dish_liked', 'cuisines', 'approx_cost(for two people)',\n",
       "       'listed_in(type)'],\n",
       "      dtype='object')"
      ]
     },
     "execution_count": 27,
     "metadata": {},
     "output_type": "execute_result"
    }
   ],
   "source": [
    "new_df.columns"
   ]
  },
  {
   "cell_type": "code",
   "execution_count": 28,
   "id": "e1e11d87-8c7f-4d43-bf20-a451c328913b",
   "metadata": {},
   "outputs": [
    {
     "name": "stdout",
     "output_type": "stream",
     "text": [
      "<class 'pandas.core.frame.DataFrame'>\n",
      "RangeIndex: 51717 entries, 0 to 51716\n",
      "Data columns (total 11 columns):\n",
      " #   Column                       Non-Null Count  Dtype  \n",
      "---  ------                       --------------  -----  \n",
      " 0   name                         51717 non-null  object \n",
      " 1   online_order                 51717 non-null  object \n",
      " 2   book_table                   51717 non-null  object \n",
      " 3   rate                         41665 non-null  float64\n",
      " 4   votes                        51717 non-null  int64  \n",
      " 5   location                     51696 non-null  object \n",
      " 6   rest_type                    51490 non-null  object \n",
      " 7   dish_liked                   23639 non-null  object \n",
      " 8   cuisines                     51672 non-null  object \n",
      " 9   approx_cost(for two people)  51371 non-null  float64\n",
      " 10  listed_in(type)              51717 non-null  object \n",
      "dtypes: float64(2), int64(1), object(8)\n",
      "memory usage: 4.3+ MB\n"
     ]
    }
   ],
   "source": [
    "new_df.info()"
   ]
  },
  {
   "cell_type": "code",
   "execution_count": 29,
   "id": "e6b01831-0573-4824-a9ad-1d925fb55262",
   "metadata": {},
   "outputs": [
    {
     "data": {
      "text/plain": [
       "name                               0\n",
       "online_order                       0\n",
       "book_table                         0\n",
       "rate                           10052\n",
       "votes                              0\n",
       "location                          21\n",
       "rest_type                        227\n",
       "dish_liked                     28078\n",
       "cuisines                          45\n",
       "approx_cost(for two people)      346\n",
       "listed_in(type)                    0\n",
       "dtype: int64"
      ]
     },
     "execution_count": 29,
     "metadata": {},
     "output_type": "execute_result"
    }
   ],
   "source": [
    "new_df.isna().sum()"
   ]
  },
  {
   "cell_type": "code",
   "execution_count": 30,
   "id": "f7c78cfb-1c31-40c2-906e-59e5d79ae1f8",
   "metadata": {},
   "outputs": [
    {
     "data": {
      "text/html": [
       "<div>\n",
       "<style scoped>\n",
       "    .dataframe tbody tr th:only-of-type {\n",
       "        vertical-align: middle;\n",
       "    }\n",
       "\n",
       "    .dataframe tbody tr th {\n",
       "        vertical-align: top;\n",
       "    }\n",
       "\n",
       "    .dataframe thead th {\n",
       "        text-align: right;\n",
       "    }\n",
       "</style>\n",
       "<table border=\"1\" class=\"dataframe\">\n",
       "  <thead>\n",
       "    <tr style=\"text-align: right;\">\n",
       "      <th></th>\n",
       "      <th>name</th>\n",
       "      <th>online_order</th>\n",
       "      <th>book_table</th>\n",
       "      <th>rate</th>\n",
       "      <th>votes</th>\n",
       "      <th>location</th>\n",
       "      <th>rest_type</th>\n",
       "      <th>dish_liked</th>\n",
       "      <th>cuisines</th>\n",
       "      <th>approx_cost(for two people)</th>\n",
       "      <th>listed_in(type)</th>\n",
       "    </tr>\n",
       "  </thead>\n",
       "  <tbody>\n",
       "    <tr>\n",
       "      <th>0</th>\n",
       "      <td>Jalsa</td>\n",
       "      <td>Yes</td>\n",
       "      <td>Yes</td>\n",
       "      <td>4.1</td>\n",
       "      <td>775</td>\n",
       "      <td>Banashankari</td>\n",
       "      <td>Casual Dining</td>\n",
       "      <td>Pasta, Lunch Buffet, Masala Papad, Paneer Laja...</td>\n",
       "      <td>North Indian, Mughlai, Chinese</td>\n",
       "      <td>800.0</td>\n",
       "      <td>Buffet</td>\n",
       "    </tr>\n",
       "    <tr>\n",
       "      <th>1</th>\n",
       "      <td>Spice Elephant</td>\n",
       "      <td>Yes</td>\n",
       "      <td>No</td>\n",
       "      <td>4.1</td>\n",
       "      <td>787</td>\n",
       "      <td>Banashankari</td>\n",
       "      <td>Casual Dining</td>\n",
       "      <td>Momos, Lunch Buffet, Chocolate Nirvana, Thai G...</td>\n",
       "      <td>Chinese, North Indian, Thai</td>\n",
       "      <td>800.0</td>\n",
       "      <td>Buffet</td>\n",
       "    </tr>\n",
       "    <tr>\n",
       "      <th>2</th>\n",
       "      <td>San Churro Cafe</td>\n",
       "      <td>Yes</td>\n",
       "      <td>No</td>\n",
       "      <td>3.8</td>\n",
       "      <td>918</td>\n",
       "      <td>Banashankari</td>\n",
       "      <td>Cafe, Casual Dining</td>\n",
       "      <td>Churros, Cannelloni, Minestrone Soup, Hot Choc...</td>\n",
       "      <td>Cafe, Mexican, Italian</td>\n",
       "      <td>800.0</td>\n",
       "      <td>Buffet</td>\n",
       "    </tr>\n",
       "    <tr>\n",
       "      <th>3</th>\n",
       "      <td>Addhuri Udupi Bhojana</td>\n",
       "      <td>No</td>\n",
       "      <td>No</td>\n",
       "      <td>3.7</td>\n",
       "      <td>88</td>\n",
       "      <td>Banashankari</td>\n",
       "      <td>Quick Bites</td>\n",
       "      <td>Masala Dosa</td>\n",
       "      <td>South Indian, North Indian</td>\n",
       "      <td>300.0</td>\n",
       "      <td>Buffet</td>\n",
       "    </tr>\n",
       "    <tr>\n",
       "      <th>4</th>\n",
       "      <td>Grand Village</td>\n",
       "      <td>No</td>\n",
       "      <td>No</td>\n",
       "      <td>3.8</td>\n",
       "      <td>166</td>\n",
       "      <td>Basavanagudi</td>\n",
       "      <td>Casual Dining</td>\n",
       "      <td>Panipuri, Gol Gappe</td>\n",
       "      <td>North Indian, Rajasthani</td>\n",
       "      <td>600.0</td>\n",
       "      <td>Buffet</td>\n",
       "    </tr>\n",
       "  </tbody>\n",
       "</table>\n",
       "</div>"
      ],
      "text/plain": [
       "                    name online_order book_table  rate  votes      location  \\\n",
       "0                  Jalsa          Yes        Yes   4.1    775  Banashankari   \n",
       "1         Spice Elephant          Yes         No   4.1    787  Banashankari   \n",
       "2        San Churro Cafe          Yes         No   3.8    918  Banashankari   \n",
       "3  Addhuri Udupi Bhojana           No         No   3.7     88  Banashankari   \n",
       "4          Grand Village           No         No   3.8    166  Basavanagudi   \n",
       "\n",
       "             rest_type                                         dish_liked  \\\n",
       "0        Casual Dining  Pasta, Lunch Buffet, Masala Papad, Paneer Laja...   \n",
       "1        Casual Dining  Momos, Lunch Buffet, Chocolate Nirvana, Thai G...   \n",
       "2  Cafe, Casual Dining  Churros, Cannelloni, Minestrone Soup, Hot Choc...   \n",
       "3          Quick Bites                                        Masala Dosa   \n",
       "4        Casual Dining                                Panipuri, Gol Gappe   \n",
       "\n",
       "                         cuisines  approx_cost(for two people) listed_in(type)  \n",
       "0  North Indian, Mughlai, Chinese                        800.0          Buffet  \n",
       "1     Chinese, North Indian, Thai                        800.0          Buffet  \n",
       "2          Cafe, Mexican, Italian                        800.0          Buffet  \n",
       "3      South Indian, North Indian                        300.0          Buffet  \n",
       "4        North Indian, Rajasthani                        600.0          Buffet  "
      ]
     },
     "execution_count": 30,
     "metadata": {},
     "output_type": "execute_result"
    }
   ],
   "source": [
    "new_df.drop_duplicates().head()"
   ]
  },
  {
   "cell_type": "code",
   "execution_count": 31,
   "id": "001c2059-183c-498a-b463-2aab61d9c68f",
   "metadata": {},
   "outputs": [
    {
     "data": {
      "text/plain": [
       "location\n",
       "BTM                      5124\n",
       "HSR                      2523\n",
       "Koramangala 5th Block    2504\n",
       "JP Nagar                 2235\n",
       "Whitefield               2144\n",
       "Name: count, dtype: int64"
      ]
     },
     "execution_count": 31,
     "metadata": {},
     "output_type": "execute_result"
    }
   ],
   "source": [
    "# top 5 location with most number of restaurent\n",
    "new_df['location'].value_counts().head()"
   ]
  },
  {
   "cell_type": "code",
   "execution_count": 32,
   "id": "4bda2e05-9c61-4345-82ad-e9fcb821cb2e",
   "metadata": {},
   "outputs": [
    {
     "data": {
      "text/html": [
       "<div>\n",
       "<style scoped>\n",
       "    .dataframe tbody tr th:only-of-type {\n",
       "        vertical-align: middle;\n",
       "    }\n",
       "\n",
       "    .dataframe tbody tr th {\n",
       "        vertical-align: top;\n",
       "    }\n",
       "\n",
       "    .dataframe thead th {\n",
       "        text-align: right;\n",
       "    }\n",
       "</style>\n",
       "<table border=\"1\" class=\"dataframe\">\n",
       "  <thead>\n",
       "    <tr style=\"text-align: right;\">\n",
       "      <th></th>\n",
       "      <th>votes</th>\n",
       "    </tr>\n",
       "    <tr>\n",
       "      <th>name</th>\n",
       "      <th></th>\n",
       "    </tr>\n",
       "  </thead>\n",
       "  <tbody>\n",
       "    <tr>\n",
       "      <th>Byg Brewski Brewing Company</th>\n",
       "      <td>16588.500000</td>\n",
       "    </tr>\n",
       "    <tr>\n",
       "      <th>Toit</th>\n",
       "      <td>14956.000000</td>\n",
       "    </tr>\n",
       "    <tr>\n",
       "      <th>The Black Pearl</th>\n",
       "      <td>9562.333333</td>\n",
       "    </tr>\n",
       "    <tr>\n",
       "      <th>Big Pitcher</th>\n",
       "      <td>9164.500000</td>\n",
       "    </tr>\n",
       "    <tr>\n",
       "      <th>Arbor Brewing Company</th>\n",
       "      <td>8396.545455</td>\n",
       "    </tr>\n",
       "  </tbody>\n",
       "</table>\n",
       "</div>"
      ],
      "text/plain": [
       "                                    votes\n",
       "name                                     \n",
       "Byg Brewski Brewing Company  16588.500000\n",
       "Toit                         14956.000000\n",
       "The Black Pearl               9562.333333\n",
       "Big Pitcher                   9164.500000\n",
       "Arbor Brewing Company         8396.545455"
      ]
     },
     "execution_count": 32,
     "metadata": {},
     "output_type": "execute_result"
    }
   ],
   "source": [
    "# top restaurent which has highest voting can use sum also here\n",
    "new_df.groupby('name')[['votes']].mean().sort_values(by='votes',ascending=False).head()"
   ]
  },
  {
   "cell_type": "code",
   "execution_count": 33,
   "id": "207ed7a3-b9ac-4339-b117-d1adf51d8a53",
   "metadata": {},
   "outputs": [
    {
     "data": {
      "text/html": [
       "<div>\n",
       "<style scoped>\n",
       "    .dataframe tbody tr th:only-of-type {\n",
       "        vertical-align: middle;\n",
       "    }\n",
       "\n",
       "    .dataframe tbody tr th {\n",
       "        vertical-align: top;\n",
       "    }\n",
       "\n",
       "    .dataframe thead th {\n",
       "        text-align: right;\n",
       "    }\n",
       "</style>\n",
       "<table border=\"1\" class=\"dataframe\">\n",
       "  <thead>\n",
       "    <tr style=\"text-align: right;\">\n",
       "      <th></th>\n",
       "      <th>location</th>\n",
       "      <th>count</th>\n",
       "    </tr>\n",
       "  </thead>\n",
       "  <tbody>\n",
       "    <tr>\n",
       "      <th>0</th>\n",
       "      <td>BTM</td>\n",
       "      <td>5124</td>\n",
       "    </tr>\n",
       "    <tr>\n",
       "      <th>1</th>\n",
       "      <td>HSR</td>\n",
       "      <td>2523</td>\n",
       "    </tr>\n",
       "    <tr>\n",
       "      <th>2</th>\n",
       "      <td>Koramangala 5th Block</td>\n",
       "      <td>2504</td>\n",
       "    </tr>\n",
       "    <tr>\n",
       "      <th>3</th>\n",
       "      <td>JP Nagar</td>\n",
       "      <td>2235</td>\n",
       "    </tr>\n",
       "    <tr>\n",
       "      <th>4</th>\n",
       "      <td>Whitefield</td>\n",
       "      <td>2144</td>\n",
       "    </tr>\n",
       "  </tbody>\n",
       "</table>\n",
       "</div>"
      ],
      "text/plain": [
       "                location  count\n",
       "0                    BTM   5124\n",
       "1                    HSR   2523\n",
       "2  Koramangala 5th Block   2504\n",
       "3               JP Nagar   2235\n",
       "4             Whitefield   2144"
      ]
     },
     "execution_count": 33,
     "metadata": {},
     "output_type": "execute_result"
    }
   ],
   "source": [
    "# top 5 location with most number of restaurent\n",
    "top5_location_with_highest_rest = new_df['location'].value_counts().head()\n",
    "top5_location = top5_location_with_highest_rest.reset_index()\n",
    "top5_location.head()"
   ]
  },
  {
   "cell_type": "code",
   "execution_count": 34,
   "id": "c4232b56-936d-4901-a4e3-97142277ae04",
   "metadata": {},
   "outputs": [
    {
     "name": "stderr",
     "output_type": "stream",
     "text": [
      "C:\\Users\\hp1\\AppData\\Local\\Temp\\ipykernel_12884\\541763248.py:1: FutureWarning: \n",
      "\n",
      "Passing `palette` without assigning `hue` is deprecated and will be removed in v0.14.0. Assign the `x` variable to `hue` and set `legend=False` for the same effect.\n",
      "\n",
      "  sns.barplot(data=top5_location,x='location',y='count',palette='deep')\n"
     ]
    },
    {
     "data": {
      "image/png": "[encoded data removed]",
      "text/plain": [
       "<Figure size 640x480 with 1 Axes>"
      ]
     },
     "metadata": {},
     "output_type": "display_data"
    }
   ],
   "source": [
    "sns.barplot(data=top5_location,x='location',y='count',palette='deep')\n",
    "plt.title(\"Top 5 location With Highest restaurent\",color='black')\n",
    "plt.gca().set_facecolor('white') \n",
    "plt.xticks(fontsize=8) \n",
    "plt.show()"
   ]
  },
  {
   "cell_type": "code",
   "execution_count": 35,
   "id": "232d3bd8-a53b-4fbf-861a-53d3057f8e94",
   "metadata": {},
   "outputs": [
    {
     "data": {
      "text/html": [
       "<div>\n",
       "<style scoped>\n",
       "    .dataframe tbody tr th:only-of-type {\n",
       "        vertical-align: middle;\n",
       "    }\n",
       "\n",
       "    .dataframe tbody tr th {\n",
       "        vertical-align: top;\n",
       "    }\n",
       "\n",
       "    .dataframe thead th {\n",
       "        text-align: right;\n",
       "    }\n",
       "</style>\n",
       "<table border=\"1\" class=\"dataframe\">\n",
       "  <thead>\n",
       "    <tr style=\"text-align: right;\">\n",
       "      <th></th>\n",
       "      <th>rate</th>\n",
       "      <th>name</th>\n",
       "    </tr>\n",
       "    <tr>\n",
       "      <th>location</th>\n",
       "      <th></th>\n",
       "      <th></th>\n",
       "    </tr>\n",
       "  </thead>\n",
       "  <tbody>\n",
       "    <tr>\n",
       "      <th>BTM</th>\n",
       "      <td>4.9</td>\n",
       "      <td>sCoolMeal</td>\n",
       "    </tr>\n",
       "    <tr>\n",
       "      <th>Banashankari</th>\n",
       "      <td>4.7</td>\n",
       "      <td>Yo Roll Corner</td>\n",
       "    </tr>\n",
       "    <tr>\n",
       "      <th>Banaswadi</th>\n",
       "      <td>4.4</td>\n",
       "      <td>Zam Zam Restaurant</td>\n",
       "    </tr>\n",
       "    <tr>\n",
       "      <th>Bannerghatta Road</th>\n",
       "      <td>4.6</td>\n",
       "      <td>refuel</td>\n",
       "    </tr>\n",
       "    <tr>\n",
       "      <th>Basavanagudi</th>\n",
       "      <td>4.8</td>\n",
       "      <td>Zephyr</td>\n",
       "    </tr>\n",
       "  </tbody>\n",
       "</table>\n",
       "</div>"
      ],
      "text/plain": [
       "                   rate                name\n",
       "location                                   \n",
       "BTM                 4.9           sCoolMeal\n",
       "Banashankari        4.7      Yo Roll Corner\n",
       "Banaswadi           4.4  Zam Zam Restaurant\n",
       "Bannerghatta Road   4.6              refuel\n",
       "Basavanagudi        4.8              Zephyr"
      ]
     },
     "execution_count": 35,
     "metadata": {},
     "output_type": "execute_result"
    }
   ],
   "source": [
    "# Grouping by Location Only will get max rating and name accprding to lexicographically largest restaurant name\n",
    "# location_df = new_df.groupby('location')\n",
    "# location_df[['rate','name']].max().head()\n",
    "\n",
    "new_df.groupby(['location'])[['rate','name']].max().head()"
   ]
  },
  {
   "cell_type": "code",
   "execution_count": 36,
   "id": "52adf33d-4414-4b21-989b-87de415884a8",
   "metadata": {},
   "outputs": [],
   "source": [
    "# restaurent wiht highest   rating according to location \n",
    "high_rating = new_df.groupby(['location','name'])[['rate']].max().sort_values(by='rate', ascending = False).head()\n"
   ]
  },
  {
   "cell_type": "code",
   "execution_count": 37,
   "id": "0b02bf07-2979-40e6-9f03-5221ea674afe",
   "metadata": {},
   "outputs": [
    {
     "name": "stdout",
     "output_type": "stream",
     "text": [
      "<class 'pandas.core.frame.DataFrame'>\n",
      "RangeIndex: 51717 entries, 0 to 51716\n",
      "Data columns (total 11 columns):\n",
      " #   Column                       Non-Null Count  Dtype  \n",
      "---  ------                       --------------  -----  \n",
      " 0   name                         51717 non-null  object \n",
      " 1   online_order                 51717 non-null  object \n",
      " 2   book_table                   51717 non-null  object \n",
      " 3   rate                         41665 non-null  float64\n",
      " 4   votes                        51717 non-null  int64  \n",
      " 5   location                     51696 non-null  object \n",
      " 6   rest_type                    51490 non-null  object \n",
      " 7   dish_liked                   23639 non-null  object \n",
      " 8   cuisines                     51672 non-null  object \n",
      " 9   approx_cost(for two people)  51371 non-null  float64\n",
      " 10  listed_in(type)              51717 non-null  object \n",
      "dtypes: float64(2), int64(1), object(8)\n",
      "memory usage: 4.3+ MB\n"
     ]
    }
   ],
   "source": [
    "new_df.info()"
   ]
  },
  {
   "cell_type": "code",
   "execution_count": 38,
   "id": "0e96f899-b57c-422a-9ea6-992a1a1e4789",
   "metadata": {},
   "outputs": [],
   "source": [
    "# restaurant with the highest mean votes according to location\n",
    "mean_votes=new_df.groupby(['location','name'])[['votes']].mean().sort_values(by='votes', ascending = False).head()\n",
    "mean_votes['votes']=mean_votes['votes'].round()"
   ]
  },
  {
   "cell_type": "code",
   "execution_count": 39,
   "id": "3d0b52dc-a608-4315-8615-e9dc12ea3954",
   "metadata": {},
   "outputs": [
    {
     "data": {
      "image/png": "[encoded data removed]",
      "text/plain": [
       "<Figure size 640x480 with 1 Axes>"
      ]
     },
     "metadata": {},
     "output_type": "display_data"
    }
   ],
   "source": [
    "sns.barplot(data=mean_votes,x='name',y='votes',hue='location',palette='coolwarm')\n",
    "plt.title('Restaurant with the highest mean votes according to location')\n",
    "plt.xticks(fontsize=9,rotation=25,ha='right')\n",
    "plt.legend(fontsize=8)\n",
    "plt.show()"
   ]
  },
  {
   "cell_type": "code",
   "execution_count": 40,
   "id": "eed27324-dd39-42f1-90cf-66fcba5d1fec",
   "metadata": {},
   "outputs": [
    {
     "data": {
      "text/html": [
       "<div>\n",
       "<style scoped>\n",
       "    .dataframe tbody tr th:only-of-type {\n",
       "        vertical-align: middle;\n",
       "    }\n",
       "\n",
       "    .dataframe tbody tr th {\n",
       "        vertical-align: top;\n",
       "    }\n",
       "\n",
       "    .dataframe thead th {\n",
       "        text-align: right;\n",
       "    }\n",
       "</style>\n",
       "<table border=\"1\" class=\"dataframe\">\n",
       "  <thead>\n",
       "    <tr style=\"text-align: right;\">\n",
       "      <th></th>\n",
       "      <th></th>\n",
       "      <th>votes</th>\n",
       "    </tr>\n",
       "    <tr>\n",
       "      <th>location</th>\n",
       "      <th>name</th>\n",
       "      <th></th>\n",
       "    </tr>\n",
       "  </thead>\n",
       "  <tbody>\n",
       "    <tr>\n",
       "      <th>Sarjapur Road</th>\n",
       "      <th>Byg Brewski Brewing Company</th>\n",
       "      <td>16588.0</td>\n",
       "    </tr>\n",
       "    <tr>\n",
       "      <th>Indiranagar</th>\n",
       "      <th>Toit</th>\n",
       "      <td>14956.0</td>\n",
       "    </tr>\n",
       "    <tr>\n",
       "      <th>Koramangala 5th Block</th>\n",
       "      <th>Truffles</th>\n",
       "      <td>14701.0</td>\n",
       "    </tr>\n",
       "    <tr>\n",
       "      <th>Marathahalli</th>\n",
       "      <th>ABs  Absolute Barbecues</th>\n",
       "      <td>12121.0</td>\n",
       "    </tr>\n",
       "    <tr>\n",
       "      <th>Koramangala 5th Block</th>\n",
       "      <th>The Black Pearl</th>\n",
       "      <td>10499.0</td>\n",
       "    </tr>\n",
       "  </tbody>\n",
       "</table>\n",
       "</div>"
      ],
      "text/plain": [
       "                                                     votes\n",
       "location              name                                \n",
       "Sarjapur Road         Byg Brewski Brewing Company  16588.0\n",
       "Indiranagar           Toit                         14956.0\n",
       "Koramangala 5th Block Truffles                     14701.0\n",
       "Marathahalli          ABs  Absolute Barbecues      12121.0\n",
       "Koramangala 5th Block The Black Pearl              10499.0"
      ]
     },
     "execution_count": 40,
     "metadata": {},
     "output_type": "execute_result"
    }
   ],
   "source": [
    "mean_votes.round()"
   ]
  },
  {
   "cell_type": "code",
   "execution_count": 41,
   "id": "81470f4b-5978-4149-8542-ae57f9501288",
   "metadata": {},
   "outputs": [
    {
     "data": {
      "text/plain": [
       "pandas.core.series.Series"
      ]
     },
     "execution_count": 41,
     "metadata": {},
     "output_type": "execute_result"
    }
   ],
   "source": [
    "type(new_df['rate'])"
   ]
  },
  {
   "cell_type": "code",
   "execution_count": 42,
   "id": "c992fb51-f88c-47c1-b6e5-b1224fe7fd48",
   "metadata": {},
   "outputs": [
    {
     "data": {
      "text/html": [
       "<div>\n",
       "<style scoped>\n",
       "    .dataframe tbody tr th:only-of-type {\n",
       "        vertical-align: middle;\n",
       "    }\n",
       "\n",
       "    .dataframe tbody tr th {\n",
       "        vertical-align: top;\n",
       "    }\n",
       "\n",
       "    .dataframe thead th {\n",
       "        text-align: right;\n",
       "    }\n",
       "</style>\n",
       "<table border=\"1\" class=\"dataframe\">\n",
       "  <thead>\n",
       "    <tr style=\"text-align: right;\">\n",
       "      <th></th>\n",
       "      <th>name</th>\n",
       "      <th>online_order</th>\n",
       "      <th>book_table</th>\n",
       "      <th>rate</th>\n",
       "      <th>votes</th>\n",
       "      <th>location</th>\n",
       "      <th>rest_type</th>\n",
       "      <th>dish_liked</th>\n",
       "      <th>cuisines</th>\n",
       "      <th>approx_cost(for two people)</th>\n",
       "      <th>listed_in(type)</th>\n",
       "    </tr>\n",
       "  </thead>\n",
       "  <tbody>\n",
       "    <tr>\n",
       "      <th>0</th>\n",
       "      <td>Jalsa</td>\n",
       "      <td>Yes</td>\n",
       "      <td>Yes</td>\n",
       "      <td>4.1</td>\n",
       "      <td>775</td>\n",
       "      <td>Banashankari</td>\n",
       "      <td>Casual Dining</td>\n",
       "      <td>Pasta, Lunch Buffet, Masala Papad, Paneer Laja...</td>\n",
       "      <td>North Indian, Mughlai, Chinese</td>\n",
       "      <td>800.0</td>\n",
       "      <td>Buffet</td>\n",
       "    </tr>\n",
       "    <tr>\n",
       "      <th>1</th>\n",
       "      <td>Spice Elephant</td>\n",
       "      <td>Yes</td>\n",
       "      <td>No</td>\n",
       "      <td>4.1</td>\n",
       "      <td>787</td>\n",
       "      <td>Banashankari</td>\n",
       "      <td>Casual Dining</td>\n",
       "      <td>Momos, Lunch Buffet, Chocolate Nirvana, Thai G...</td>\n",
       "      <td>Chinese, North Indian, Thai</td>\n",
       "      <td>800.0</td>\n",
       "      <td>Buffet</td>\n",
       "    </tr>\n",
       "    <tr>\n",
       "      <th>2</th>\n",
       "      <td>San Churro Cafe</td>\n",
       "      <td>Yes</td>\n",
       "      <td>No</td>\n",
       "      <td>3.8</td>\n",
       "      <td>918</td>\n",
       "      <td>Banashankari</td>\n",
       "      <td>Cafe, Casual Dining</td>\n",
       "      <td>Churros, Cannelloni, Minestrone Soup, Hot Choc...</td>\n",
       "      <td>Cafe, Mexican, Italian</td>\n",
       "      <td>800.0</td>\n",
       "      <td>Buffet</td>\n",
       "    </tr>\n",
       "    <tr>\n",
       "      <th>3</th>\n",
       "      <td>Addhuri Udupi Bhojana</td>\n",
       "      <td>No</td>\n",
       "      <td>No</td>\n",
       "      <td>3.7</td>\n",
       "      <td>88</td>\n",
       "      <td>Banashankari</td>\n",
       "      <td>Quick Bites</td>\n",
       "      <td>Masala Dosa</td>\n",
       "      <td>South Indian, North Indian</td>\n",
       "      <td>300.0</td>\n",
       "      <td>Buffet</td>\n",
       "    </tr>\n",
       "    <tr>\n",
       "      <th>4</th>\n",
       "      <td>Grand Village</td>\n",
       "      <td>No</td>\n",
       "      <td>No</td>\n",
       "      <td>3.8</td>\n",
       "      <td>166</td>\n",
       "      <td>Basavanagudi</td>\n",
       "      <td>Casual Dining</td>\n",
       "      <td>Panipuri, Gol Gappe</td>\n",
       "      <td>North Indian, Rajasthani</td>\n",
       "      <td>600.0</td>\n",
       "      <td>Buffet</td>\n",
       "    </tr>\n",
       "  </tbody>\n",
       "</table>\n",
       "</div>"
      ],
      "text/plain": [
       "                    name online_order book_table  rate  votes      location  \\\n",
       "0                  Jalsa          Yes        Yes   4.1    775  Banashankari   \n",
       "1         Spice Elephant          Yes         No   4.1    787  Banashankari   \n",
       "2        San Churro Cafe          Yes         No   3.8    918  Banashankari   \n",
       "3  Addhuri Udupi Bhojana           No         No   3.7     88  Banashankari   \n",
       "4          Grand Village           No         No   3.8    166  Basavanagudi   \n",
       "\n",
       "             rest_type                                         dish_liked  \\\n",
       "0        Casual Dining  Pasta, Lunch Buffet, Masala Papad, Paneer Laja...   \n",
       "1        Casual Dining  Momos, Lunch Buffet, Chocolate Nirvana, Thai G...   \n",
       "2  Cafe, Casual Dining  Churros, Cannelloni, Minestrone Soup, Hot Choc...   \n",
       "3          Quick Bites                                        Masala Dosa   \n",
       "4        Casual Dining                                Panipuri, Gol Gappe   \n",
       "\n",
       "                         cuisines  approx_cost(for two people) listed_in(type)  \n",
       "0  North Indian, Mughlai, Chinese                        800.0          Buffet  \n",
       "1     Chinese, North Indian, Thai                        800.0          Buffet  \n",
       "2          Cafe, Mexican, Italian                        800.0          Buffet  \n",
       "3      South Indian, North Indian                        300.0          Buffet  \n",
       "4        North Indian, Rajasthani                        600.0          Buffet  "
      ]
     },
     "execution_count": 42,
     "metadata": {},
     "output_type": "execute_result"
    }
   ],
   "source": [
    "new_df.head()"
   ]
  },
  {
   "cell_type": "code",
   "execution_count": 43,
   "id": "45335cd0-6a59-4f79-aac5-eb476099bc9e",
   "metadata": {},
   "outputs": [
    {
     "data": {
      "image/png": "[encoded data removed]",
      "text/plain": [
       "<Figure size 640x480 with 1 Axes>"
      ]
     },
     "metadata": {},
     "output_type": "display_data"
    }
   ],
   "source": [
    "# number of restaurent that take online order\n",
    "online_order_counts=new_df['online_order'].value_counts()\n",
    "plt.pie(online_order_counts, labels=online_order_counts.index, autopct='%1.1f%%', colors=['#66b3ff','#ff9999'])\n",
    "plt.title('Proportion of Restaurants That Take Online Orders')\n",
    "plt.show()"
   ]
  },
  {
   "cell_type": "code",
   "execution_count": 44,
   "id": "c2cd9691-df52-4f99-bf87-d5e77be76688",
   "metadata": {},
   "outputs": [
    {
     "data": {
      "text/plain": [
       "30444"
      ]
     },
     "execution_count": 44,
     "metadata": {},
     "output_type": "execute_result"
    }
   ],
   "source": [
    "online_order_count2=online_order_counts['Yes']\n",
    "online_order_count2"
   ]
  },
  {
   "cell_type": "code",
   "execution_count": 45,
   "id": "f3e3aaa2-3c58-44eb-8ae0-38539ec03519",
   "metadata": {},
   "outputs": [
    {
     "data": {
      "image/png": "[encoded data removed]",
      "text/plain": [
       "<Figure size 640x480 with 1 Axes>"
      ]
     },
     "metadata": {},
     "output_type": "display_data"
    }
   ],
   "source": [
    "online_booking=new_df['book_table'].value_counts()\n",
    "plt.pie(online_booking, labels=online_booking.index, autopct='%1.1f%%', colors=['#66b3ff','#ff9999'])\n",
    "plt.title('Proportion of Restaurants That Take Online Booking')\n",
    "plt.show()"
   ]
  },
  {
   "cell_type": "code",
   "execution_count": 46,
   "id": "be4500f1-886e-457b-9324-5e879c8fd03e",
   "metadata": {},
   "outputs": [
    {
     "data": {
      "text/plain": [
       "6449"
      ]
     },
     "execution_count": 46,
     "metadata": {},
     "output_type": "execute_result"
    }
   ],
   "source": [
    "online_booking_count = online_booking['Yes']\n",
    "online_booking_count"
   ]
  },
  {
   "cell_type": "code",
   "execution_count": 47,
   "id": "855b7c00-12bd-4d46-a518-d5eb1f13392c",
   "metadata": {},
   "outputs": [
    {
     "data": {
      "text/html": [
       "<div>\n",
       "<style scoped>\n",
       "    .dataframe tbody tr th:only-of-type {\n",
       "        vertical-align: middle;\n",
       "    }\n",
       "\n",
       "    .dataframe tbody tr th {\n",
       "        vertical-align: top;\n",
       "    }\n",
       "\n",
       "    .dataframe thead th {\n",
       "        text-align: right;\n",
       "    }\n",
       "</style>\n",
       "<table border=\"1\" class=\"dataframe\">\n",
       "  <thead>\n",
       "    <tr style=\"text-align: right;\">\n",
       "      <th></th>\n",
       "      <th></th>\n",
       "      <th>rate</th>\n",
       "    </tr>\n",
       "    <tr>\n",
       "      <th>name</th>\n",
       "      <th>location</th>\n",
       "      <th></th>\n",
       "    </tr>\n",
       "  </thead>\n",
       "  <tbody>\n",
       "    <tr>\n",
       "      <th>Jalsa</th>\n",
       "      <th>Banashankari</th>\n",
       "      <td>4.1</td>\n",
       "    </tr>\n",
       "    <tr>\n",
       "      <th>Spice Elephant</th>\n",
       "      <th>Banashankari</th>\n",
       "      <td>4.1</td>\n",
       "    </tr>\n",
       "    <tr>\n",
       "      <th>Grand Village</th>\n",
       "      <th>Basavanagudi</th>\n",
       "      <td>3.8</td>\n",
       "    </tr>\n",
       "    <tr>\n",
       "      <th>Timepass Dinner</th>\n",
       "      <th>Basavanagudi</th>\n",
       "      <td>3.8</td>\n",
       "    </tr>\n",
       "    <tr>\n",
       "      <th>Rosewood International Hotel  Bar  Restaurant</th>\n",
       "      <th>Mysore Road</th>\n",
       "      <td>3.6</td>\n",
       "    </tr>\n",
       "  </tbody>\n",
       "</table>\n",
       "</div>"
      ],
      "text/plain": [
       "                                                            rate\n",
       "name                                          location          \n",
       "Jalsa                                         Banashankari   4.1\n",
       "Spice Elephant                                Banashankari   4.1\n",
       "Grand Village                                 Basavanagudi   3.8\n",
       "Timepass Dinner                               Basavanagudi   3.8\n",
       "Rosewood International Hotel  Bar  Restaurant Mysore Road    3.6"
      ]
     },
     "execution_count": 47,
     "metadata": {},
     "output_type": "execute_result"
    }
   ],
   "source": [
    "# highest rating casual dining restaurent\n",
    "casual_dining = new_df[(new_df['rest_type'] == 'Casual Dining')].head()\n",
    "sorted_casual_dining = casual_dining.groupby(['name','location']).agg({'rate':'max'}).sort_values(by='rate',ascending=False).head()\n",
    "sorted_casual_dining.head()"
   ]
  },
  {
   "cell_type": "code",
   "execution_count": 48,
   "id": "c460e926-0073-41fe-8a79-a991e93b8e96",
   "metadata": {},
   "outputs": [
    {
     "data": {
      "image/png": "[encoded data removed]",
      "text/plain": [
       "<Figure size 640x480 with 1 Axes>"
      ]
     },
     "metadata": {},
     "output_type": "display_data"
    }
   ],
   "source": [
    "sns.barplot(data=sorted_casual_dining,x='rate',y='name',hue='location',palette='coolwarm')\n",
    "plt.title('Highest rating casual dining restaurent')\n",
    "plt.xticks()\n",
    "plt.yticks(fontsize=8)\n",
    "plt.legend(fontsize=7)\n",
    "plt.show()"
   ]
  },
  {
   "cell_type": "code",
   "execution_count": null,
   "id": "c2cc4b0b-3f5f-452b-a736-2b26e41ee88b",
   "metadata": {},
   "outputs": [],
   "source": []
  },
  {
   "cell_type": "code",
   "execution_count": 49,
   "id": "9a5d27b0-de82-43da-be58-4a51aad3d690",
   "metadata": {},
   "outputs": [
    {
     "data": {
      "text/html": [
       "<div>\n",
       "<style scoped>\n",
       "    .dataframe tbody tr th:only-of-type {\n",
       "        vertical-align: middle;\n",
       "    }\n",
       "\n",
       "    .dataframe tbody tr th {\n",
       "        vertical-align: top;\n",
       "    }\n",
       "\n",
       "    .dataframe thead th {\n",
       "        text-align: right;\n",
       "    }\n",
       "</style>\n",
       "<table border=\"1\" class=\"dataframe\">\n",
       "  <thead>\n",
       "    <tr style=\"text-align: right;\">\n",
       "      <th></th>\n",
       "      <th></th>\n",
       "      <th>rate</th>\n",
       "    </tr>\n",
       "    <tr>\n",
       "      <th>name</th>\n",
       "      <th>location</th>\n",
       "      <th></th>\n",
       "    </tr>\n",
       "  </thead>\n",
       "  <tbody>\n",
       "    <tr>\n",
       "      <th>Faasos</th>\n",
       "      <th>Banashankari</th>\n",
       "      <td>4.2</td>\n",
       "    </tr>\n",
       "    <tr>\n",
       "      <th>Maruthi Davangere Benne Dosa</th>\n",
       "      <th>Banashankari</th>\n",
       "      <td>4.0</td>\n",
       "    </tr>\n",
       "    <tr>\n",
       "      <th>Addhuri Udupi Bhojana</th>\n",
       "      <th>Banashankari</th>\n",
       "      <td>3.7</td>\n",
       "    </tr>\n",
       "    <tr>\n",
       "      <th>Fast And Fresh</th>\n",
       "      <th>Banashankari</th>\n",
       "      <td>2.8</td>\n",
       "    </tr>\n",
       "    <tr>\n",
       "      <th>Foodiction</th>\n",
       "      <th>Banashankari</th>\n",
       "      <td>2.8</td>\n",
       "    </tr>\n",
       "  </tbody>\n",
       "</table>\n",
       "</div>"
      ],
      "text/plain": [
       "                                           rate\n",
       "name                         location          \n",
       "Faasos                       Banashankari   4.2\n",
       "Maruthi Davangere Benne Dosa Banashankari   4.0\n",
       "Addhuri Udupi Bhojana        Banashankari   3.7\n",
       "Fast And Fresh               Banashankari   2.8\n",
       "Foodiction                   Banashankari   2.8"
      ]
     },
     "execution_count": 49,
     "metadata": {},
     "output_type": "execute_result"
    }
   ],
   "source": [
    "quick_bites = new_df[(new_df['rest_type'] == 'Quick Bites')].head()\n",
    "sorted_quick_bites = quick_bites.groupby(['name','location']).agg({'rate':'max'}).sort_values(by='rate',ascending=False).head()\n",
    "sorted_quick_bites.head()"
   ]
  },
  {
   "cell_type": "code",
   "execution_count": 50,
   "id": "c4fcd094-af42-442c-a60d-3e23426d36d2",
   "metadata": {},
   "outputs": [
    {
     "data": {
      "image/png": "[encoded data removed]",
      "text/plain": [
       "<Figure size 640x480 with 1 Axes>"
      ]
     },
     "metadata": {},
     "output_type": "display_data"
    }
   ],
   "source": [
    "sns.barplot(data=sorted_quick_bites,x='rate',y='name',hue='location',palette='Blues_d')\n",
    "plt.title('Highest rating Quick Bites restaurent')\n",
    "plt.xticks()\n",
    "plt.yticks(fontsize=8)\n",
    "plt.legend(fontsize=7)\n",
    "plt.show()"
   ]
  },
  {
   "cell_type": "code",
   "execution_count": 51,
   "id": "caa2ad0a-cf4b-405d-835d-91b5685c270d",
   "metadata": {},
   "outputs": [
    {
     "data": {
      "text/plain": [
       "5"
      ]
     },
     "execution_count": 51,
     "metadata": {},
     "output_type": "execute_result"
    }
   ],
   "source": [
    "# total number of quick bites restaurent\n",
    "quick_bites['name'].count()"
   ]
  },
  {
   "cell_type": "code",
   "execution_count": 52,
   "id": "b8c22feb-4331-4a7e-b0c7-409b9ca6c764",
   "metadata": {},
   "outputs": [
    {
     "data": {
      "text/plain": [
       "5"
      ]
     },
     "execution_count": 52,
     "metadata": {},
     "output_type": "execute_result"
    }
   ],
   "source": [
    "# total no of unique restaurent\n",
    "quick_bites['name'].nunique()"
   ]
  },
  {
   "cell_type": "code",
   "execution_count": 53,
   "id": "8883e752-64f7-44f0-b159-fdbcd3a8774f",
   "metadata": {},
   "outputs": [
    {
     "data": {
      "text/html": [
       "<div>\n",
       "<style scoped>\n",
       "    .dataframe tbody tr th:only-of-type {\n",
       "        vertical-align: middle;\n",
       "    }\n",
       "\n",
       "    .dataframe tbody tr th {\n",
       "        vertical-align: top;\n",
       "    }\n",
       "\n",
       "    .dataframe thead th {\n",
       "        text-align: right;\n",
       "    }\n",
       "</style>\n",
       "<table border=\"1\" class=\"dataframe\">\n",
       "  <thead>\n",
       "    <tr style=\"text-align: right;\">\n",
       "      <th></th>\n",
       "      <th>rate</th>\n",
       "    </tr>\n",
       "    <tr>\n",
       "      <th>location</th>\n",
       "      <th></th>\n",
       "    </tr>\n",
       "  </thead>\n",
       "  <tbody>\n",
       "    <tr>\n",
       "      <th>Church Street</th>\n",
       "      <td>1.8</td>\n",
       "    </tr>\n",
       "    <tr>\n",
       "      <th>Marathahalli</th>\n",
       "      <td>2.0</td>\n",
       "    </tr>\n",
       "    <tr>\n",
       "      <th>Brigade Road</th>\n",
       "      <td>2.0</td>\n",
       "    </tr>\n",
       "    <tr>\n",
       "      <th>Indiranagar</th>\n",
       "      <td>2.1</td>\n",
       "    </tr>\n",
       "    <tr>\n",
       "      <th>Sarjapur Road</th>\n",
       "      <td>2.1</td>\n",
       "    </tr>\n",
       "  </tbody>\n",
       "</table>\n",
       "</div>"
      ],
      "text/plain": [
       "               rate\n",
       "location           \n",
       "Church Street   1.8\n",
       "Marathahalli    2.0\n",
       "Brigade Road    2.0\n",
       "Indiranagar     2.1\n",
       "Sarjapur Road   2.1"
      ]
     },
     "execution_count": 53,
     "metadata": {},
     "output_type": "execute_result"
    }
   ],
   "source": [
    "# Lowest voting restaurent according to location\n",
    "new_df.groupby('location').agg({'rate':'min'}).sort_values(by='rate',ascending=True).head()"
   ]
  },
  {
   "cell_type": "code",
   "execution_count": 54,
   "id": "54db05e1-948e-4320-bbbf-6d51eefb563b",
   "metadata": {},
   "outputs": [
    {
     "data": {
      "text/plain": [
       "8741"
      ]
     },
     "execution_count": 54,
     "metadata": {},
     "output_type": "execute_result"
    }
   ],
   "source": [
    "# total no of unique restaurents\n",
    "new_df['name'].nunique()"
   ]
  },
  {
   "cell_type": "code",
   "execution_count": 55,
   "id": "e6ec07ab-bcdb-4620-a81d-c500c86ebb65",
   "metadata": {},
   "outputs": [
    {
     "data": {
      "text/plain": [
       "51717"
      ]
     },
     "execution_count": 55,
     "metadata": {},
     "output_type": "execute_result"
    }
   ],
   "source": [
    "# total no of restaurent including duplicates\n",
    "new_df['name'].count()"
   ]
  },
  {
   "cell_type": "code",
   "execution_count": 56,
   "id": "569766b0-b85a-487b-9516-f7162d1a5c22",
   "metadata": {},
   "outputs": [
    {
     "data": {
      "text/plain": [
       "Index(['name', 'online_order', 'book_table', 'rate', 'votes', 'location',\n",
       "       'rest_type', 'dish_liked', 'cuisines', 'approx_cost(for two people)',\n",
       "       'listed_in(type)'],\n",
       "      dtype='object')"
      ]
     },
     "execution_count": 56,
     "metadata": {},
     "output_type": "execute_result"
    }
   ],
   "source": [
    "new_df.columns"
   ]
  },
  {
   "cell_type": "code",
   "execution_count": 57,
   "id": "bd269c20-6e83-49d1-a3e9-bcee002ad464",
   "metadata": {},
   "outputs": [
    {
     "data": {
      "text/html": [
       "<div>\n",
       "<style scoped>\n",
       "    .dataframe tbody tr th:only-of-type {\n",
       "        vertical-align: middle;\n",
       "    }\n",
       "\n",
       "    .dataframe tbody tr th {\n",
       "        vertical-align: top;\n",
       "    }\n",
       "\n",
       "    .dataframe thead th {\n",
       "        text-align: right;\n",
       "    }\n",
       "</style>\n",
       "<table border=\"1\" class=\"dataframe\">\n",
       "  <thead>\n",
       "    <tr style=\"text-align: right;\">\n",
       "      <th></th>\n",
       "      <th>votes</th>\n",
       "    </tr>\n",
       "    <tr>\n",
       "      <th>name</th>\n",
       "      <th></th>\n",
       "    </tr>\n",
       "  </thead>\n",
       "  <tbody>\n",
       "    <tr>\n",
       "      <th>Onesta</th>\n",
       "      <td>347520</td>\n",
       "    </tr>\n",
       "    <tr>\n",
       "      <th>Truffles</th>\n",
       "      <td>301059</td>\n",
       "    </tr>\n",
       "    <tr>\n",
       "      <th>Empire Restaurant</th>\n",
       "      <td>229808</td>\n",
       "    </tr>\n",
       "    <tr>\n",
       "      <th>Hammered</th>\n",
       "      <td>180602</td>\n",
       "    </tr>\n",
       "    <tr>\n",
       "      <th>The Black Pearl</th>\n",
       "      <td>172122</td>\n",
       "    </tr>\n",
       "  </tbody>\n",
       "</table>\n",
       "</div>"
      ],
      "text/plain": [
       "                    votes\n",
       "name                     \n",
       "Onesta             347520\n",
       "Truffles           301059\n",
       "Empire Restaurant  229808\n",
       "Hammered           180602\n",
       "The Black Pearl    172122"
      ]
     },
     "execution_count": 57,
     "metadata": {},
     "output_type": "execute_result"
    }
   ],
   "source": [
    "# top 10 restaurants based on the total votes, sorted in descending order.\n",
    "highest_votes = new_df.groupby('name').agg({'votes':'sum'}).sort_values(by='votes', ascending=False).head(10)\n",
    "highest_votes.head()"
   ]
  },
  {
   "cell_type": "code",
   "execution_count": 58,
   "id": "9328ecd8-1a51-4a6c-ac56-346dc4a3ff24",
   "metadata": {},
   "outputs": [
    {
     "name": "stderr",
     "output_type": "stream",
     "text": [
      "C:\\Users\\hp1\\AppData\\Local\\Temp\\ipykernel_12884\\3183877476.py:1: FutureWarning: \n",
      "\n",
      "Passing `palette` without assigning `hue` is deprecated and will be removed in v0.14.0. Assign the `y` variable to `hue` and set `legend=False` for the same effect.\n",
      "\n",
      "  sns.barplot(data=highest_votes,x='votes',y='name',palette='coolwarm')\n"
     ]
    },
    {
     "data": {
      "image/png": "[encoded data removed]",
      "text/plain": [
       "<Figure size 640x480 with 1 Axes>"
      ]
     },
     "metadata": {},
     "output_type": "display_data"
    }
   ],
   "source": [
    "sns.barplot(data=highest_votes,x='votes',y='name',palette='coolwarm')\n",
    "plt.title('Highest Votes')\n",
    "plt.xticks()\n",
    "plt.yticks(fontsize=8)\n",
    "# plt.legend(fontsize=7)\n",
    "plt.show()"
   ]
  },
  {
   "cell_type": "code",
   "execution_count": 59,
   "id": "5bc9153c-a807-4ce5-89ec-fb688cfa11af",
   "metadata": {},
   "outputs": [
    {
     "data": {
      "text/html": [
       "<div>\n",
       "<style scoped>\n",
       "    .dataframe tbody tr th:only-of-type {\n",
       "        vertical-align: middle;\n",
       "    }\n",
       "\n",
       "    .dataframe tbody tr th {\n",
       "        vertical-align: top;\n",
       "    }\n",
       "\n",
       "    .dataframe thead th {\n",
       "        text-align: right;\n",
       "    }\n",
       "</style>\n",
       "<table border=\"1\" class=\"dataframe\">\n",
       "  <thead>\n",
       "    <tr style=\"text-align: right;\">\n",
       "      <th></th>\n",
       "      <th>votes</th>\n",
       "    </tr>\n",
       "    <tr>\n",
       "      <th>name</th>\n",
       "      <th></th>\n",
       "    </tr>\n",
       "  </thead>\n",
       "  <tbody>\n",
       "    <tr>\n",
       "      <th>sCoolMeal</th>\n",
       "      <td>0</td>\n",
       "    </tr>\n",
       "    <tr>\n",
       "      <th>Iyengar Cake Bites</th>\n",
       "      <td>0</td>\n",
       "    </tr>\n",
       "    <tr>\n",
       "      <th>Iyengar Cake Mane</th>\n",
       "      <td>0</td>\n",
       "    </tr>\n",
       "    <tr>\n",
       "      <th>Iyengars Bakery</th>\n",
       "      <td>0</td>\n",
       "    </tr>\n",
       "    <tr>\n",
       "      <th>Iyengars Cakes and Cookies</th>\n",
       "      <td>0</td>\n",
       "    </tr>\n",
       "    <tr>\n",
       "      <th>The Cinema</th>\n",
       "      <td>0</td>\n",
       "    </tr>\n",
       "    <tr>\n",
       "      <th>JCL Canteen</th>\n",
       "      <td>0</td>\n",
       "    </tr>\n",
       "    <tr>\n",
       "      <th>JFD Cafe</th>\n",
       "      <td>0</td>\n",
       "    </tr>\n",
       "    <tr>\n",
       "      <th>JIS Cafe</th>\n",
       "      <td>0</td>\n",
       "    </tr>\n",
       "    <tr>\n",
       "      <th>JK Home Foods</th>\n",
       "      <td>0</td>\n",
       "    </tr>\n",
       "  </tbody>\n",
       "</table>\n",
       "</div>"
      ],
      "text/plain": [
       "                            votes\n",
       "name                             \n",
       "sCoolMeal                       0\n",
       "Iyengar Cake Bites              0\n",
       "Iyengar Cake Mane               0\n",
       "Iyengars Bakery                 0\n",
       "Iyengars Cakes and Cookies      0\n",
       "The Cinema                      0\n",
       "JCL Canteen                     0\n",
       "JFD Cafe                        0\n",
       "JIS Cafe                        0\n",
       "JK Home Foods                   0"
      ]
     },
     "execution_count": 59,
     "metadata": {},
     "output_type": "execute_result"
    }
   ],
   "source": [
    "# Top 10 restaurants with minimum votes\n",
    "new_df.groupby('name').agg({'votes':'min'}).sort_values(by='votes', ascending=True).head(10)\n"
   ]
  },
  {
   "cell_type": "code",
   "execution_count": 60,
   "id": "031dfa19-d4f3-4f28-8069-d60b03da9c2b",
   "metadata": {},
   "outputs": [
    {
     "data": {
      "text/plain": [
       "location\n",
       "BTM                      5124\n",
       "HSR                      2523\n",
       "Koramangala 5th Block    2504\n",
       "JP Nagar                 2235\n",
       "Whitefield               2144\n",
       "Name: count, dtype: int64"
      ]
     },
     "execution_count": 60,
     "metadata": {},
     "output_type": "execute_result"
    }
   ],
   "source": [
    "# top 5 loaction with highest number of restaurent\n",
    "new_df['location'].value_counts().head()"
   ]
  },
  {
   "cell_type": "code",
   "execution_count": 61,
   "id": "2b62ab78-2bb2-403b-ac3a-ffcefcf2d299",
   "metadata": {},
   "outputs": [
    {
     "data": {
      "text/html": [
       "<div>\n",
       "<style scoped>\n",
       "    .dataframe tbody tr th:only-of-type {\n",
       "        vertical-align: middle;\n",
       "    }\n",
       "\n",
       "    .dataframe tbody tr th {\n",
       "        vertical-align: top;\n",
       "    }\n",
       "\n",
       "    .dataframe thead th {\n",
       "        text-align: right;\n",
       "    }\n",
       "</style>\n",
       "<table border=\"1\" class=\"dataframe\">\n",
       "  <thead>\n",
       "    <tr style=\"text-align: right;\">\n",
       "      <th></th>\n",
       "      <th>approx_cost(for two people)</th>\n",
       "    </tr>\n",
       "    <tr>\n",
       "      <th>location</th>\n",
       "      <th></th>\n",
       "    </tr>\n",
       "  </thead>\n",
       "  <tbody>\n",
       "    <tr>\n",
       "      <th>Old Airport Road</th>\n",
       "      <td>6000.0</td>\n",
       "    </tr>\n",
       "    <tr>\n",
       "      <th>Sankey Road</th>\n",
       "      <td>5000.0</td>\n",
       "    </tr>\n",
       "    <tr>\n",
       "      <th>Marathahalli</th>\n",
       "      <td>4500.0</td>\n",
       "    </tr>\n",
       "    <tr>\n",
       "      <th>Residency Road</th>\n",
       "      <td>4000.0</td>\n",
       "    </tr>\n",
       "    <tr>\n",
       "      <th>Race Course Road</th>\n",
       "      <td>4000.0</td>\n",
       "    </tr>\n",
       "  </tbody>\n",
       "</table>\n",
       "</div>"
      ],
      "text/plain": [
       "                  approx_cost(for two people)\n",
       "location                                     \n",
       "Old Airport Road                       6000.0\n",
       "Sankey Road                            5000.0\n",
       "Marathahalli                           4500.0\n",
       "Residency Road                         4000.0\n",
       "Race Course Road                       4000.0"
      ]
     },
     "execution_count": 61,
     "metadata": {},
     "output_type": "execute_result"
    }
   ],
   "source": [
    "#costliest location \n",
    "new_df.groupby('location').agg({'approx_cost(for two people)':'max'}).sort_values(by='approx_cost(for two people)', ascending = False).head()"
   ]
  },
  {
   "cell_type": "code",
   "execution_count": null,
   "id": "0c2673ac-d1e6-486b-a64a-1c0e713a66c0",
   "metadata": {},
   "outputs": [],
   "source": []
  },
  {
   "cell_type": "code",
   "execution_count": 62,
   "id": "7fd5b12f-11b0-4804-a439-d017c5d2de9b",
   "metadata": {},
   "outputs": [
    {
     "data": {
      "text/html": [
       "<div>\n",
       "<style scoped>\n",
       "    .dataframe tbody tr th:only-of-type {\n",
       "        vertical-align: middle;\n",
       "    }\n",
       "\n",
       "    .dataframe tbody tr th {\n",
       "        vertical-align: top;\n",
       "    }\n",
       "\n",
       "    .dataframe thead th {\n",
       "        text-align: right;\n",
       "    }\n",
       "</style>\n",
       "<table border=\"1\" class=\"dataframe\">\n",
       "  <thead>\n",
       "    <tr style=\"text-align: right;\">\n",
       "      <th></th>\n",
       "      <th>approx_cost(for two people)</th>\n",
       "      <th>name</th>\n",
       "    </tr>\n",
       "    <tr>\n",
       "      <th>location</th>\n",
       "      <th></th>\n",
       "      <th></th>\n",
       "    </tr>\n",
       "  </thead>\n",
       "  <tbody>\n",
       "    <tr>\n",
       "      <th>Old Airport Road</th>\n",
       "      <td>6000.0</td>\n",
       "      <td>Kya Khaoge</td>\n",
       "    </tr>\n",
       "    <tr>\n",
       "      <th>Sankey Road</th>\n",
       "      <td>5000.0</td>\n",
       "      <td>La Brasserie  Le Meridien</td>\n",
       "    </tr>\n",
       "    <tr>\n",
       "      <th>Marathahalli</th>\n",
       "      <td>4500.0</td>\n",
       "      <td>Mumbai Kulfi</td>\n",
       "    </tr>\n",
       "    <tr>\n",
       "      <th>Residency Road</th>\n",
       "      <td>4000.0</td>\n",
       "      <td>Konark Vegetarian Restaurant</td>\n",
       "    </tr>\n",
       "    <tr>\n",
       "      <th>Race Course Road</th>\n",
       "      <td>4000.0</td>\n",
       "      <td>One Atria Cafe</td>\n",
       "    </tr>\n",
       "  </tbody>\n",
       "</table>\n",
       "</div>"
      ],
      "text/plain": [
       "                  approx_cost(for two people)                          name\n",
       "location                                                                   \n",
       "Old Airport Road                       6000.0                    Kya Khaoge\n",
       "Sankey Road                            5000.0     La Brasserie  Le Meridien\n",
       "Marathahalli                           4500.0                  Mumbai Kulfi\n",
       "Residency Road                         4000.0  Konark Vegetarian Restaurant\n",
       "Race Course Road                       4000.0                One Atria Cafe"
      ]
     },
     "execution_count": 62,
     "metadata": {},
     "output_type": "execute_result"
    }
   ],
   "source": [
    "#costliest reaturent name according to location\n",
    "costliest_restaurent_name = new_df.groupby(['location']).agg({'approx_cost(for two people)':'max','name':'first'}).sort_values(by='approx_cost(for two people)', ascending = False).head()\n",
    "costliest_restaurent_name.head()"
   ]
  },
  {
   "cell_type": "code",
   "execution_count": 63,
   "id": "f8647cc1-a7d7-47ab-b22f-ee893183ee1a",
   "metadata": {},
   "outputs": [
    {
     "data": {
      "image/png": "[encoded data removed]",
      "text/plain": [
       "<Figure size 640x480 with 1 Axes>"
      ]
     },
     "metadata": {},
     "output_type": "display_data"
    }
   ],
   "source": [
    "sns.barplot(data=costliest_restaurent_name,x='approx_cost(for two people)',y='name',hue='location',palette='coolwarm')\n",
    "plt.title('Costliest Restaurent')\n",
    "plt.xticks()\n",
    "plt.xlabel('Cost For 2 People')\n",
    "plt.ylabel('Restaurent Name')\n",
    "plt.yticks(fontsize=8)\n",
    "plt.legend(fontsize=7)\n",
    "plt.show()"
   ]
  },
  {
   "cell_type": "code",
   "execution_count": 64,
   "id": "62d8b962-0d9f-4930-8d79-2927c1fc8e28",
   "metadata": {},
   "outputs": [
    {
     "data": {
      "text/html": [
       "<div>\n",
       "<style scoped>\n",
       "    .dataframe tbody tr th:only-of-type {\n",
       "        vertical-align: middle;\n",
       "    }\n",
       "\n",
       "    .dataframe tbody tr th {\n",
       "        vertical-align: top;\n",
       "    }\n",
       "\n",
       "    .dataframe thead th {\n",
       "        text-align: right;\n",
       "    }\n",
       "</style>\n",
       "<table border=\"1\" class=\"dataframe\">\n",
       "  <thead>\n",
       "    <tr style=\"text-align: right;\">\n",
       "      <th></th>\n",
       "      <th>name</th>\n",
       "      <th>online_order</th>\n",
       "      <th>book_table</th>\n",
       "      <th>rate</th>\n",
       "      <th>votes</th>\n",
       "      <th>location</th>\n",
       "      <th>rest_type</th>\n",
       "      <th>dish_liked</th>\n",
       "      <th>cuisines</th>\n",
       "      <th>approx_cost(for two people)</th>\n",
       "      <th>listed_in(type)</th>\n",
       "    </tr>\n",
       "  </thead>\n",
       "  <tbody>\n",
       "    <tr>\n",
       "      <th>0</th>\n",
       "      <td>Jalsa</td>\n",
       "      <td>Yes</td>\n",
       "      <td>Yes</td>\n",
       "      <td>4.1</td>\n",
       "      <td>775</td>\n",
       "      <td>Banashankari</td>\n",
       "      <td>Casual Dining</td>\n",
       "      <td>Pasta, Lunch Buffet, Masala Papad, Paneer Laja...</td>\n",
       "      <td>North Indian, Mughlai, Chinese</td>\n",
       "      <td>800.0</td>\n",
       "      <td>Buffet</td>\n",
       "    </tr>\n",
       "    <tr>\n",
       "      <th>1</th>\n",
       "      <td>Spice Elephant</td>\n",
       "      <td>Yes</td>\n",
       "      <td>No</td>\n",
       "      <td>4.1</td>\n",
       "      <td>787</td>\n",
       "      <td>Banashankari</td>\n",
       "      <td>Casual Dining</td>\n",
       "      <td>Momos, Lunch Buffet, Chocolate Nirvana, Thai G...</td>\n",
       "      <td>Chinese, North Indian, Thai</td>\n",
       "      <td>800.0</td>\n",
       "      <td>Buffet</td>\n",
       "    </tr>\n",
       "    <tr>\n",
       "      <th>2</th>\n",
       "      <td>San Churro Cafe</td>\n",
       "      <td>Yes</td>\n",
       "      <td>No</td>\n",
       "      <td>3.8</td>\n",
       "      <td>918</td>\n",
       "      <td>Banashankari</td>\n",
       "      <td>Cafe, Casual Dining</td>\n",
       "      <td>Churros, Cannelloni, Minestrone Soup, Hot Choc...</td>\n",
       "      <td>Cafe, Mexican, Italian</td>\n",
       "      <td>800.0</td>\n",
       "      <td>Buffet</td>\n",
       "    </tr>\n",
       "    <tr>\n",
       "      <th>3</th>\n",
       "      <td>Addhuri Udupi Bhojana</td>\n",
       "      <td>No</td>\n",
       "      <td>No</td>\n",
       "      <td>3.7</td>\n",
       "      <td>88</td>\n",
       "      <td>Banashankari</td>\n",
       "      <td>Quick Bites</td>\n",
       "      <td>Masala Dosa</td>\n",
       "      <td>South Indian, North Indian</td>\n",
       "      <td>300.0</td>\n",
       "      <td>Buffet</td>\n",
       "    </tr>\n",
       "    <tr>\n",
       "      <th>4</th>\n",
       "      <td>Grand Village</td>\n",
       "      <td>No</td>\n",
       "      <td>No</td>\n",
       "      <td>3.8</td>\n",
       "      <td>166</td>\n",
       "      <td>Basavanagudi</td>\n",
       "      <td>Casual Dining</td>\n",
       "      <td>Panipuri, Gol Gappe</td>\n",
       "      <td>North Indian, Rajasthani</td>\n",
       "      <td>600.0</td>\n",
       "      <td>Buffet</td>\n",
       "    </tr>\n",
       "  </tbody>\n",
       "</table>\n",
       "</div>"
      ],
      "text/plain": [
       "                    name online_order book_table  rate  votes      location  \\\n",
       "0                  Jalsa          Yes        Yes   4.1    775  Banashankari   \n",
       "1         Spice Elephant          Yes         No   4.1    787  Banashankari   \n",
       "2        San Churro Cafe          Yes         No   3.8    918  Banashankari   \n",
       "3  Addhuri Udupi Bhojana           No         No   3.7     88  Banashankari   \n",
       "4          Grand Village           No         No   3.8    166  Basavanagudi   \n",
       "\n",
       "             rest_type                                         dish_liked  \\\n",
       "0        Casual Dining  Pasta, Lunch Buffet, Masala Papad, Paneer Laja...   \n",
       "1        Casual Dining  Momos, Lunch Buffet, Chocolate Nirvana, Thai G...   \n",
       "2  Cafe, Casual Dining  Churros, Cannelloni, Minestrone Soup, Hot Choc...   \n",
       "3          Quick Bites                                        Masala Dosa   \n",
       "4        Casual Dining                                Panipuri, Gol Gappe   \n",
       "\n",
       "                         cuisines  approx_cost(for two people) listed_in(type)  \n",
       "0  North Indian, Mughlai, Chinese                        800.0          Buffet  \n",
       "1     Chinese, North Indian, Thai                        800.0          Buffet  \n",
       "2          Cafe, Mexican, Italian                        800.0          Buffet  \n",
       "3      South Indian, North Indian                        300.0          Buffet  \n",
       "4        North Indian, Rajasthani                        600.0          Buffet  "
      ]
     },
     "execution_count": 64,
     "metadata": {},
     "output_type": "execute_result"
    }
   ],
   "source": [
    "new_df.head()"
   ]
  },
  {
   "cell_type": "code",
   "execution_count": 65,
   "id": "c6eef227-55be-4b0d-b695-5ed1381a8dc9",
   "metadata": {},
   "outputs": [],
   "source": [
    "# Top 5 highest rating restaurent for masala dosa\n",
    "masala =  new_df[(new_df['dish_liked']=='Masala Dosa')]"
   ]
  },
  {
   "cell_type": "code",
   "execution_count": 66,
   "id": "f2a9d58a-9018-4569-afc3-856a23136cb4",
   "metadata": {},
   "outputs": [
    {
     "data": {
      "text/html": [
       "<div>\n",
       "<style scoped>\n",
       "    .dataframe tbody tr th:only-of-type {\n",
       "        vertical-align: middle;\n",
       "    }\n",
       "\n",
       "    .dataframe tbody tr th {\n",
       "        vertical-align: top;\n",
       "    }\n",
       "\n",
       "    .dataframe thead th {\n",
       "        text-align: right;\n",
       "    }\n",
       "</style>\n",
       "<table border=\"1\" class=\"dataframe\">\n",
       "  <thead>\n",
       "    <tr style=\"text-align: right;\">\n",
       "      <th></th>\n",
       "      <th>rate</th>\n",
       "    </tr>\n",
       "    <tr>\n",
       "      <th>name</th>\n",
       "      <th></th>\n",
       "    </tr>\n",
       "  </thead>\n",
       "  <tbody>\n",
       "    <tr>\n",
       "      <th>New Samrat Restaurant</th>\n",
       "      <td>4.1</td>\n",
       "    </tr>\n",
       "    <tr>\n",
       "      <th>Dhanalakshmi Grand</th>\n",
       "      <td>4.0</td>\n",
       "    </tr>\n",
       "    <tr>\n",
       "      <th>Upahara Darshini</th>\n",
       "      <td>4.0</td>\n",
       "    </tr>\n",
       "    <tr>\n",
       "      <th>Krishna Sagar</th>\n",
       "      <td>3.9</td>\n",
       "    </tr>\n",
       "    <tr>\n",
       "      <th>Dosa Plaza</th>\n",
       "      <td>3.8</td>\n",
       "    </tr>\n",
       "  </tbody>\n",
       "</table>\n",
       "</div>"
      ],
      "text/plain": [
       "                       rate\n",
       "name                       \n",
       "New Samrat Restaurant   4.1\n",
       "Dhanalakshmi Grand      4.0\n",
       "Upahara Darshini        4.0\n",
       "Krishna Sagar           3.9\n",
       "Dosa Plaza              3.8"
      ]
     },
     "execution_count": 66,
     "metadata": {},
     "output_type": "execute_result"
    }
   ],
   "source": [
    "highest_rating_restaurent_for_masala_dosa=masala.groupby('name')[['rate']].max().sort_values(by='rate', ascending=False).head()\n",
    "highest_rating_restaurent_for_masala_dosa.head()"
   ]
  },
  {
   "cell_type": "code",
   "execution_count": 67,
   "id": "b867934c-4542-4803-a131-c25e1319ce0f",
   "metadata": {},
   "outputs": [
    {
     "name": "stderr",
     "output_type": "stream",
     "text": [
      "C:\\Users\\hp1\\AppData\\Local\\Temp\\ipykernel_12884\\2148424484.py:1: FutureWarning: \n",
      "\n",
      "Passing `palette` without assigning `hue` is deprecated and will be removed in v0.14.0. Assign the `y` variable to `hue` and set `legend=False` for the same effect.\n",
      "\n",
      "  sns.barplot(data=highest_rating_restaurent_for_masala_dosa,x='rate',y='name',palette='coolwarm')\n"
     ]
    },
    {
     "data": {
      "image/png": "[encoded data removed]",
      "text/plain": [
       "<Figure size 640x480 with 1 Axes>"
      ]
     },
     "metadata": {},
     "output_type": "display_data"
    }
   ],
   "source": [
    "sns.barplot(data=highest_rating_restaurent_for_masala_dosa,x='rate',y='name',palette='coolwarm')\n",
    "plt.title('highest rating restaurent for masala dosa')\n",
    "plt.xticks()\n",
    "plt.xlabel('Rating')\n",
    "plt.ylabel('Restaurent Name')\n",
    "plt.yticks(fontsize=8)\n",
    "\n",
    "plt.show()"
   ]
  },
  {
   "cell_type": "code",
   "execution_count": 68,
   "id": "6ad92018-5ed5-4b5e-ae76-4f4aec895ed2",
   "metadata": {},
   "outputs": [
    {
     "data": {
      "text/plain": [
       "28078"
      ]
     },
     "execution_count": 68,
     "metadata": {},
     "output_type": "execute_result"
    }
   ],
   "source": [
    "new_df['dish_liked'].isnull().sum()"
   ]
  },
  {
   "cell_type": "code",
   "execution_count": 69,
   "id": "28b36398-d140-4fc9-8832-343b4b6415d5",
   "metadata": {},
   "outputs": [],
   "source": [
    "new_df['dish_liked']=new_df['dish_liked'].fillna(\"Not Available\")"
   ]
  },
  {
   "cell_type": "code",
   "execution_count": 70,
   "id": "674e985d-ec75-43a4-a918-e13965515ddb",
   "metadata": {},
   "outputs": [],
   "source": [
    "paneer_rest = new_df[new_df['dish_liked'].str.contains('Paneer')]"
   ]
  },
  {
   "cell_type": "code",
   "execution_count": 71,
   "id": "fc2d2281-ee9c-4dae-b241-b02bfe568f40",
   "metadata": {},
   "outputs": [
    {
     "data": {
      "text/html": [
       "<div>\n",
       "<style scoped>\n",
       "    .dataframe tbody tr th:only-of-type {\n",
       "        vertical-align: middle;\n",
       "    }\n",
       "\n",
       "    .dataframe tbody tr th {\n",
       "        vertical-align: top;\n",
       "    }\n",
       "\n",
       "    .dataframe thead th {\n",
       "        text-align: right;\n",
       "    }\n",
       "</style>\n",
       "<table border=\"1\" class=\"dataframe\">\n",
       "  <thead>\n",
       "    <tr style=\"text-align: right;\">\n",
       "      <th></th>\n",
       "      <th>rate</th>\n",
       "    </tr>\n",
       "    <tr>\n",
       "      <th>name</th>\n",
       "      <th></th>\n",
       "    </tr>\n",
       "  </thead>\n",
       "  <tbody>\n",
       "    <tr>\n",
       "      <th>ABs  Absolute Barbecues</th>\n",
       "      <td>4.9</td>\n",
       "    </tr>\n",
       "    <tr>\n",
       "      <th>Punjab Grill</th>\n",
       "      <td>4.9</td>\n",
       "    </tr>\n",
       "    <tr>\n",
       "      <th>The Black Pearl</th>\n",
       "      <td>4.7</td>\n",
       "    </tr>\n",
       "    <tr>\n",
       "      <th>Lot Like Crepes</th>\n",
       "      <td>4.7</td>\n",
       "    </tr>\n",
       "    <tr>\n",
       "      <th>Galitos</th>\n",
       "      <td>4.6</td>\n",
       "    </tr>\n",
       "  </tbody>\n",
       "</table>\n",
       "</div>"
      ],
      "text/plain": [
       "                         rate\n",
       "name                         \n",
       "ABs  Absolute Barbecues   4.9\n",
       "Punjab Grill              4.9\n",
       "The Black Pearl           4.7\n",
       "Lot Like Crepes           4.7\n",
       "Galitos                   4.6"
      ]
     },
     "execution_count": 71,
     "metadata": {},
     "output_type": "execute_result"
    }
   ],
   "source": [
    "paneer_rest.groupby('name')[['rate']].max().sort_values(by='rate', ascending = False).head()"
   ]
  },
  {
   "cell_type": "code",
   "execution_count": 72,
   "id": "bb74f674-f3f7-4c5e-ba30-a47e2e39f547",
   "metadata": {},
   "outputs": [
    {
     "data": {
      "text/html": [
       "<div>\n",
       "<style scoped>\n",
       "    .dataframe tbody tr th:only-of-type {\n",
       "        vertical-align: middle;\n",
       "    }\n",
       "\n",
       "    .dataframe tbody tr th {\n",
       "        vertical-align: top;\n",
       "    }\n",
       "\n",
       "    .dataframe thead th {\n",
       "        text-align: right;\n",
       "    }\n",
       "</style>\n",
       "<table border=\"1\" class=\"dataframe\">\n",
       "  <thead>\n",
       "    <tr style=\"text-align: right;\">\n",
       "      <th></th>\n",
       "      <th>name</th>\n",
       "      <th>online_order</th>\n",
       "      <th>book_table</th>\n",
       "      <th>rate</th>\n",
       "      <th>votes</th>\n",
       "      <th>location</th>\n",
       "      <th>rest_type</th>\n",
       "      <th>dish_liked</th>\n",
       "      <th>cuisines</th>\n",
       "      <th>approx_cost(for two people)</th>\n",
       "      <th>listed_in(type)</th>\n",
       "    </tr>\n",
       "  </thead>\n",
       "  <tbody>\n",
       "    <tr>\n",
       "      <th>0</th>\n",
       "      <td>Jalsa</td>\n",
       "      <td>Yes</td>\n",
       "      <td>Yes</td>\n",
       "      <td>4.1</td>\n",
       "      <td>775</td>\n",
       "      <td>Banashankari</td>\n",
       "      <td>Casual Dining</td>\n",
       "      <td>Pasta, Lunch Buffet, Masala Papad, Paneer Laja...</td>\n",
       "      <td>North Indian, Mughlai, Chinese</td>\n",
       "      <td>800.0</td>\n",
       "      <td>Buffet</td>\n",
       "    </tr>\n",
       "    <tr>\n",
       "      <th>1</th>\n",
       "      <td>Spice Elephant</td>\n",
       "      <td>Yes</td>\n",
       "      <td>No</td>\n",
       "      <td>4.1</td>\n",
       "      <td>787</td>\n",
       "      <td>Banashankari</td>\n",
       "      <td>Casual Dining</td>\n",
       "      <td>Momos, Lunch Buffet, Chocolate Nirvana, Thai G...</td>\n",
       "      <td>Chinese, North Indian, Thai</td>\n",
       "      <td>800.0</td>\n",
       "      <td>Buffet</td>\n",
       "    </tr>\n",
       "    <tr>\n",
       "      <th>31</th>\n",
       "      <td>Foodiction</td>\n",
       "      <td>Yes</td>\n",
       "      <td>No</td>\n",
       "      <td>2.8</td>\n",
       "      <td>506</td>\n",
       "      <td>Banashankari</td>\n",
       "      <td>Quick Bites</td>\n",
       "      <td>Burgers, Lassi, Chicken Grill, Naan, Momos, Ch...</td>\n",
       "      <td>North Indian, Fast Food, Chinese, Burger</td>\n",
       "      <td>500.0</td>\n",
       "      <td>Delivery</td>\n",
       "    </tr>\n",
       "    <tr>\n",
       "      <th>35</th>\n",
       "      <td>Behrouz Biryani</td>\n",
       "      <td>Yes</td>\n",
       "      <td>No</td>\n",
       "      <td>3.9</td>\n",
       "      <td>230</td>\n",
       "      <td>Banashankari</td>\n",
       "      <td>Delivery</td>\n",
       "      <td>Raita, Gulab Jamun, Paneer Biryani, Vegetable ...</td>\n",
       "      <td>Biryani</td>\n",
       "      <td>650.0</td>\n",
       "      <td>Delivery</td>\n",
       "    </tr>\n",
       "    <tr>\n",
       "      <th>38</th>\n",
       "      <td>Empire Restaurant</td>\n",
       "      <td>Yes</td>\n",
       "      <td>No</td>\n",
       "      <td>4.4</td>\n",
       "      <td>4884</td>\n",
       "      <td>Jayanagar</td>\n",
       "      <td>Casual Dining</td>\n",
       "      <td>Chicken Tikka Masala, Mutton Keema Dosa, Mutto...</td>\n",
       "      <td>North Indian, Mughlai, South Indian, Chinese</td>\n",
       "      <td>750.0</td>\n",
       "      <td>Delivery</td>\n",
       "    </tr>\n",
       "    <tr>\n",
       "      <th>...</th>\n",
       "      <td>...</td>\n",
       "      <td>...</td>\n",
       "      <td>...</td>\n",
       "      <td>...</td>\n",
       "      <td>...</td>\n",
       "      <td>...</td>\n",
       "      <td>...</td>\n",
       "      <td>...</td>\n",
       "      <td>...</td>\n",
       "      <td>...</td>\n",
       "      <td>...</td>\n",
       "    </tr>\n",
       "    <tr>\n",
       "      <th>51677</th>\n",
       "      <td>Bhagini</td>\n",
       "      <td>No</td>\n",
       "      <td>No</td>\n",
       "      <td>2.5</td>\n",
       "      <td>81</td>\n",
       "      <td>Whitefield</td>\n",
       "      <td>Casual Dining, Bar</td>\n",
       "      <td>Biryani, Andhra Meal</td>\n",
       "      <td>Andhra, South Indian, Chinese, North Indian</td>\n",
       "      <td>800.0</td>\n",
       "      <td>Drinks &amp; nightlife</td>\n",
       "    </tr>\n",
       "    <tr>\n",
       "      <th>51688</th>\n",
       "      <td>Ji Hazoor</td>\n",
       "      <td>Yes</td>\n",
       "      <td>Yes</td>\n",
       "      <td>4.0</td>\n",
       "      <td>2856</td>\n",
       "      <td>Whitefield</td>\n",
       "      <td>Casual Dining, Bar</td>\n",
       "      <td>Chicken Salad, Mocktails, Mutton Curry, Chicke...</td>\n",
       "      <td>Mughlai, North Indian, Biryani, Afghan</td>\n",
       "      <td>1100.0</td>\n",
       "      <td>Pubs and bars</td>\n",
       "    </tr>\n",
       "    <tr>\n",
       "      <th>51700</th>\n",
       "      <td>BAR BAR</td>\n",
       "      <td>No</td>\n",
       "      <td>Yes</td>\n",
       "      <td>4.1</td>\n",
       "      <td>1003</td>\n",
       "      <td>Whitefield</td>\n",
       "      <td>Bar, Casual Dining</td>\n",
       "      <td>Mocktails, Cocktails, Pizza, Chicken Tikka, Na...</td>\n",
       "      <td>Continental, North Indian, Italian</td>\n",
       "      <td>1500.0</td>\n",
       "      <td>Pubs and bars</td>\n",
       "    </tr>\n",
       "    <tr>\n",
       "      <th>51708</th>\n",
       "      <td>Keys Cafe  Keys Hotel</td>\n",
       "      <td>No</td>\n",
       "      <td>No</td>\n",
       "      <td>2.8</td>\n",
       "      <td>161</td>\n",
       "      <td>Whitefield</td>\n",
       "      <td>Casual Dining, Bar</td>\n",
       "      <td>Salads, Coffee, Breakfast Buffet, Halwa, Chick...</td>\n",
       "      <td>Chinese, Continental, North Indian</td>\n",
       "      <td>1200.0</td>\n",
       "      <td>Pubs and bars</td>\n",
       "    </tr>\n",
       "    <tr>\n",
       "      <th>51711</th>\n",
       "      <td>Bhagini</td>\n",
       "      <td>No</td>\n",
       "      <td>No</td>\n",
       "      <td>2.5</td>\n",
       "      <td>81</td>\n",
       "      <td>Whitefield</td>\n",
       "      <td>Casual Dining, Bar</td>\n",
       "      <td>Biryani, Andhra Meal</td>\n",
       "      <td>Andhra, South Indian, Chinese, North Indian</td>\n",
       "      <td>800.0</td>\n",
       "      <td>Pubs and bars</td>\n",
       "    </tr>\n",
       "  </tbody>\n",
       "</table>\n",
       "<p>5303 rows × 11 columns</p>\n",
       "</div>"
      ],
      "text/plain": [
       "                        name online_order book_table  rate  votes  \\\n",
       "0                      Jalsa          Yes        Yes   4.1    775   \n",
       "1             Spice Elephant          Yes         No   4.1    787   \n",
       "31                Foodiction          Yes         No   2.8    506   \n",
       "35           Behrouz Biryani          Yes         No   3.9    230   \n",
       "38         Empire Restaurant          Yes         No   4.4   4884   \n",
       "...                      ...          ...        ...   ...    ...   \n",
       "51677                Bhagini           No         No   2.5     81   \n",
       "51688              Ji Hazoor          Yes        Yes   4.0   2856   \n",
       "51700                BAR BAR           No        Yes   4.1   1003   \n",
       "51708  Keys Cafe  Keys Hotel           No         No   2.8    161   \n",
       "51711                Bhagini           No         No   2.5     81   \n",
       "\n",
       "           location           rest_type  \\\n",
       "0      Banashankari       Casual Dining   \n",
       "1      Banashankari       Casual Dining   \n",
       "31     Banashankari         Quick Bites   \n",
       "35     Banashankari            Delivery   \n",
       "38        Jayanagar       Casual Dining   \n",
       "...             ...                 ...   \n",
       "51677    Whitefield  Casual Dining, Bar   \n",
       "51688    Whitefield  Casual Dining, Bar   \n",
       "51700    Whitefield  Bar, Casual Dining   \n",
       "51708    Whitefield  Casual Dining, Bar   \n",
       "51711    Whitefield  Casual Dining, Bar   \n",
       "\n",
       "                                              dish_liked  \\\n",
       "0      Pasta, Lunch Buffet, Masala Papad, Paneer Laja...   \n",
       "1      Momos, Lunch Buffet, Chocolate Nirvana, Thai G...   \n",
       "31     Burgers, Lassi, Chicken Grill, Naan, Momos, Ch...   \n",
       "35     Raita, Gulab Jamun, Paneer Biryani, Vegetable ...   \n",
       "38     Chicken Tikka Masala, Mutton Keema Dosa, Mutto...   \n",
       "...                                                  ...   \n",
       "51677                               Biryani, Andhra Meal   \n",
       "51688  Chicken Salad, Mocktails, Mutton Curry, Chicke...   \n",
       "51700  Mocktails, Cocktails, Pizza, Chicken Tikka, Na...   \n",
       "51708  Salads, Coffee, Breakfast Buffet, Halwa, Chick...   \n",
       "51711                               Biryani, Andhra Meal   \n",
       "\n",
       "                                           cuisines  \\\n",
       "0                    North Indian, Mughlai, Chinese   \n",
       "1                       Chinese, North Indian, Thai   \n",
       "31         North Indian, Fast Food, Chinese, Burger   \n",
       "35                                          Biryani   \n",
       "38     North Indian, Mughlai, South Indian, Chinese   \n",
       "...                                             ...   \n",
       "51677   Andhra, South Indian, Chinese, North Indian   \n",
       "51688        Mughlai, North Indian, Biryani, Afghan   \n",
       "51700            Continental, North Indian, Italian   \n",
       "51708            Chinese, Continental, North Indian   \n",
       "51711   Andhra, South Indian, Chinese, North Indian   \n",
       "\n",
       "       approx_cost(for two people)     listed_in(type)  \n",
       "0                            800.0              Buffet  \n",
       "1                            800.0              Buffet  \n",
       "31                           500.0            Delivery  \n",
       "35                           650.0            Delivery  \n",
       "38                           750.0            Delivery  \n",
       "...                            ...                 ...  \n",
       "51677                        800.0  Drinks & nightlife  \n",
       "51688                       1100.0       Pubs and bars  \n",
       "51700                       1500.0       Pubs and bars  \n",
       "51708                       1200.0       Pubs and bars  \n",
       "51711                        800.0       Pubs and bars  \n",
       "\n",
       "[5303 rows x 11 columns]"
      ]
     },
     "execution_count": 72,
     "metadata": {},
     "output_type": "execute_result"
    }
   ],
   "source": [
    "biryani = new_df[new_df['dish_liked'].str.contains('Biryani')]\n",
    "biryani\n"
   ]
  },
  {
   "cell_type": "code",
   "execution_count": 73,
   "id": "092e4ef6-1788-4c0f-8510-847fd9efbb4a",
   "metadata": {},
   "outputs": [
    {
     "data": {
      "text/plain": [
       "dish_liked\n",
       "Biryani                                                                                                           182\n",
       "Chicken Biryani                                                                                                    73\n",
       "Mutton Biryani                                                                                                     27\n",
       "Biryani, Breakfast Buffet, Fish, Salads, Burgers, Caramel Pudding, Steak                                           21\n",
       "Pancakes, Cocktails, Biryani, Draught Beer, Long Island Iced Tea, Nachos, Mocktails                                20\n",
       "                                                                                                                 ... \n",
       "Panneer Butter Masala, Butter Chicken, Kadhai Paneer, Egg Biryani, Noodles, Chilli Paneer                           1\n",
       "Rolls, Chicken Biryani, Chilli Chicken, Butter Chicken, Roti, Panneer Butter Masala, Tandoori Chicken               1\n",
       "Mushroom Biryani, Bamboo Chicken, Pot Biryani, Chicken Biryani, Paneer Biryani, Mutton Biryani, Dum Biryani         1\n",
       "Pepper Chicken, Panneer Butter Masala, Andhra Biryani, Andhra Thali, Chicken Biryani, Andhra Meal, Chicken Fry      1\n",
       "Biryani, Burgers                                                                                                    1\n",
       "Name: count, Length: 1220, dtype: int64"
      ]
     },
     "execution_count": 73,
     "metadata": {},
     "output_type": "execute_result"
    }
   ],
   "source": [
    "biryani['dish_liked'].value_counts()"
   ]
  },
  {
   "cell_type": "code",
   "execution_count": 74,
   "id": "27d556e4-671c-4334-8a5a-2a211bf6d058",
   "metadata": {},
   "outputs": [
    {
     "data": {
      "text/plain": [
       "dish_liked\n",
       "Mutton Biryani    27\n",
       "Name: count, dtype: int64"
      ]
     },
     "execution_count": 74,
     "metadata": {},
     "output_type": "execute_result"
    }
   ],
   "source": [
    "nonveg_biryani = biryani[(biryani['dish_liked']=='Mutton Biryani')]\n",
    "nonveg_biryani.head()\n",
    "nonveg_biryani['dish_liked'].value_counts()"
   ]
  },
  {
   "cell_type": "code",
   "execution_count": 75,
   "id": "713cd9ca-afa5-4c85-b4b4-91bf2c078352",
   "metadata": {},
   "outputs": [
    {
     "data": {
      "text/plain": [
       "dish_liked\n",
       "Chicken Biryani    73\n",
       "Name: count, dtype: int64"
      ]
     },
     "execution_count": 75,
     "metadata": {},
     "output_type": "execute_result"
    }
   ],
   "source": [
    "chicken_biryani =  biryani[(biryani['dish_liked']=='Chicken Biryani')]\n",
    "chicken_biryani.head()\n",
    "chicken_biryani['dish_liked'].value_counts()"
   ]
  },
  {
   "cell_type": "code",
   "execution_count": 76,
   "id": "0020070b-a657-4a03-9954-523fa8789397",
   "metadata": {},
   "outputs": [
    {
     "name": "stdout",
     "output_type": "stream",
     "text": [
      "Chicken Biryani: 311\n",
      "Mutton Biryani: 259\n",
      "Both Chicken & Mutton Biryani: 0\n",
      "Veg Biryani: 4733\n"
     ]
    },
    {
     "data": {
      "image/png": "[encoded data removed]",
      "text/plain": [
       "<Figure size 640x480 with 1 Axes>"
      ]
     },
     "metadata": {},
     "output_type": "display_data"
    }
   ],
   "source": [
    "splitted_dishes = biryani['dish_liked'].str.split(',')\n",
    "mutton_biryani = 0\n",
    "chicken_biryani = 0\n",
    "both = 0\n",
    "veg_biryani = 0\n",
    "\n",
    "for i in splitted_dishes:\n",
    "    # Check if both Chicken and Mutton Biryani are present\n",
    "    if 'Mutton Biryani' in i and 'Chicken Biryani' in i:\n",
    "        both += 1\n",
    "    # Count Chicken Biryani\n",
    "    elif 'Chicken Biryani' in i:\n",
    "        chicken_biryani += 1\n",
    "    # Count Mutton Biryani\n",
    "    elif 'Mutton Biryani' in i:\n",
    "        mutton_biryani += 1\n",
    "    # If neither Mutton nor Chicken Biryani is liked\n",
    "    else:\n",
    "        veg_biryani += 1\n",
    "\n",
    "print(\"Chicken Biryani:\", chicken_biryani)\n",
    "print(\"Mutton Biryani:\", mutton_biryani)\n",
    "print(\"Both Chicken & Mutton Biryani:\", both)\n",
    "print(\"Veg Biryani:\", veg_biryani)\n",
    "\n",
    "sizes=[chicken_biryani,mutton_biryani,veg_biryani]\n",
    "labels=['Chicken Biryani', 'Mutton Biryani', 'Veg Biryani']\n",
    "plt.pie(sizes,labels=labels,autopct=\"%1.1f%%\",colors = ['#66b3ff', '#ff9999', '#99ff99'])\n",
    "plt.show()"
   ]
  },
  {
   "cell_type": "code",
   "execution_count": 77,
   "id": "e6c403d4-434a-489f-a634-442f96511fa2",
   "metadata": {},
   "outputs": [],
   "source": [
    "frequency = biryani['dish_liked'].str.split(',')\n",
    "exploded = frequency.explode()"
   ]
  },
  {
   "cell_type": "code",
   "execution_count": 78,
   "id": "22f57e39-958f-472a-b299-4da00a0b344c",
   "metadata": {},
   "outputs": [
    {
     "data": {
      "text/plain": [
       "dish_liked\n",
       " Biryani              1326\n",
       " Chicken Biryani      1019\n",
       " Mutton Biryani        841\n",
       "Biryani                766\n",
       " Vegetable Biryani     548\n",
       "                      ... \n",
       "Kesar Kulfi              1\n",
       "Chicken Sholay           1\n",
       "Wings                    1\n",
       " Brosted Chicken         1\n",
       " Tandoori Broccoli       1\n",
       "Name: count, Length: 1126, dtype: int64"
      ]
     },
     "execution_count": 78,
     "metadata": {},
     "output_type": "execute_result"
    }
   ],
   "source": [
    "exploded.value_counts()"
   ]
  },
  {
   "cell_type": "code",
   "execution_count": 79,
   "id": "7f6a726f-29ce-4bba-977f-35575341bd04",
   "metadata": {},
   "outputs": [
    {
     "data": {
      "text/plain": [
       "126819"
      ]
     },
     "execution_count": 79,
     "metadata": {},
     "output_type": "execute_result"
    }
   ],
   "source": [
    "# How many restaurants serve multiple cuisines, and what is the most common type of restaurant?\n",
    "new_df['cuisines']\n",
    "splitting_cuisines = new_df['cuisines'].str.split(',')\n",
    "splitting_cuisines.head()\n",
    "def count_cuisines_in_list(cuisines_list):\n",
    "    if isinstance(cuisines_list,list):\n",
    "        return len(cuisines_list)\n",
    "    else:\n",
    "        return 0\n",
    "\n",
    "final_count = splitting_cuisines.apply(count_cuisines_in_list)\n",
    "final_count.sum() # 126819\n",
    "\n",
    "\n",
    "#  what is the most common type of restaurant?\n",
    "# splitting_rest_type = new_df['rest_type'].str.split(',').explode()\n",
    "# splitting_rest_type.value_counts().idxmax() # 'Quick Bites'\n",
    "# splitting_rest_type.value_counts().max()\n"
   ]
  },
  {
   "cell_type": "code",
   "execution_count": 80,
   "id": "ca5c37a9-3667-46cc-b843-8684f321f8ee",
   "metadata": {},
   "outputs": [
    {
     "data": {
      "text/plain": [
       "location\n",
       "BTM                      5124\n",
       "HSR                      2523\n",
       "Koramangala 5th Block    2504\n",
       "JP Nagar                 2235\n",
       "Whitefield               2144\n",
       "Name: count, dtype: int64"
      ]
     },
     "execution_count": 80,
     "metadata": {},
     "output_type": "execute_result"
    }
   ],
   "source": [
    "# top 5 location with most number of restaurent\n",
    "new_df['location'].value_counts().head()"
   ]
  },
  {
   "cell_type": "code",
   "execution_count": 81,
   "id": "1b08ef58-9380-4a19-a445-ac7e3559a42b",
   "metadata": {},
   "outputs": [
    {
     "data": {
      "text/html": [
       "<div>\n",
       "<style scoped>\n",
       "    .dataframe tbody tr th:only-of-type {\n",
       "        vertical-align: middle;\n",
       "    }\n",
       "\n",
       "    .dataframe tbody tr th {\n",
       "        vertical-align: top;\n",
       "    }\n",
       "\n",
       "    .dataframe thead th {\n",
       "        text-align: right;\n",
       "    }\n",
       "</style>\n",
       "<table border=\"1\" class=\"dataframe\">\n",
       "  <thead>\n",
       "    <tr style=\"text-align: right;\">\n",
       "      <th></th>\n",
       "      <th>votes</th>\n",
       "    </tr>\n",
       "    <tr>\n",
       "      <th>name</th>\n",
       "      <th></th>\n",
       "    </tr>\n",
       "  </thead>\n",
       "  <tbody>\n",
       "    <tr>\n",
       "      <th>Byg Brewski Brewing Company</th>\n",
       "      <td>16588.500000</td>\n",
       "    </tr>\n",
       "    <tr>\n",
       "      <th>Toit</th>\n",
       "      <td>14956.000000</td>\n",
       "    </tr>\n",
       "    <tr>\n",
       "      <th>The Black Pearl</th>\n",
       "      <td>9562.333333</td>\n",
       "    </tr>\n",
       "    <tr>\n",
       "      <th>Big Pitcher</th>\n",
       "      <td>9164.500000</td>\n",
       "    </tr>\n",
       "    <tr>\n",
       "      <th>Arbor Brewing Company</th>\n",
       "      <td>8396.545455</td>\n",
       "    </tr>\n",
       "  </tbody>\n",
       "</table>\n",
       "</div>"
      ],
      "text/plain": [
       "                                    votes\n",
       "name                                     \n",
       "Byg Brewski Brewing Company  16588.500000\n",
       "Toit                         14956.000000\n",
       "The Black Pearl               9562.333333\n",
       "Big Pitcher                   9164.500000\n",
       "Arbor Brewing Company         8396.545455"
      ]
     },
     "execution_count": 81,
     "metadata": {},
     "output_type": "execute_result"
    }
   ],
   "source": [
    "# top restaurent which has highest voting can use sum also here\n",
    "new_df.groupby('name')[['votes']].mean().sort_values(by='votes',ascending=False).head()"
   ]
  },
  {
   "cell_type": "code",
   "execution_count": 82,
   "id": "86e27b86-5263-4914-bd21-ddffc8844aee",
   "metadata": {},
   "outputs": [
    {
     "data": {
      "text/html": [
       "<div>\n",
       "<style scoped>\n",
       "    .dataframe tbody tr th:only-of-type {\n",
       "        vertical-align: middle;\n",
       "    }\n",
       "\n",
       "    .dataframe tbody tr th {\n",
       "        vertical-align: top;\n",
       "    }\n",
       "\n",
       "    .dataframe thead th {\n",
       "        text-align: right;\n",
       "    }\n",
       "</style>\n",
       "<table border=\"1\" class=\"dataframe\">\n",
       "  <thead>\n",
       "    <tr style=\"text-align: right;\">\n",
       "      <th></th>\n",
       "      <th>rate</th>\n",
       "      <th>name</th>\n",
       "    </tr>\n",
       "    <tr>\n",
       "      <th>location</th>\n",
       "      <th></th>\n",
       "      <th></th>\n",
       "    </tr>\n",
       "  </thead>\n",
       "  <tbody>\n",
       "    <tr>\n",
       "      <th>BTM</th>\n",
       "      <td>4.9</td>\n",
       "      <td>sCoolMeal</td>\n",
       "    </tr>\n",
       "    <tr>\n",
       "      <th>Banashankari</th>\n",
       "      <td>4.7</td>\n",
       "      <td>Yo Roll Corner</td>\n",
       "    </tr>\n",
       "    <tr>\n",
       "      <th>Banaswadi</th>\n",
       "      <td>4.4</td>\n",
       "      <td>Zam Zam Restaurant</td>\n",
       "    </tr>\n",
       "    <tr>\n",
       "      <th>Bannerghatta Road</th>\n",
       "      <td>4.6</td>\n",
       "      <td>refuel</td>\n",
       "    </tr>\n",
       "    <tr>\n",
       "      <th>Basavanagudi</th>\n",
       "      <td>4.8</td>\n",
       "      <td>Zephyr</td>\n",
       "    </tr>\n",
       "  </tbody>\n",
       "</table>\n",
       "</div>"
      ],
      "text/plain": [
       "                   rate                name\n",
       "location                                   \n",
       "BTM                 4.9           sCoolMeal\n",
       "Banashankari        4.7      Yo Roll Corner\n",
       "Banaswadi           4.4  Zam Zam Restaurant\n",
       "Bannerghatta Road   4.6              refuel\n",
       "Basavanagudi        4.8              Zephyr"
      ]
     },
     "execution_count": 82,
     "metadata": {},
     "output_type": "execute_result"
    }
   ],
   "source": [
    "# Grouping by Location Only will get max rating and name accprding to lexicographically largest restaurant name\n",
    "# location_df = new_df.groupby('location')\n",
    "# location_df[['rate','name']].max().head()\n",
    "\n",
    "new_df.groupby(['location'])[['rate','name']].max().head()"
   ]
  },
  {
   "cell_type": "code",
   "execution_count": 83,
   "id": "98ea9c55-7252-4a28-824c-173902fa0284",
   "metadata": {},
   "outputs": [
    {
     "data": {
      "text/html": [
       "<div>\n",
       "<style scoped>\n",
       "    .dataframe tbody tr th:only-of-type {\n",
       "        vertical-align: middle;\n",
       "    }\n",
       "\n",
       "    .dataframe tbody tr th {\n",
       "        vertical-align: top;\n",
       "    }\n",
       "\n",
       "    .dataframe thead th {\n",
       "        text-align: right;\n",
       "    }\n",
       "</style>\n",
       "<table border=\"1\" class=\"dataframe\">\n",
       "  <thead>\n",
       "    <tr style=\"text-align: right;\">\n",
       "      <th></th>\n",
       "      <th></th>\n",
       "      <th>rate</th>\n",
       "    </tr>\n",
       "    <tr>\n",
       "      <th>location</th>\n",
       "      <th>name</th>\n",
       "      <th></th>\n",
       "    </tr>\n",
       "  </thead>\n",
       "  <tbody>\n",
       "    <tr>\n",
       "      <th>Whitefield</th>\n",
       "      <th>Flechazo</th>\n",
       "      <td>4.9</td>\n",
       "    </tr>\n",
       "    <tr>\n",
       "      <th>Sarjapur Road</th>\n",
       "      <th>Byg Brewski Brewing Company</th>\n",
       "      <td>4.9</td>\n",
       "    </tr>\n",
       "    <tr>\n",
       "      <th>BTM</th>\n",
       "      <th>ABs  Absolute Barbecues</th>\n",
       "      <td>4.9</td>\n",
       "    </tr>\n",
       "    <tr>\n",
       "      <th>Brigade Road</th>\n",
       "      <th>Belgian Waffle Factory</th>\n",
       "      <td>4.9</td>\n",
       "    </tr>\n",
       "    <tr>\n",
       "      <th>Whitefield</th>\n",
       "      <th>Punjab Grill</th>\n",
       "      <td>4.9</td>\n",
       "    </tr>\n",
       "  </tbody>\n",
       "</table>\n",
       "</div>"
      ],
      "text/plain": [
       "                                           rate\n",
       "location      name                             \n",
       "Whitefield    Flechazo                      4.9\n",
       "Sarjapur Road Byg Brewski Brewing Company   4.9\n",
       "BTM           ABs  Absolute Barbecues       4.9\n",
       "Brigade Road  Belgian Waffle Factory        4.9\n",
       "Whitefield    Punjab Grill                  4.9"
      ]
     },
     "execution_count": 83,
     "metadata": {},
     "output_type": "execute_result"
    }
   ],
   "source": [
    "# restaurent wiht highest   rating according to location \n",
    "new_df.groupby(['location','name'])[['rate']].max().sort_values(by='rate', ascending = False).head()"
   ]
  },
  {
   "cell_type": "code",
   "execution_count": 84,
   "id": "ef100e63-2a9a-47d8-87f2-5594efebf36e",
   "metadata": {},
   "outputs": [
    {
     "data": {
      "text/html": [
       "<div>\n",
       "<style scoped>\n",
       "    .dataframe tbody tr th:only-of-type {\n",
       "        vertical-align: middle;\n",
       "    }\n",
       "\n",
       "    .dataframe tbody tr th {\n",
       "        vertical-align: top;\n",
       "    }\n",
       "\n",
       "    .dataframe thead th {\n",
       "        text-align: right;\n",
       "    }\n",
       "</style>\n",
       "<table border=\"1\" class=\"dataframe\">\n",
       "  <thead>\n",
       "    <tr style=\"text-align: right;\">\n",
       "      <th></th>\n",
       "      <th></th>\n",
       "      <th>votes</th>\n",
       "    </tr>\n",
       "    <tr>\n",
       "      <th>location</th>\n",
       "      <th>name</th>\n",
       "      <th></th>\n",
       "    </tr>\n",
       "  </thead>\n",
       "  <tbody>\n",
       "    <tr>\n",
       "      <th>Sarjapur Road</th>\n",
       "      <th>Byg Brewski Brewing Company</th>\n",
       "      <td>16588.500000</td>\n",
       "    </tr>\n",
       "    <tr>\n",
       "      <th>Indiranagar</th>\n",
       "      <th>Toit</th>\n",
       "      <td>14956.000000</td>\n",
       "    </tr>\n",
       "    <tr>\n",
       "      <th>Koramangala 5th Block</th>\n",
       "      <th>Truffles</th>\n",
       "      <td>14700.600000</td>\n",
       "    </tr>\n",
       "    <tr>\n",
       "      <th>Marathahalli</th>\n",
       "      <th>ABs  Absolute Barbecues</th>\n",
       "      <td>12121.000000</td>\n",
       "    </tr>\n",
       "    <tr>\n",
       "      <th>Koramangala 5th Block</th>\n",
       "      <th>The Black Pearl</th>\n",
       "      <td>10498.846154</td>\n",
       "    </tr>\n",
       "  </tbody>\n",
       "</table>\n",
       "</div>"
      ],
      "text/plain": [
       "                                                          votes\n",
       "location              name                                     \n",
       "Sarjapur Road         Byg Brewski Brewing Company  16588.500000\n",
       "Indiranagar           Toit                         14956.000000\n",
       "Koramangala 5th Block Truffles                     14700.600000\n",
       "Marathahalli          ABs  Absolute Barbecues      12121.000000\n",
       "Koramangala 5th Block The Black Pearl              10498.846154"
      ]
     },
     "execution_count": 84,
     "metadata": {},
     "output_type": "execute_result"
    }
   ],
   "source": [
    "# restaurant with the highest mean votes according to location\n",
    "mean_votes=new_df.groupby(['location','name'])[['votes']].mean().sort_values(by='votes', ascending = False).head()\n",
    "mean_votes.head()"
   ]
  },
  {
   "cell_type": "code",
   "execution_count": 85,
   "id": "b20d32df-c3a5-4c5c-83af-c30a03c692ab",
   "metadata": {},
   "outputs": [
    {
     "data": {
      "text/html": [
       "<div>\n",
       "<style scoped>\n",
       "    .dataframe tbody tr th:only-of-type {\n",
       "        vertical-align: middle;\n",
       "    }\n",
       "\n",
       "    .dataframe tbody tr th {\n",
       "        vertical-align: top;\n",
       "    }\n",
       "\n",
       "    .dataframe thead th {\n",
       "        text-align: right;\n",
       "    }\n",
       "</style>\n",
       "<table border=\"1\" class=\"dataframe\">\n",
       "  <thead>\n",
       "    <tr style=\"text-align: right;\">\n",
       "      <th></th>\n",
       "      <th></th>\n",
       "      <th>votes</th>\n",
       "    </tr>\n",
       "    <tr>\n",
       "      <th>location</th>\n",
       "      <th>name</th>\n",
       "      <th></th>\n",
       "    </tr>\n",
       "  </thead>\n",
       "  <tbody>\n",
       "    <tr>\n",
       "      <th>Sarjapur Road</th>\n",
       "      <th>Byg Brewski Brewing Company</th>\n",
       "      <td>16588.0</td>\n",
       "    </tr>\n",
       "    <tr>\n",
       "      <th>Indiranagar</th>\n",
       "      <th>Toit</th>\n",
       "      <td>14956.0</td>\n",
       "    </tr>\n",
       "    <tr>\n",
       "      <th>Koramangala 5th Block</th>\n",
       "      <th>Truffles</th>\n",
       "      <td>14701.0</td>\n",
       "    </tr>\n",
       "    <tr>\n",
       "      <th>Marathahalli</th>\n",
       "      <th>ABs  Absolute Barbecues</th>\n",
       "      <td>12121.0</td>\n",
       "    </tr>\n",
       "    <tr>\n",
       "      <th>Koramangala 5th Block</th>\n",
       "      <th>The Black Pearl</th>\n",
       "      <td>10499.0</td>\n",
       "    </tr>\n",
       "  </tbody>\n",
       "</table>\n",
       "</div>"
      ],
      "text/plain": [
       "                                                     votes\n",
       "location              name                                \n",
       "Sarjapur Road         Byg Brewski Brewing Company  16588.0\n",
       "Indiranagar           Toit                         14956.0\n",
       "Koramangala 5th Block Truffles                     14701.0\n",
       "Marathahalli          ABs  Absolute Barbecues      12121.0\n",
       "Koramangala 5th Block The Black Pearl              10499.0"
      ]
     },
     "execution_count": 85,
     "metadata": {},
     "output_type": "execute_result"
    }
   ],
   "source": [
    "mean_votes.round()"
   ]
  },
  {
   "cell_type": "code",
   "execution_count": 86,
   "id": "9d6b8051-f1bb-4726-a448-444eb8a3927f",
   "metadata": {},
   "outputs": [
    {
     "data": {
      "text/plain": [
       "online_order\n",
       "Yes    30444\n",
       "No     21273\n",
       "Name: count, dtype: int64"
      ]
     },
     "execution_count": 86,
     "metadata": {},
     "output_type": "execute_result"
    }
   ],
   "source": [
    "# number of restaurent that take online order\n",
    "new_df['online_order'].value_counts()"
   ]
  },
  {
   "cell_type": "code",
   "execution_count": 87,
   "id": "3f257e52-7e45-41e1-bab3-22d62bd27283",
   "metadata": {},
   "outputs": [
    {
     "data": {
      "text/plain": [
       "book_table\n",
       "No     45268\n",
       "Yes     6449\n",
       "Name: count, dtype: int64"
      ]
     },
     "execution_count": 87,
     "metadata": {},
     "output_type": "execute_result"
    }
   ],
   "source": [
    "# number of restaurent that take online booking (reservation)\n",
    "new_df['book_table'].value_counts()"
   ]
  },
  {
   "cell_type": "code",
   "execution_count": 88,
   "id": "43f30e34-c085-4a75-ada5-24153dd1a7fb",
   "metadata": {},
   "outputs": [
    {
     "data": {
      "text/plain": [
       "5"
      ]
     },
     "execution_count": 88,
     "metadata": {},
     "output_type": "execute_result"
    }
   ],
   "source": [
    "# highest rating casual dining restaurent\n",
    "casual_dining = new_df[(new_df['rest_type'] == 'Casual Dining')].head()\n",
    "casual_dining.groupby(['name','location']).agg({'rate':'max'}).sort_values(by='rate',ascending=False).head()\n",
    "# total number of quick bites restaurent\n",
    "quick_bites['name'].count()"
   ]
  },
  {
   "cell_type": "code",
   "execution_count": 89,
   "id": "89423a96-d13e-45ef-b084-d1c9aa38661e",
   "metadata": {},
   "outputs": [
    {
     "data": {
      "text/html": [
       "<div>\n",
       "<style scoped>\n",
       "    .dataframe tbody tr th:only-of-type {\n",
       "        vertical-align: middle;\n",
       "    }\n",
       "\n",
       "    .dataframe tbody tr th {\n",
       "        vertical-align: top;\n",
       "    }\n",
       "\n",
       "    .dataframe thead th {\n",
       "        text-align: right;\n",
       "    }\n",
       "</style>\n",
       "<table border=\"1\" class=\"dataframe\">\n",
       "  <thead>\n",
       "    <tr style=\"text-align: right;\">\n",
       "      <th></th>\n",
       "      <th>rate</th>\n",
       "    </tr>\n",
       "    <tr>\n",
       "      <th>location</th>\n",
       "      <th></th>\n",
       "    </tr>\n",
       "  </thead>\n",
       "  <tbody>\n",
       "    <tr>\n",
       "      <th>Church Street</th>\n",
       "      <td>1.8</td>\n",
       "    </tr>\n",
       "    <tr>\n",
       "      <th>Marathahalli</th>\n",
       "      <td>2.0</td>\n",
       "    </tr>\n",
       "    <tr>\n",
       "      <th>Brigade Road</th>\n",
       "      <td>2.0</td>\n",
       "    </tr>\n",
       "    <tr>\n",
       "      <th>Indiranagar</th>\n",
       "      <td>2.1</td>\n",
       "    </tr>\n",
       "    <tr>\n",
       "      <th>Sarjapur Road</th>\n",
       "      <td>2.1</td>\n",
       "    </tr>\n",
       "  </tbody>\n",
       "</table>\n",
       "</div>"
      ],
      "text/plain": [
       "               rate\n",
       "location           \n",
       "Church Street   1.8\n",
       "Marathahalli    2.0\n",
       "Brigade Road    2.0\n",
       "Indiranagar     2.1\n",
       "Sarjapur Road   2.1"
      ]
     },
     "execution_count": 89,
     "metadata": {},
     "output_type": "execute_result"
    }
   ],
   "source": [
    "# Lowest voting restaurent according to location\n",
    "new_df.groupby('location').agg({'rate':'min'}).sort_values(by='rate',ascending=True).head()"
   ]
  },
  {
   "cell_type": "code",
   "execution_count": 90,
   "id": "9def1d69-6f9f-43aa-99e1-ec7a57aec6bb",
   "metadata": {},
   "outputs": [
    {
     "data": {
      "text/html": [
       "<div>\n",
       "<style scoped>\n",
       "    .dataframe tbody tr th:only-of-type {\n",
       "        vertical-align: middle;\n",
       "    }\n",
       "\n",
       "    .dataframe tbody tr th {\n",
       "        vertical-align: top;\n",
       "    }\n",
       "\n",
       "    .dataframe thead th {\n",
       "        text-align: right;\n",
       "    }\n",
       "</style>\n",
       "<table border=\"1\" class=\"dataframe\">\n",
       "  <thead>\n",
       "    <tr style=\"text-align: right;\">\n",
       "      <th></th>\n",
       "      <th>approx_cost(for two people)</th>\n",
       "      <th>name</th>\n",
       "    </tr>\n",
       "    <tr>\n",
       "      <th>location</th>\n",
       "      <th></th>\n",
       "      <th></th>\n",
       "    </tr>\n",
       "  </thead>\n",
       "  <tbody>\n",
       "    <tr>\n",
       "      <th>Old Airport Road</th>\n",
       "      <td>6000.0</td>\n",
       "      <td>Kya Khaoge</td>\n",
       "    </tr>\n",
       "    <tr>\n",
       "      <th>Sankey Road</th>\n",
       "      <td>5000.0</td>\n",
       "      <td>La Brasserie  Le Meridien</td>\n",
       "    </tr>\n",
       "    <tr>\n",
       "      <th>Marathahalli</th>\n",
       "      <td>4500.0</td>\n",
       "      <td>Mumbai Kulfi</td>\n",
       "    </tr>\n",
       "    <tr>\n",
       "      <th>Residency Road</th>\n",
       "      <td>4000.0</td>\n",
       "      <td>Konark Vegetarian Restaurant</td>\n",
       "    </tr>\n",
       "    <tr>\n",
       "      <th>Race Course Road</th>\n",
       "      <td>4000.0</td>\n",
       "      <td>One Atria Cafe</td>\n",
       "    </tr>\n",
       "  </tbody>\n",
       "</table>\n",
       "</div>"
      ],
      "text/plain": [
       "                  approx_cost(for two people)                          name\n",
       "location                                                                   \n",
       "Old Airport Road                       6000.0                    Kya Khaoge\n",
       "Sankey Road                            5000.0     La Brasserie  Le Meridien\n",
       "Marathahalli                           4500.0                  Mumbai Kulfi\n",
       "Residency Road                         4000.0  Konark Vegetarian Restaurant\n",
       "Race Course Road                       4000.0                One Atria Cafe"
      ]
     },
     "execution_count": 90,
     "metadata": {},
     "output_type": "execute_result"
    }
   ],
   "source": [
    "#costliest restaurent name according to location\n",
    "new_df.groupby(['location']).agg({'approx_cost(for two people)':'max','name':'first'}).sort_values(by='approx_cost(for two people)', ascending = False).head()"
   ]
  },
  {
   "cell_type": "code",
   "execution_count": 91,
   "id": "81936685-8109-4091-a486-d7cea49c3939",
   "metadata": {},
   "outputs": [
    {
     "data": {
      "text/plain": [
       "555.4315664479959"
      ]
     },
     "execution_count": 91,
     "metadata": {},
     "output_type": "execute_result"
    }
   ],
   "source": [
    "# What is the average cost for two people across all restaurants in the dataset?\n",
    "new_df['approx_cost(for two people)'].mean()"
   ]
  },
  {
   "cell_type": "code",
   "execution_count": 92,
   "id": "3de9fd62-107f-43f8-b710-1fb144bf29f8",
   "metadata": {},
   "outputs": [
    {
     "data": {
      "text/plain": [
       "3805"
      ]
     },
     "execution_count": 92,
     "metadata": {},
     "output_type": "execute_result"
    }
   ],
   "source": [
    "# How many restaurants allow both online orders and table booking?\n",
    "total_online_order_and_booking_rest = new_df[(new_df['online_order']=='Yes')&(new_df['book_table']=='Yes')]\n",
    "total_online_order_and_booking_rest = total_online_order_and_booking_rest['name'].count()\n",
    "total_online_order_and_booking_rest"
   ]
  },
  {
   "cell_type": "code",
   "execution_count": 93,
   "id": "9c7b9354-6e03-4024-820a-aa34f5de0f70",
   "metadata": {},
   "outputs": [
    {
     "data": {
      "text/plain": [
       "51717"
      ]
     },
     "execution_count": 93,
     "metadata": {},
     "output_type": "execute_result"
    }
   ],
   "source": [
    "total_count = new_df['name'].count()\n",
    "total_count"
   ]
  },
  {
   "cell_type": "code",
   "execution_count": 94,
   "id": "b7cae2f8-7196-477c-b5c6-ddaacf65e594",
   "metadata": {},
   "outputs": [],
   "source": [
    "sizes=[total_count,total_online_order_and_booking_rest]\n",
    "labels=['Other Restaurent', 'Online Orders and Table Bookings']"
   ]
  },
  {
   "cell_type": "code",
   "execution_count": 95,
   "id": "ba5e9601-cb99-429b-9723-2f39783f9ed4",
   "metadata": {},
   "outputs": [
    {
     "data": {
      "image/png": "[encoded data removed]",
      "text/plain": [
       "<Figure size 640x480 with 1 Axes>"
      ]
     },
     "metadata": {},
     "output_type": "display_data"
    }
   ],
   "source": [
    "plt.pie(sizes,labels=labels,autopct=\"%1.1f%%\",colors=['#66b3ff', '#ff9999'])\n",
    "plt.show()"
   ]
  },
  {
   "cell_type": "code",
   "execution_count": 96,
   "id": "5e2af043-0ba7-4544-a8ee-f1174b630c6a",
   "metadata": {},
   "outputs": [],
   "source": [
    "sizes=[online_order_count2,total_online_order_and_booking_rest,online_booking_count]\n",
    "labels=['Online Order', 'Online Orders and Table Bookings', 'Online Booking']"
   ]
  },
  {
   "cell_type": "code",
   "execution_count": 97,
   "id": "9934763c-0ab3-4cab-9500-e51a6fb79e54",
   "metadata": {},
   "outputs": [
    {
     "data": {
      "image/png": "[encoded data removed]",
      "text/plain": [
       "<Figure size 640x480 with 1 Axes>"
      ]
     },
     "metadata": {},
     "output_type": "display_data"
    }
   ],
   "source": [
    "plt.pie(sizes,labels=labels,autopct=\"%1.1f%%\",colors = ['#66b3ff', '#ff9999', '#99ff99'])\n",
    "plt.show()"
   ]
  },
  {
   "cell_type": "code",
   "execution_count": 98,
   "id": "ffdded65-4d87-4cba-93ce-4ddeeb4825fe",
   "metadata": {},
   "outputs": [
    {
     "data": {
      "text/plain": [
       "name                                                 Byg Brewski Brewing Company\n",
       "online_order                                                                 Yes\n",
       "book_table                                                                   Yes\n",
       "rate                                                                         4.9\n",
       "votes                                                                      16345\n",
       "location                                                           Sarjapur Road\n",
       "rest_type                                                           Microbrewery\n",
       "dish_liked                     Cocktails, Dahi Kebab, Rajma Chawal, Butter Ch...\n",
       "cuisines                       Continental, North Indian, Italian, South Indi...\n",
       "approx_cost(for two people)                                               1600.0\n",
       "listed_in(type)                                                         Delivery\n",
       "Name: 3921, dtype: object"
      ]
     },
     "execution_count": 98,
     "metadata": {},
     "output_type": "execute_result"
    }
   ],
   "source": [
    "# Which restaurant has the highest rating, and what is the location of that restaurant?\n",
    "index = new_df['rate'].idxmax() \n",
    "new_df.iloc[index]"
   ]
  },
  {
   "cell_type": "code",
   "execution_count": 99,
   "id": "ca35ba4f-132e-4e6f-a8b6-bc89b95bd415",
   "metadata": {},
   "outputs": [
    {
     "data": {
      "text/plain": [
       "0        [Pasta,  Lunch Buffet,  Masala Papad,  Paneer ...\n",
       "1        [Momos,  Lunch Buffet,  Chocolate Nirvana,  Th...\n",
       "2        [Churros,  Cannelloni,  Minestrone Soup,  Hot ...\n",
       "3                                            [Masala Dosa]\n",
       "4                                   [Panipuri,  Gol Gappe]\n",
       "                               ...                        \n",
       "51712                                      [Not Available]\n",
       "51713                                      [Not Available]\n",
       "51714                                      [Not Available]\n",
       "51715                     [Cocktails,  Pizza,  Buttermilk]\n",
       "51716                                      [Not Available]\n",
       "Name: dish_liked, Length: 51717, dtype: object"
      ]
     },
     "execution_count": 99,
     "metadata": {},
     "output_type": "execute_result"
    }
   ],
   "source": [
    "# What is the most liked dish across all restaurants?\n",
    "splitted_dishes = new_df['dish_liked'].str.split(',')\n",
    "splitted_dishes"
   ]
  },
  {
   "cell_type": "code",
   "execution_count": 100,
   "id": "95bd0ec5-3b2e-467d-892a-1f734d288966",
   "metadata": {},
   "outputs": [
    {
     "data": {
      "text/plain": [
       "0                  Pasta\n",
       "0           Lunch Buffet\n",
       "0           Masala Papad\n",
       "0         Paneer Lajawab\n",
       "0          Tomato Shorba\n",
       "              ...       \n",
       "51714      Not Available\n",
       "51715          Cocktails\n",
       "51715              Pizza\n",
       "51715         Buttermilk\n",
       "51716      Not Available\n",
       "Name: dish_liked, Length: 156926, dtype: object"
      ]
     },
     "execution_count": 100,
     "metadata": {},
     "output_type": "execute_result"
    }
   ],
   "source": [
    "exploded_dishes = splitted_dishes.explode()  #explode() transforms each list element into a separate row, making it easier to count.\n",
    "exploded_dishes"
   ]
  },
  {
   "cell_type": "code",
   "execution_count": 101,
   "id": "be7c948a-2e15-4d7a-b7d3-986b4d5e6b96",
   "metadata": {},
   "outputs": [
    {
     "data": {
      "text/plain": [
       "'Not Available'"
      ]
     },
     "execution_count": 101,
     "metadata": {},
     "output_type": "execute_result"
    }
   ],
   "source": [
    "exploded_dishes.value_counts().idxmax() # The idxmax() function in pandas is used to find the index of the first occurrence of the maximum value in a Series"
   ]
  },
  {
   "cell_type": "code",
   "execution_count": 102,
   "id": "fb267b93-c1d7-4ced-9d93-8f14e708d9e4",
   "metadata": {},
   "outputs": [
    {
     "data": {
      "image/png": "[encoded data removed]",
      "text/plain": [
       "<Figure size 640x480 with 1 Axes>"
      ]
     },
     "metadata": {},
     "output_type": "display_data"
    }
   ],
   "source": [
    "most_liked_dishes = exploded_dishes.value_counts().head(6)\n",
    "most_liked_dishes = most_liked_dishes[1::]\n",
    "most_liked_dishes\n",
    "labels = most_liked_dishes.index\n",
    "values = most_liked_dishes.values\n",
    "# most_liked_dishes.plot.pie(autopct='%1.1f%%',  colors=['#66b3ff', '#ff9999', '#99ff99', '#ffcc99', '#c2c2f0'])\n",
    "\n",
    "plt.pie(values,labels=labels,autopct='%1.1f%%',  colors=['#66b3ff', '#ff9999', '#99ff99', '#ffcc99', '#c2c2f0'])\n",
    "\n",
    "plt.show()"
   ]
  },
  {
   "cell_type": "code",
   "execution_count": 103,
   "id": "a67b6aae-c71e-462d-a206-38cba2c3b469",
   "metadata": {},
   "outputs": [
    {
     "data": {
      "text/plain": [
       "dish_liked\n",
       "Pasta        2737\n",
       "Pizza        1970\n",
       "Cocktails    1922\n",
       "Burgers      1766\n",
       "Mocktails    1645\n",
       "Name: count, dtype: int64"
      ]
     },
     "execution_count": 103,
     "metadata": {},
     "output_type": "execute_result"
    }
   ],
   "source": [
    "most_liked_dishes"
   ]
  },
  {
   "cell_type": "code",
   "execution_count": null,
   "id": "ddc15881-e465-4c20-9da5-66226e7f3191",
   "metadata": {},
   "outputs": [],
   "source": []
  },
  {
   "cell_type": "code",
   "execution_count": 104,
   "id": "9e54842a-0f60-463c-a181-a49312fad425",
   "metadata": {},
   "outputs": [
    {
     "data": {
      "text/plain": [
       "126819"
      ]
     },
     "execution_count": 104,
     "metadata": {},
     "output_type": "execute_result"
    }
   ],
   "source": [
    "# How many restaurants serve multiple cuisines, and what is the most common type of restaurant?\n",
    "new_df['cuisines']\n",
    "splitting_cuisines = new_df['cuisines'].str.split(',')\n",
    "splitting_cuisines.head()\n",
    "def count_cuisines_in_list(cuisines_list):\n",
    "    if isinstance(cuisines_list,list):\n",
    "        return len(cuisines_list)\n",
    "    else:\n",
    "        return 0\n",
    "\n",
    "final_count = splitting_cuisines.apply(count_cuisines_in_list)\n",
    "final_count.sum() # 126819\n",
    "\n",
    "\n",
    "#  what is the most common type of restaurant?\n",
    "# splitting_rest_type = new_df['rest_type'].str.split(',').explode()\n",
    "# splitting_rest_type.value_counts().idxmax() # 'Quick Bites'\n",
    "# splitting_rest_type.value_counts().max()"
   ]
  },
  {
   "cell_type": "code",
   "execution_count": null,
   "id": "adf0d935-0aa1-40e4-ae71-576035b1d738",
   "metadata": {},
   "outputs": [],
   "source": []
  },
  {
   "cell_type": "code",
   "execution_count": 105,
   "id": "59b3bf35-c736-4ecd-a423-be7dd887add2",
   "metadata": {},
   "outputs": [],
   "source": [
    "# Which restaurants have a rating above or equal to the average rating and a cost for two people below or equal to the average cost?\n",
    "avg_rating = new_df['rate'].mean()\n",
    "avg_rating\n",
    "avg_cost = new_df['approx_cost(for two people)'].mean()\n",
    "avg_cost\n",
    "avg_rest = new_df[(new_df['rate']>=avg_rating) & (new_df['approx_cost(for two people)']<=avg_cost)].sort_values(by='rate', ascending=False).head()"
   ]
  },
  {
   "cell_type": "code",
   "execution_count": 106,
   "id": "ca2006cd-4d4d-439f-b53d-4005fa2c0fdc",
   "metadata": {},
   "outputs": [
    {
     "data": {
      "text/plain": [
       "3.700448817952718"
      ]
     },
     "execution_count": 106,
     "metadata": {},
     "output_type": "execute_result"
    }
   ],
   "source": [
    "avg_rating"
   ]
  },
  {
   "cell_type": "code",
   "execution_count": 107,
   "id": "505b8f89-5292-43b3-9203-0b1e9db3d734",
   "metadata": {},
   "outputs": [
    {
     "data": {
      "text/plain": [
       "555.4315664479959"
      ]
     },
     "execution_count": 107,
     "metadata": {},
     "output_type": "execute_result"
    }
   ],
   "source": [
    "avg_cost"
   ]
  },
  {
   "cell_type": "code",
   "execution_count": 108,
   "id": "6af433f7-b295-4f3c-a1df-c56d16d8eeac",
   "metadata": {},
   "outputs": [
    {
     "data": {
      "text/html": [
       "<div>\n",
       "<style scoped>\n",
       "    .dataframe tbody tr th:only-of-type {\n",
       "        vertical-align: middle;\n",
       "    }\n",
       "\n",
       "    .dataframe tbody tr th {\n",
       "        vertical-align: top;\n",
       "    }\n",
       "\n",
       "    .dataframe thead th {\n",
       "        text-align: right;\n",
       "    }\n",
       "</style>\n",
       "<table border=\"1\" class=\"dataframe\">\n",
       "  <thead>\n",
       "    <tr style=\"text-align: right;\">\n",
       "      <th></th>\n",
       "      <th>name</th>\n",
       "      <th>online_order</th>\n",
       "      <th>book_table</th>\n",
       "      <th>rate</th>\n",
       "      <th>votes</th>\n",
       "      <th>location</th>\n",
       "      <th>rest_type</th>\n",
       "      <th>dish_liked</th>\n",
       "      <th>cuisines</th>\n",
       "      <th>approx_cost(for two people)</th>\n",
       "      <th>listed_in(type)</th>\n",
       "    </tr>\n",
       "  </thead>\n",
       "  <tbody>\n",
       "    <tr>\n",
       "      <th>5809</th>\n",
       "      <td>Belgian Waffle Factory</td>\n",
       "      <td>Yes</td>\n",
       "      <td>No</td>\n",
       "      <td>4.9</td>\n",
       "      <td>1746</td>\n",
       "      <td>Brigade Road</td>\n",
       "      <td>Dessert Parlor</td>\n",
       "      <td>Coffee, Berryblast, Nachos, Chocolate Waffles,...</td>\n",
       "      <td>Desserts</td>\n",
       "      <td>400.0</td>\n",
       "      <td>Desserts</td>\n",
       "    </tr>\n",
       "    <tr>\n",
       "      <th>47409</th>\n",
       "      <td>Belgian Waffle Factory</td>\n",
       "      <td>Yes</td>\n",
       "      <td>No</td>\n",
       "      <td>4.9</td>\n",
       "      <td>1749</td>\n",
       "      <td>Brigade Road</td>\n",
       "      <td>Dessert Parlor</td>\n",
       "      <td>Coffee, Berryblast, Nachos, Chocolate Waffles,...</td>\n",
       "      <td>Desserts</td>\n",
       "      <td>400.0</td>\n",
       "      <td>Delivery</td>\n",
       "    </tr>\n",
       "    <tr>\n",
       "      <th>37843</th>\n",
       "      <td>Belgian Waffle Factory</td>\n",
       "      <td>Yes</td>\n",
       "      <td>No</td>\n",
       "      <td>4.9</td>\n",
       "      <td>1749</td>\n",
       "      <td>Brigade Road</td>\n",
       "      <td>Dessert Parlor</td>\n",
       "      <td>Coffee, Berryblast, Nachos, Chocolate Waffles,...</td>\n",
       "      <td>Desserts</td>\n",
       "      <td>400.0</td>\n",
       "      <td>Delivery</td>\n",
       "    </tr>\n",
       "    <tr>\n",
       "      <th>43055</th>\n",
       "      <td>Belgian Waffle Factory</td>\n",
       "      <td>Yes</td>\n",
       "      <td>No</td>\n",
       "      <td>4.9</td>\n",
       "      <td>1750</td>\n",
       "      <td>Brigade Road</td>\n",
       "      <td>Dessert Parlor</td>\n",
       "      <td>Coffee, Berryblast, Nachos, Chocolate Waffles,...</td>\n",
       "      <td>Desserts</td>\n",
       "      <td>400.0</td>\n",
       "      <td>Desserts</td>\n",
       "    </tr>\n",
       "    <tr>\n",
       "      <th>11745</th>\n",
       "      <td>Belgian Waffle Factory</td>\n",
       "      <td>Yes</td>\n",
       "      <td>No</td>\n",
       "      <td>4.9</td>\n",
       "      <td>1744</td>\n",
       "      <td>Brigade Road</td>\n",
       "      <td>Dessert Parlor</td>\n",
       "      <td>Coffee, Berryblast, Nachos, Chocolate Waffles,...</td>\n",
       "      <td>Desserts</td>\n",
       "      <td>400.0</td>\n",
       "      <td>Delivery</td>\n",
       "    </tr>\n",
       "  </tbody>\n",
       "</table>\n",
       "</div>"
      ],
      "text/plain": [
       "                         name online_order book_table  rate  votes  \\\n",
       "5809   Belgian Waffle Factory          Yes         No   4.9   1746   \n",
       "47409  Belgian Waffle Factory          Yes         No   4.9   1749   \n",
       "37843  Belgian Waffle Factory          Yes         No   4.9   1749   \n",
       "43055  Belgian Waffle Factory          Yes         No   4.9   1750   \n",
       "11745  Belgian Waffle Factory          Yes         No   4.9   1744   \n",
       "\n",
       "           location       rest_type  \\\n",
       "5809   Brigade Road  Dessert Parlor   \n",
       "47409  Brigade Road  Dessert Parlor   \n",
       "37843  Brigade Road  Dessert Parlor   \n",
       "43055  Brigade Road  Dessert Parlor   \n",
       "11745  Brigade Road  Dessert Parlor   \n",
       "\n",
       "                                              dish_liked  cuisines  \\\n",
       "5809   Coffee, Berryblast, Nachos, Chocolate Waffles,...  Desserts   \n",
       "47409  Coffee, Berryblast, Nachos, Chocolate Waffles,...  Desserts   \n",
       "37843  Coffee, Berryblast, Nachos, Chocolate Waffles,...  Desserts   \n",
       "43055  Coffee, Berryblast, Nachos, Chocolate Waffles,...  Desserts   \n",
       "11745  Coffee, Berryblast, Nachos, Chocolate Waffles,...  Desserts   \n",
       "\n",
       "       approx_cost(for two people) listed_in(type)  \n",
       "5809                         400.0        Desserts  \n",
       "47409                        400.0        Delivery  \n",
       "37843                        400.0        Delivery  \n",
       "43055                        400.0        Desserts  \n",
       "11745                        400.0        Delivery  "
      ]
     },
     "execution_count": 108,
     "metadata": {},
     "output_type": "execute_result"
    }
   ],
   "source": [
    "avg_rest.head()"
   ]
  },
  {
   "cell_type": "code",
   "execution_count": 109,
   "id": "d4eb2e04-8671-4ac1-b89e-7ab7b66cf035",
   "metadata": {},
   "outputs": [
    {
     "data": {
      "text/html": [
       "<div>\n",
       "<style scoped>\n",
       "    .dataframe tbody tr th:only-of-type {\n",
       "        vertical-align: middle;\n",
       "    }\n",
       "\n",
       "    .dataframe tbody tr th {\n",
       "        vertical-align: top;\n",
       "    }\n",
       "\n",
       "    .dataframe thead th {\n",
       "        text-align: right;\n",
       "    }\n",
       "</style>\n",
       "<table border=\"1\" class=\"dataframe\">\n",
       "  <thead>\n",
       "    <tr style=\"text-align: right;\">\n",
       "      <th></th>\n",
       "      <th>name</th>\n",
       "      <th>online_order</th>\n",
       "      <th>book_table</th>\n",
       "      <th>rate</th>\n",
       "      <th>votes</th>\n",
       "      <th>location</th>\n",
       "      <th>rest_type</th>\n",
       "      <th>dish_liked</th>\n",
       "      <th>cuisines</th>\n",
       "      <th>approx_cost(for two people)</th>\n",
       "      <th>listed_in(type)</th>\n",
       "    </tr>\n",
       "  </thead>\n",
       "  <tbody>\n",
       "    <tr>\n",
       "      <th>115</th>\n",
       "      <td>Belgian Waffle Factory</td>\n",
       "      <td>Yes</td>\n",
       "      <td>No</td>\n",
       "      <td>4.9</td>\n",
       "      <td>1746</td>\n",
       "      <td>Brigade Road</td>\n",
       "      <td>Dessert Parlor</td>\n",
       "      <td>Coffee, Berryblast, Nachos, Chocolate Waffles,...</td>\n",
       "      <td>Desserts</td>\n",
       "      <td>400.0</td>\n",
       "      <td>Desserts</td>\n",
       "    </tr>\n",
       "    <tr>\n",
       "      <th>808</th>\n",
       "      <td>Milano Ice Cream</td>\n",
       "      <td>No</td>\n",
       "      <td>No</td>\n",
       "      <td>4.9</td>\n",
       "      <td>2090</td>\n",
       "      <td>Indiranagar</td>\n",
       "      <td>Dessert Parlor</td>\n",
       "      <td>Pie, Vanilla Gelato, Mango Ice Cream, Tiramisu...</td>\n",
       "      <td>Ice Cream, Desserts</td>\n",
       "      <td>400.0</td>\n",
       "      <td>Desserts</td>\n",
       "    </tr>\n",
       "    <tr>\n",
       "      <th>179</th>\n",
       "      <td>CTR</td>\n",
       "      <td>Yes</td>\n",
       "      <td>No</td>\n",
       "      <td>4.8</td>\n",
       "      <td>4421</td>\n",
       "      <td>Malleshwaram</td>\n",
       "      <td>Quick Bites</td>\n",
       "      <td>Benne Masala Dosa, Filter Coffee, Chai, Butter...</td>\n",
       "      <td>South Indian</td>\n",
       "      <td>150.0</td>\n",
       "      <td>Delivery</td>\n",
       "    </tr>\n",
       "    <tr>\n",
       "      <th>161</th>\n",
       "      <td>Brahmins Coffee Bar</td>\n",
       "      <td>No</td>\n",
       "      <td>No</td>\n",
       "      <td>4.8</td>\n",
       "      <td>2679</td>\n",
       "      <td>Basavanagudi</td>\n",
       "      <td>Quick Bites</td>\n",
       "      <td>Filter Coffee, Kesari Bath, Idli Vada, Upma, B...</td>\n",
       "      <td>South Indian</td>\n",
       "      <td>100.0</td>\n",
       "      <td>Dine-out</td>\n",
       "    </tr>\n",
       "    <tr>\n",
       "      <th>909</th>\n",
       "      <td>OG Variar  Sons</td>\n",
       "      <td>No</td>\n",
       "      <td>No</td>\n",
       "      <td>4.8</td>\n",
       "      <td>1156</td>\n",
       "      <td>Rajajinagar</td>\n",
       "      <td>Bakery</td>\n",
       "      <td>Veg Puff, Plum Cake, Sponge Cake, Tea, Coconut...</td>\n",
       "      <td>Bakery, Desserts</td>\n",
       "      <td>200.0</td>\n",
       "      <td>Desserts</td>\n",
       "    </tr>\n",
       "  </tbody>\n",
       "</table>\n",
       "</div>"
      ],
      "text/plain": [
       "                       name online_order book_table  rate  votes  \\\n",
       "115  Belgian Waffle Factory          Yes         No   4.9   1746   \n",
       "808        Milano Ice Cream           No         No   4.9   2090   \n",
       "179                     CTR          Yes         No   4.8   4421   \n",
       "161     Brahmins Coffee Bar           No         No   4.8   2679   \n",
       "909         OG Variar  Sons           No         No   4.8   1156   \n",
       "\n",
       "         location       rest_type  \\\n",
       "115  Brigade Road  Dessert Parlor   \n",
       "808   Indiranagar  Dessert Parlor   \n",
       "179  Malleshwaram     Quick Bites   \n",
       "161  Basavanagudi     Quick Bites   \n",
       "909   Rajajinagar          Bakery   \n",
       "\n",
       "                                            dish_liked             cuisines  \\\n",
       "115  Coffee, Berryblast, Nachos, Chocolate Waffles,...             Desserts   \n",
       "808  Pie, Vanilla Gelato, Mango Ice Cream, Tiramisu...  Ice Cream, Desserts   \n",
       "179  Benne Masala Dosa, Filter Coffee, Chai, Butter...         South Indian   \n",
       "161  Filter Coffee, Kesari Bath, Idli Vada, Upma, B...         South Indian   \n",
       "909  Veg Puff, Plum Cake, Sponge Cake, Tea, Coconut...     Bakery, Desserts   \n",
       "\n",
       "     approx_cost(for two people) listed_in(type)  \n",
       "115                        400.0        Desserts  \n",
       "808                        400.0        Desserts  \n",
       "179                        150.0        Delivery  \n",
       "161                        100.0        Dine-out  \n",
       "909                        200.0        Desserts  "
      ]
     },
     "execution_count": 109,
     "metadata": {},
     "output_type": "execute_result"
    }
   ],
   "source": [
    "name_of_rest = new_df[(new_df['rate']>=avg_rating) & (new_df['approx_cost(for two people)']<=avg_cost)].sort_values(by='rate',ascending=False)\n",
    "name_of_rest.head()\n",
    "unique_restaurants_df = name_of_rest.groupby('name').first().reset_index()\n",
    "unique_restaurants_df.sort_values(by='rate',ascending=False).head()"
   ]
  },
  {
   "cell_type": "code",
   "execution_count": 110,
   "id": "e1384302-5422-414e-accb-9c29b7bfd371",
   "metadata": {},
   "outputs": [
    {
     "data": {
      "text/plain": [
       "Index(['name', 'online_order', 'book_table', 'rate', 'votes', 'location',\n",
       "       'rest_type', 'dish_liked', 'cuisines', 'approx_cost(for two people)',\n",
       "       'listed_in(type)'],\n",
       "      dtype='object')"
      ]
     },
     "execution_count": 110,
     "metadata": {},
     "output_type": "execute_result"
    }
   ],
   "source": [
    "new_df.columns"
   ]
  },
  {
   "cell_type": "code",
   "execution_count": null,
   "id": "7dbc55d4-dfc1-47bc-8b81-74de5c84a0c7",
   "metadata": {},
   "outputs": [],
   "source": []
  },
  {
   "cell_type": "code",
   "execution_count": 244,
   "id": "531fc3ed-b9dd-444e-a316-1d0ddf969453",
   "metadata": {},
   "outputs": [
    {
     "data": {
      "text/plain": [
       "Text(0.5, 1.0, 'Cost Vs Rating')"
      ]
     },
     "execution_count": 244,
     "metadata": {},
     "output_type": "execute_result"
    },
    {
     "data": {
      "image/png": "[encoded data removed]",
      "text/plain": [
       "<Figure size 640x480 with 1 Axes>"
      ]
     },
     "metadata": {},
     "output_type": "display_data"
    }
   ],
   "source": [
    "sns.scatterplot(data=new_df,x='rate',y='approx_cost(for two people)')\n",
    "plt.title(\"Cost Vs Rating\")"
   ]
  },
  {
   "cell_type": "code",
   "execution_count": 242,
   "id": "718e60c3-c6da-4138-820c-a1960a6e07cf",
   "metadata": {},
   "outputs": [
    {
     "data": {
      "image/png": "[encoded data removed]",
      "text/plain": [
       "<Figure size 640x480 with 1 Axes>"
      ]
     },
     "metadata": {},
     "output_type": "display_data"
    }
   ],
   "source": [
    "# popular restaurants have higher ratings or not.\n",
    "sns.scatterplot(data=new_df, x='rate', y='votes', color='purple')\n",
    "plt.xlabel('Rating')\n",
    "plt.ylabel('Number of Votes')\n",
    "plt.title('Votes vs. Rating')\n",
    "plt.show()"
   ]
  },
  {
   "cell_type": "code",
   "execution_count": 113,
   "id": "9e2a2b2f-1c2e-435f-bb2b-bf26c79ace2d",
   "metadata": {},
   "outputs": [
    {
     "data": {
      "image/png": "[encoded data removed]",
      "text/plain": [
       "<Figure size 640x480 with 1 Axes>"
      ]
     },
     "metadata": {},
     "output_type": "display_data"
    }
   ],
   "source": [
    "# distribution of restaurant ratings\n",
    "sns.histplot(new_df['rate'], bins=10, color='skyblue')\n",
    "plt.xlabel('Rating')\n",
    "plt.ylabel('Frequency')\n",
    "plt.title('Distribution of Restaurant Ratings')\n",
    "plt.show()"
   ]
  },
  {
   "cell_type": "code",
   "execution_count": 114,
   "id": "e0ed5ece-616f-48a4-9c19-ba34a5bdf72e",
   "metadata": {},
   "outputs": [
    {
     "name": "stderr",
     "output_type": "stream",
     "text": [
      "C:\\Users\\hp1\\AppData\\Local\\Temp\\ipykernel_12884\\958342213.py:3: FutureWarning: \n",
      "\n",
      "Passing `palette` without assigning `hue` is deprecated and will be removed in v0.14.0. Assign the `y` variable to `hue` and set `legend=False` for the same effect.\n",
      "\n",
      "  sns.barplot(data=avg_cost_cuisines, x='approx_cost(for two people)', y='cuisines', palette='magma')\n"
     ]
    },
    {
     "data": {
      "image/png": "[encoded data removed]",
      "text/plain": [
       "<Figure size 640x480 with 1 Axes>"
      ]
     },
     "metadata": {},
     "output_type": "display_data"
    }
   ],
   "source": [
    "avg_cost_cuisines = df.groupby('cuisines')['approx_cost(for two people)'].mean().reset_index()\n",
    "avg_cost_cuisines = avg_cost_cuisines.sort_values(by='approx_cost(for two people)', ascending=False).head(10)  \n",
    "sns.barplot(data=avg_cost_cuisines, x='approx_cost(for two people)', y='cuisines', palette='magma')\n",
    "plt.xlabel('Average Cost (for two people)')\n",
    "plt.ylabel('Cuisines')\n",
    "plt.title('Average Cost by Cuisine Type ')\n",
    "plt.yticks(fontsize=8)\n",
    "plt.show()"
   ]
  },
  {
   "cell_type": "code",
   "execution_count": 115,
   "id": "38ba7d29-b200-4f0f-a045-a1d14e709fb5",
   "metadata": {},
   "outputs": [
    {
     "data": {
      "text/html": [
       "<div>\n",
       "<style scoped>\n",
       "    .dataframe tbody tr th:only-of-type {\n",
       "        vertical-align: middle;\n",
       "    }\n",
       "\n",
       "    .dataframe tbody tr th {\n",
       "        vertical-align: top;\n",
       "    }\n",
       "\n",
       "    .dataframe thead th {\n",
       "        text-align: right;\n",
       "    }\n",
       "</style>\n",
       "<table border=\"1\" class=\"dataframe\">\n",
       "  <thead>\n",
       "    <tr style=\"text-align: right;\">\n",
       "      <th></th>\n",
       "      <th>name</th>\n",
       "      <th>online_order</th>\n",
       "      <th>book_table</th>\n",
       "      <th>rate</th>\n",
       "      <th>votes</th>\n",
       "      <th>location</th>\n",
       "      <th>rest_type</th>\n",
       "      <th>dish_liked</th>\n",
       "      <th>cuisines</th>\n",
       "      <th>approx_cost(for two people)</th>\n",
       "      <th>listed_in(type)</th>\n",
       "    </tr>\n",
       "  </thead>\n",
       "  <tbody>\n",
       "    <tr>\n",
       "      <th>0</th>\n",
       "      <td>Jalsa</td>\n",
       "      <td>Yes</td>\n",
       "      <td>Yes</td>\n",
       "      <td>4.1</td>\n",
       "      <td>775</td>\n",
       "      <td>Banashankari</td>\n",
       "      <td>Casual Dining</td>\n",
       "      <td>Pasta, Lunch Buffet, Masala Papad, Paneer Laja...</td>\n",
       "      <td>North Indian, Mughlai, Chinese</td>\n",
       "      <td>800.0</td>\n",
       "      <td>Buffet</td>\n",
       "    </tr>\n",
       "    <tr>\n",
       "      <th>1</th>\n",
       "      <td>Spice Elephant</td>\n",
       "      <td>Yes</td>\n",
       "      <td>No</td>\n",
       "      <td>4.1</td>\n",
       "      <td>787</td>\n",
       "      <td>Banashankari</td>\n",
       "      <td>Casual Dining</td>\n",
       "      <td>Momos, Lunch Buffet, Chocolate Nirvana, Thai G...</td>\n",
       "      <td>Chinese, North Indian, Thai</td>\n",
       "      <td>800.0</td>\n",
       "      <td>Buffet</td>\n",
       "    </tr>\n",
       "    <tr>\n",
       "      <th>2</th>\n",
       "      <td>San Churro Cafe</td>\n",
       "      <td>Yes</td>\n",
       "      <td>No</td>\n",
       "      <td>3.8</td>\n",
       "      <td>918</td>\n",
       "      <td>Banashankari</td>\n",
       "      <td>Cafe, Casual Dining</td>\n",
       "      <td>Churros, Cannelloni, Minestrone Soup, Hot Choc...</td>\n",
       "      <td>Cafe, Mexican, Italian</td>\n",
       "      <td>800.0</td>\n",
       "      <td>Buffet</td>\n",
       "    </tr>\n",
       "    <tr>\n",
       "      <th>3</th>\n",
       "      <td>Addhuri Udupi Bhojana</td>\n",
       "      <td>No</td>\n",
       "      <td>No</td>\n",
       "      <td>3.7</td>\n",
       "      <td>88</td>\n",
       "      <td>Banashankari</td>\n",
       "      <td>Quick Bites</td>\n",
       "      <td>Masala Dosa</td>\n",
       "      <td>South Indian, North Indian</td>\n",
       "      <td>300.0</td>\n",
       "      <td>Buffet</td>\n",
       "    </tr>\n",
       "    <tr>\n",
       "      <th>4</th>\n",
       "      <td>Grand Village</td>\n",
       "      <td>No</td>\n",
       "      <td>No</td>\n",
       "      <td>3.8</td>\n",
       "      <td>166</td>\n",
       "      <td>Basavanagudi</td>\n",
       "      <td>Casual Dining</td>\n",
       "      <td>Panipuri, Gol Gappe</td>\n",
       "      <td>North Indian, Rajasthani</td>\n",
       "      <td>600.0</td>\n",
       "      <td>Buffet</td>\n",
       "    </tr>\n",
       "  </tbody>\n",
       "</table>\n",
       "</div>"
      ],
      "text/plain": [
       "                    name online_order book_table  rate  votes      location  \\\n",
       "0                  Jalsa          Yes        Yes   4.1    775  Banashankari   \n",
       "1         Spice Elephant          Yes         No   4.1    787  Banashankari   \n",
       "2        San Churro Cafe          Yes         No   3.8    918  Banashankari   \n",
       "3  Addhuri Udupi Bhojana           No         No   3.7     88  Banashankari   \n",
       "4          Grand Village           No         No   3.8    166  Basavanagudi   \n",
       "\n",
       "             rest_type                                         dish_liked  \\\n",
       "0        Casual Dining  Pasta, Lunch Buffet, Masala Papad, Paneer Laja...   \n",
       "1        Casual Dining  Momos, Lunch Buffet, Chocolate Nirvana, Thai G...   \n",
       "2  Cafe, Casual Dining  Churros, Cannelloni, Minestrone Soup, Hot Choc...   \n",
       "3          Quick Bites                                        Masala Dosa   \n",
       "4        Casual Dining                                Panipuri, Gol Gappe   \n",
       "\n",
       "                         cuisines  approx_cost(for two people) listed_in(type)  \n",
       "0  North Indian, Mughlai, Chinese                        800.0          Buffet  \n",
       "1     Chinese, North Indian, Thai                        800.0          Buffet  \n",
       "2          Cafe, Mexican, Italian                        800.0          Buffet  \n",
       "3      South Indian, North Indian                        300.0          Buffet  \n",
       "4        North Indian, Rajasthani                        600.0          Buffet  "
      ]
     },
     "execution_count": 115,
     "metadata": {},
     "output_type": "execute_result"
    }
   ],
   "source": [
    "new_df.head()"
   ]
  },
  {
   "cell_type": "code",
   "execution_count": null,
   "id": "f19a5dc2-6f63-42b7-a6a9-62c22d8f39f8",
   "metadata": {},
   "outputs": [],
   "source": []
  },
  {
   "cell_type": "code",
   "execution_count": 116,
   "id": "25dcaf86-8268-43cd-b608-b72384bafb53",
   "metadata": {},
   "outputs": [
    {
     "data": {
      "image/png": "[encoded data removed]",
      "text/plain": [
       "<Figure size 597.486x500 with 1 Axes>"
      ]
     },
     "metadata": {},
     "output_type": "display_data"
    }
   ],
   "source": [
    "# If the KDE curve for one group (e.g., restaurants that accept online orders) is shifted to the right compared to the other group \n",
    "# then restaurants with online orders tend to have higher ratings\n",
    "# Density  shows how likely certain rating values are for each category (online order \"Yes\" vs. \"No\")\n",
    "sns.displot(new_df, x='rate', hue='online_order',kind='kde')\n",
    "plt.title('Distribution of Ratings by Online Order Status')\n",
    "plt.xlabel('Rating')\n",
    "plt.ylabel('Density')\n",
    "plt.show()"
   ]
  },
  {
   "cell_type": "code",
   "execution_count": 247,
   "id": "f7e870bd-9897-4f24-b9a8-2bf7c3af93a7",
   "metadata": {},
   "outputs": [
    {
     "data": {
      "text/plain": [
       "Index(['name', 'online_order', 'book_table', 'rate', 'votes', 'location',\n",
       "       'rest_type', 'dish_liked', 'cuisines', 'approx_cost(for two people)',\n",
       "       'listed_in(type)'],\n",
       "      dtype='object')"
      ]
     },
     "execution_count": 247,
     "metadata": {},
     "output_type": "execute_result"
    }
   ],
   "source": [
    "new_df.columns"
   ]
  },
  {
   "cell_type": "code",
   "execution_count": 1,
   "id": "c10d0940-5a62-44ae-a140-0b2c2976b0b0",
   "metadata": {},
   "outputs": [
    {
     "ename": "NameError",
     "evalue": "name 'new_df' is not defined",
     "output_type": "error",
     "traceback": [
      "\u001b[1;31m---------------------------------------------------------------------------\u001b[0m",
      "\u001b[1;31mNameError\u001b[0m                                 Traceback (most recent call last)",
      "Cell \u001b[1;32mIn[1], line 1\u001b[0m\n\u001b[1;32m----> 1\u001b[0m agg_data \u001b[38;5;241m=\u001b[39m new_df\u001b[38;5;241m.\u001b[39mgroupby([\u001b[38;5;124m'\u001b[39m\u001b[38;5;124mlocation\u001b[39m\u001b[38;5;124m'\u001b[39m, \u001b[38;5;124m'\u001b[39m\u001b[38;5;124mdish_liked\u001b[39m\u001b[38;5;124m'\u001b[39m])[\u001b[38;5;124m'\u001b[39m\u001b[38;5;124mrate\u001b[39m\u001b[38;5;124m'\u001b[39m]\u001b[38;5;241m.\u001b[39mmean()\u001b[38;5;241m.\u001b[39mreset_index()\n\u001b[0;32m      3\u001b[0m \u001b[38;5;66;03m# Plot the data using seaborn\u001b[39;00m\n\u001b[0;32m      5\u001b[0m sns\u001b[38;5;241m.\u001b[39mbarplot(data\u001b[38;5;241m=\u001b[39magg_data, x\u001b[38;5;241m=\u001b[39m\u001b[38;5;124m'\u001b[39m\u001b[38;5;124mdish_liked\u001b[39m\u001b[38;5;124m'\u001b[39m, y\u001b[38;5;241m=\u001b[39m\u001b[38;5;124m'\u001b[39m\u001b[38;5;124mrate\u001b[39m\u001b[38;5;124m'\u001b[39m, hue\u001b[38;5;241m=\u001b[39m\u001b[38;5;124m'\u001b[39m\u001b[38;5;124mlocation\u001b[39m\u001b[38;5;124m'\u001b[39m, palette\u001b[38;5;241m=\u001b[39m\u001b[38;5;124m'\u001b[39m\u001b[38;5;124mcoolwarm\u001b[39m\u001b[38;5;124m'\u001b[39m)\n",
      "\u001b[1;31mNameError\u001b[0m: name 'new_df' is not defined"
     ]
    }
   ],
   "source": [
    "agg_data = new_df.groupby(['location', 'dish_liked'])['rate'].mean().reset_index()\n",
    "\n",
    "# Plot the data using seaborn\n",
    "\n",
    "sns.barplot(data=agg_data, x='dish_liked', y='rate', hue='location', palette='coolwarm')"
   ]
  },
  {
   "cell_type": "code",
   "execution_count": null,
   "id": "28b106a7-3dac-4e5d-b84d-3c19ea3ce728",
   "metadata": {},
   "outputs": [],
   "source": []
  }
 ],
 "metadata": {
  "kernelspec": {
   "display_name": "Python 3 (ipykernel)",
   "language": "python",
   "name": "python3"
  },
  "language_info": {
   "codemirror_mode": {
    "name": "ipython",
    "version": 3
   },
   "file_extension": ".py",
   "mimetype": "text/x-python",
   "name": "python",
   "nbconvert_exporter": "python",
   "pygments_lexer": "ipython3",
   "version": "3.12.4"
  }
 },
 "nbformat": 4,
 "nbformat_minor": 5
}
